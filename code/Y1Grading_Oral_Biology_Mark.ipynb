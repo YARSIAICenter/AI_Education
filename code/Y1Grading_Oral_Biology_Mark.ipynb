{
  "nbformat": 4,
  "nbformat_minor": 0,
  "metadata": {
    "colab": {
      "provenance": []
    },
    "kernelspec": {
      "name": "python3",
      "display_name": "Python 3"
    },
    "language_info": {
      "name": "python"
    }
  },
  "cells": [
    {
      "cell_type": "markdown",
      "source": [
        "### Connect to Gdrive"
      ],
      "metadata": {
        "id": "kEMn0gTeNPoR"
      }
    },
    {
      "cell_type": "code",
      "execution_count": null,
      "metadata": {
        "colab": {
          "base_uri": "https://localhost:8080/"
        },
        "id": "NqfNEDzyNCGe",
        "outputId": "e54b06bb-a953-4f6b-f7db-c0e2ecc299a0"
      },
      "outputs": [
        {
          "output_type": "stream",
          "name": "stdout",
          "text": [
            "Mounted at /content/drive\n"
          ]
        }
      ],
      "source": [
        "from google.colab import drive\n",
        "drive.mount('/content/drive')"
      ]
    },
    {
      "cell_type": "markdown",
      "source": [
        "### Import Libraries"
      ],
      "metadata": {
        "id": "12xQdtccNaqX"
      }
    },
    {
      "cell_type": "code",
      "source": [
        "import pandas as pd\n",
        "import numpy as np\n",
        "from sklearn.metrics import classification_report, confusion_matrix, log_loss\n",
        "import matplotlib.pyplot as plt"
      ],
      "metadata": {
        "id": "SqpEcJFxNZoo"
      },
      "execution_count": null,
      "outputs": []
    },
    {
      "cell_type": "markdown",
      "source": [
        "## 1. Data Extraction"
      ],
      "metadata": {
        "id": "sQTvCqSbNoBF"
      }
    },
    {
      "cell_type": "markdown",
      "source": [
        "**Extract Data**"
      ],
      "metadata": {
        "id": "tGGXAGnUNutV"
      }
    },
    {
      "cell_type": "code",
      "source": [
        "batch1213_df= pd.read_excel ('/content/drive/MyDrive/AI_education/data/batch1213-data-GRADED.xlsx',\n",
        "                             skiprows=5)\n",
        "batch1213_preuniversity_df= pd.read_excel ('/content/drive/MyDrive/AI_education/data/batch1213-data-GRADED.xlsx',\n",
        "                                           skiprows=4, sheet_name='preuni')\n",
        "batch1213_professional1_df= pd.read_excel ('/content/drive/MyDrive/AI_education/data/batch1213-data-GRADED.xlsx',\n",
        "                                           skiprows=2, sheet_name='pro1')\n",
        "\n",
        "batch1314_df= pd.read_excel ('/content/drive/MyDrive/AI_education/data/batch1314-data-GRADED.xlsx',\n",
        "                             skiprows=5)\n",
        "batch1314_preuniversity_df= pd.read_excel ('/content/drive/MyDrive/AI_education/data/batch1314-data-GRADED.xlsx',\n",
        "                                           skiprows=4, sheet_name='preuni')\n",
        "batch1314_professional1_df= pd.read_excel ('/content/drive/MyDrive/AI_education/data/batch1314-data-GRADED.xlsx',\n",
        "                                           skiprows=5, sheet_name='pro1')\n",
        "\n",
        "batch1415_df= pd.read_excel ('/content/drive/MyDrive/AI_education/data/batch1415-data-GRADED.xlsx',\n",
        "                             skiprows=5)\n",
        "batch1415_preuniversity_df= pd.read_excel ('/content/drive/MyDrive/AI_education/data/batch1415-data-GRADED.xlsx',\n",
        "                                           skiprows=4, sheet_name= 'preuni')\n",
        "batch1415_professional1_df= pd.read_excel ('/content/drive/MyDrive/AI_education/data/batch1415-data-GRADED.xlsx',\n",
        "                                           skiprows=2, sheet_name= 'pro1')\n",
        "\n",
        "batch1516_df= pd.read_excel ('/content/drive/MyDrive/AI_education/data/batch1516-data-graded.xlsx',\n",
        "                             skiprows=5)\n",
        "batch1516_preuniversity_df= pd.read_excel ('/content/drive/MyDrive/AI_education/data/batch1516-data-graded.xlsx',\n",
        "                                           skiprows=4, sheet_name='preuni')\n",
        "batch1516_professional1_df= pd.read_excel ('/content/drive/MyDrive/AI_education/data/batch1516-data-graded.xlsx',\n",
        "                                           skiprows=2, sheet_name='pro1')\n",
        "\n",
        "batch1617_df= pd.read_excel ('/content/drive/MyDrive/AI_education/data/batch1617-data-GRADED.xlsx',\n",
        "                             skiprows=5)\n",
        "batch1617_preuniversity_df= pd.read_excel ('/content/drive/MyDrive/AI_education/data/batch1617-data-GRADED.xlsx',\n",
        "                                           skiprows=5, sheet_name= 'preuni')\n",
        "batch1617_professional1_df= pd.read_excel ('/content/drive/MyDrive/AI_education/data/batch1617-data-GRADED.xlsx',\n",
        "                                           skiprows=5, sheet_name= 'pro1')\n"
      ],
      "metadata": {
        "id": "YW7M_A5sNmD_"
      },
      "execution_count": null,
      "outputs": []
    },
    {
      "cell_type": "code",
      "source": [
        "batch1213_part1_df = pd.merge(batch1213_df,\n",
        "                              batch1213_preuniversity_df,\n",
        "                              on = \"STUDENT'S IDENTITY NO. \")\n",
        "batch1213_part2_df = batch1213_professional1_df\n",
        "batch1213_all_df = pd.merge(batch1213_part1_df,\n",
        "                               batch1213_part2_df,\n",
        "                               on = \"STUDENT'S IDENTITY NO. \")\n",
        "\n",
        "\n",
        "batch1314_part1_df = pd.merge(batch1314_df,\n",
        "                              batch1314_preuniversity_df,\n",
        "                              on = \"STUDENT'S IDENTITY NO. \")\n",
        "batch1314_part2_df = batch1314_professional1_df\n",
        "\n",
        "batch1314_all_df = pd.merge(batch1314_part1_df,\n",
        "                               batch1314_part2_df,\n",
        "                               on = \"STUDENT'S IDENTITY NO. \")\n",
        "\n",
        "\n",
        "batch1415_part1_df = pd.merge(batch1415_df,\n",
        "                              batch1415_preuniversity_df,\n",
        "                              on = \"STUDENT'S IDENTITY NO. \")\n",
        "batch1415_part2_df = batch1415_professional1_df\n",
        "\n",
        "batch1415_all_df = pd.merge(batch1415_part1_df,\n",
        "                            batch1415_part2_df,\n",
        "                            on = \"STUDENT'S IDENTITY NO. \")\n",
        "\n",
        "\n",
        "batch1516_part1_df = pd.merge(batch1516_df,\n",
        "                              batch1516_preuniversity_df,\n",
        "                              on = \"STUDENT'S IDENTITY NO. \")\n",
        "batch1516_part2_df = batch1516_professional1_df\n",
        "\n",
        "batch1516_all_df = pd.merge(batch1516_part1_df,\n",
        "                            batch1516_part2_df,\n",
        "                            on = \"STUDENT'S IDENTITY NO. \")\n",
        "\n",
        "\n",
        "batch1617_part1_df = pd.merge(batch1617_df,\n",
        "                              batch1617_preuniversity_df,\n",
        "                              on = \"STUDENT'S IDENTITY NO. \")\n",
        "\n",
        "batch1617_part2_df = batch1617_professional1_df\n",
        "\n",
        "batch1617_all_df = pd.merge(batch1617_part1_df,\n",
        "                            batch1617_part2_df,\n",
        "                            on = \"STUDENT'S IDENTITY NO. \")\n",
        "\n"
      ],
      "metadata": {
        "id": "3Tm77_zGN3oM"
      },
      "execution_count": null,
      "outputs": []
    },
    {
      "cell_type": "markdown",
      "source": [
        "## 2. Data Preparation"
      ],
      "metadata": {
        "id": "ehmzg2P8N9gx"
      }
    },
    {
      "cell_type": "markdown",
      "source": [
        "**Combine Preprocessed Data**"
      ],
      "metadata": {
        "id": "HuYK2AVEOCBN"
      }
    },
    {
      "cell_type": "code",
      "source": [
        "data_df = pd.concat([batch1213_all_df, batch1314_all_df, batch1415_all_df, batch1516_all_df, batch1617_all_df])\n",
        "data_df.head()"
      ],
      "metadata": {
        "id": "sGhrbWVaN8U2",
        "colab": {
          "base_uri": "https://localhost:8080/",
          "height": 308
        },
        "outputId": "12b2d517-1574-4fd3-c493-d8de484917cd"
      },
      "execution_count": null,
      "outputs": [
        {
          "output_type": "execute_result",
          "data": {
            "text/plain": [
              "   NO._x STUDENT'S IDENTITY NO.   LAST DIGIT MATRIC NO.  GENDER  \\\n",
              "0      1                11-12-10                      7    MALE   \n",
              "1      2                12-13-01                      8  FEMALE   \n",
              "2      3                12-13-02                      6  FEMALE   \n",
              "3      4                12-13-03                      6  FEMALE   \n",
              "4      5                12-13-04                      4  FEMALE   \n",
              "\n",
              "   AGE DURING ADMISSION BIRTH DATE  MIDDLE IC NO.  DISTRICT POSCODE     STATE  \\\n",
              "0                   NaN        NaN            NaN       NaN     NaN       NaN   \n",
              "1                  21.0     911122           14.0       NaN     NaN       NaN   \n",
              "2                  20.0     920816            3.0    BACHOK   16370  KELANTAN   \n",
              "3                  20.0     920522            6.0  JERANTUT   27020    PAHANG   \n",
              "4                  20.0     920625            8.0   PUCHONG   47100  SELANGOR   \n",
              "\n",
              "   ... SEM 6  ORAL BIOLOGY RESIT RESIT STATUS   SEM 4  ANATOMY RESIT  \\\n",
              "0  ...   NaN                 NaN          NaN     NaN            NaN   \n",
              "1  ...   NaN                 NaN          NaN     NaN            NaN   \n",
              "2  ...   NaN                 NaN          NaN     NaN            NaN   \n",
              "3  ...   NaN                 NaN          NaN     NaN            NaN   \n",
              "4  ...   NaN                 NaN          NaN     NaN            NaN   \n",
              "\n",
              "   PHYSIOLOGY RESIT  RESIT STATUS.1  BIOCHEMISTRY RESIT  RESIT STATUS.2  \\\n",
              "0               NaN             NaN                 NaN             NaN   \n",
              "1               NaN             NaN                 NaN             NaN   \n",
              "2               NaN             NaN                 NaN             NaN   \n",
              "3               NaN             NaN                 NaN             NaN   \n",
              "4               NaN             NaN                 NaN             NaN   \n",
              "\n",
              "   RESIT STATUS.3  \n",
              "0             NaN  \n",
              "1             NaN  \n",
              "2             NaN  \n",
              "3             NaN  \n",
              "4             NaN  \n",
              "\n",
              "[5 rows x 46 columns]"
            ],
            "text/html": [
              "\n",
              "  <div id=\"df-a8f4a019-d582-4733-ae7e-b1cc04410052\" class=\"colab-df-container\">\n",
              "    <div>\n",
              "<style scoped>\n",
              "    .dataframe tbody tr th:only-of-type {\n",
              "        vertical-align: middle;\n",
              "    }\n",
              "\n",
              "    .dataframe tbody tr th {\n",
              "        vertical-align: top;\n",
              "    }\n",
              "\n",
              "    .dataframe thead th {\n",
              "        text-align: right;\n",
              "    }\n",
              "</style>\n",
              "<table border=\"1\" class=\"dataframe\">\n",
              "  <thead>\n",
              "    <tr style=\"text-align: right;\">\n",
              "      <th></th>\n",
              "      <th>NO._x</th>\n",
              "      <th>STUDENT'S IDENTITY NO.</th>\n",
              "      <th>LAST DIGIT MATRIC NO.</th>\n",
              "      <th>GENDER</th>\n",
              "      <th>AGE DURING ADMISSION</th>\n",
              "      <th>BIRTH DATE</th>\n",
              "      <th>MIDDLE IC NO.</th>\n",
              "      <th>DISTRICT</th>\n",
              "      <th>POSCODE</th>\n",
              "      <th>STATE</th>\n",
              "      <th>...</th>\n",
              "      <th>SEM 6</th>\n",
              "      <th>ORAL BIOLOGY RESIT</th>\n",
              "      <th>RESIT STATUS</th>\n",
              "      <th>SEM 4</th>\n",
              "      <th>ANATOMY RESIT</th>\n",
              "      <th>PHYSIOLOGY RESIT</th>\n",
              "      <th>RESIT STATUS.1</th>\n",
              "      <th>BIOCHEMISTRY RESIT</th>\n",
              "      <th>RESIT STATUS.2</th>\n",
              "      <th>RESIT STATUS.3</th>\n",
              "    </tr>\n",
              "  </thead>\n",
              "  <tbody>\n",
              "    <tr>\n",
              "      <th>0</th>\n",
              "      <td>1</td>\n",
              "      <td>11-12-10</td>\n",
              "      <td>7</td>\n",
              "      <td>MALE</td>\n",
              "      <td>NaN</td>\n",
              "      <td>NaN</td>\n",
              "      <td>NaN</td>\n",
              "      <td>NaN</td>\n",
              "      <td>NaN</td>\n",
              "      <td>NaN</td>\n",
              "      <td>...</td>\n",
              "      <td>NaN</td>\n",
              "      <td>NaN</td>\n",
              "      <td>NaN</td>\n",
              "      <td>NaN</td>\n",
              "      <td>NaN</td>\n",
              "      <td>NaN</td>\n",
              "      <td>NaN</td>\n",
              "      <td>NaN</td>\n",
              "      <td>NaN</td>\n",
              "      <td>NaN</td>\n",
              "    </tr>\n",
              "    <tr>\n",
              "      <th>1</th>\n",
              "      <td>2</td>\n",
              "      <td>12-13-01</td>\n",
              "      <td>8</td>\n",
              "      <td>FEMALE</td>\n",
              "      <td>21.0</td>\n",
              "      <td>911122</td>\n",
              "      <td>14.0</td>\n",
              "      <td>NaN</td>\n",
              "      <td>NaN</td>\n",
              "      <td>NaN</td>\n",
              "      <td>...</td>\n",
              "      <td>NaN</td>\n",
              "      <td>NaN</td>\n",
              "      <td>NaN</td>\n",
              "      <td>NaN</td>\n",
              "      <td>NaN</td>\n",
              "      <td>NaN</td>\n",
              "      <td>NaN</td>\n",
              "      <td>NaN</td>\n",
              "      <td>NaN</td>\n",
              "      <td>NaN</td>\n",
              "    </tr>\n",
              "    <tr>\n",
              "      <th>2</th>\n",
              "      <td>3</td>\n",
              "      <td>12-13-02</td>\n",
              "      <td>6</td>\n",
              "      <td>FEMALE</td>\n",
              "      <td>20.0</td>\n",
              "      <td>920816</td>\n",
              "      <td>3.0</td>\n",
              "      <td>BACHOK</td>\n",
              "      <td>16370</td>\n",
              "      <td>KELANTAN</td>\n",
              "      <td>...</td>\n",
              "      <td>NaN</td>\n",
              "      <td>NaN</td>\n",
              "      <td>NaN</td>\n",
              "      <td>NaN</td>\n",
              "      <td>NaN</td>\n",
              "      <td>NaN</td>\n",
              "      <td>NaN</td>\n",
              "      <td>NaN</td>\n",
              "      <td>NaN</td>\n",
              "      <td>NaN</td>\n",
              "    </tr>\n",
              "    <tr>\n",
              "      <th>3</th>\n",
              "      <td>4</td>\n",
              "      <td>12-13-03</td>\n",
              "      <td>6</td>\n",
              "      <td>FEMALE</td>\n",
              "      <td>20.0</td>\n",
              "      <td>920522</td>\n",
              "      <td>6.0</td>\n",
              "      <td>JERANTUT</td>\n",
              "      <td>27020</td>\n",
              "      <td>PAHANG</td>\n",
              "      <td>...</td>\n",
              "      <td>NaN</td>\n",
              "      <td>NaN</td>\n",
              "      <td>NaN</td>\n",
              "      <td>NaN</td>\n",
              "      <td>NaN</td>\n",
              "      <td>NaN</td>\n",
              "      <td>NaN</td>\n",
              "      <td>NaN</td>\n",
              "      <td>NaN</td>\n",
              "      <td>NaN</td>\n",
              "    </tr>\n",
              "    <tr>\n",
              "      <th>4</th>\n",
              "      <td>5</td>\n",
              "      <td>12-13-04</td>\n",
              "      <td>4</td>\n",
              "      <td>FEMALE</td>\n",
              "      <td>20.0</td>\n",
              "      <td>920625</td>\n",
              "      <td>8.0</td>\n",
              "      <td>PUCHONG</td>\n",
              "      <td>47100</td>\n",
              "      <td>SELANGOR</td>\n",
              "      <td>...</td>\n",
              "      <td>NaN</td>\n",
              "      <td>NaN</td>\n",
              "      <td>NaN</td>\n",
              "      <td>NaN</td>\n",
              "      <td>NaN</td>\n",
              "      <td>NaN</td>\n",
              "      <td>NaN</td>\n",
              "      <td>NaN</td>\n",
              "      <td>NaN</td>\n",
              "      <td>NaN</td>\n",
              "    </tr>\n",
              "  </tbody>\n",
              "</table>\n",
              "<p>5 rows × 46 columns</p>\n",
              "</div>\n",
              "    <div class=\"colab-df-buttons\">\n",
              "\n",
              "  <div class=\"colab-df-container\">\n",
              "    <button class=\"colab-df-convert\" onclick=\"convertToInteractive('df-a8f4a019-d582-4733-ae7e-b1cc04410052')\"\n",
              "            title=\"Convert this dataframe to an interactive table.\"\n",
              "            style=\"display:none;\">\n",
              "\n",
              "  <svg xmlns=\"http://www.w3.org/2000/svg\" height=\"24px\" viewBox=\"0 -960 960 960\">\n",
              "    <path d=\"M120-120v-720h720v720H120Zm60-500h600v-160H180v160Zm220 220h160v-160H400v160Zm0 220h160v-160H400v160ZM180-400h160v-160H180v160Zm440 0h160v-160H620v160ZM180-180h160v-160H180v160Zm440 0h160v-160H620v160Z\"/>\n",
              "  </svg>\n",
              "    </button>\n",
              "\n",
              "  <style>\n",
              "    .colab-df-container {\n",
              "      display:flex;\n",
              "      gap: 12px;\n",
              "    }\n",
              "\n",
              "    .colab-df-convert {\n",
              "      background-color: #E8F0FE;\n",
              "      border: none;\n",
              "      border-radius: 50%;\n",
              "      cursor: pointer;\n",
              "      display: none;\n",
              "      fill: #1967D2;\n",
              "      height: 32px;\n",
              "      padding: 0 0 0 0;\n",
              "      width: 32px;\n",
              "    }\n",
              "\n",
              "    .colab-df-convert:hover {\n",
              "      background-color: #E2EBFA;\n",
              "      box-shadow: 0px 1px 2px rgba(60, 64, 67, 0.3), 0px 1px 3px 1px rgba(60, 64, 67, 0.15);\n",
              "      fill: #174EA6;\n",
              "    }\n",
              "\n",
              "    .colab-df-buttons div {\n",
              "      margin-bottom: 4px;\n",
              "    }\n",
              "\n",
              "    [theme=dark] .colab-df-convert {\n",
              "      background-color: #3B4455;\n",
              "      fill: #D2E3FC;\n",
              "    }\n",
              "\n",
              "    [theme=dark] .colab-df-convert:hover {\n",
              "      background-color: #434B5C;\n",
              "      box-shadow: 0px 1px 3px 1px rgba(0, 0, 0, 0.15);\n",
              "      filter: drop-shadow(0px 1px 2px rgba(0, 0, 0, 0.3));\n",
              "      fill: #FFFFFF;\n",
              "    }\n",
              "  </style>\n",
              "\n",
              "    <script>\n",
              "      const buttonEl =\n",
              "        document.querySelector('#df-a8f4a019-d582-4733-ae7e-b1cc04410052 button.colab-df-convert');\n",
              "      buttonEl.style.display =\n",
              "        google.colab.kernel.accessAllowed ? 'block' : 'none';\n",
              "\n",
              "      async function convertToInteractive(key) {\n",
              "        const element = document.querySelector('#df-a8f4a019-d582-4733-ae7e-b1cc04410052');\n",
              "        const dataTable =\n",
              "          await google.colab.kernel.invokeFunction('convertToInteractive',\n",
              "                                                    [key], {});\n",
              "        if (!dataTable) return;\n",
              "\n",
              "        const docLinkHtml = 'Like what you see? Visit the ' +\n",
              "          '<a target=\"_blank\" href=https://colab.research.google.com/notebooks/data_table.ipynb>data table notebook</a>'\n",
              "          + ' to learn more about interactive tables.';\n",
              "        element.innerHTML = '';\n",
              "        dataTable['output_type'] = 'display_data';\n",
              "        await google.colab.output.renderOutput(dataTable, element);\n",
              "        const docLink = document.createElement('div');\n",
              "        docLink.innerHTML = docLinkHtml;\n",
              "        element.appendChild(docLink);\n",
              "      }\n",
              "    </script>\n",
              "  </div>\n",
              "\n",
              "\n",
              "<div id=\"df-14757ca6-b2ec-41fc-830e-6b02c261c220\">\n",
              "  <button class=\"colab-df-quickchart\" onclick=\"quickchart('df-14757ca6-b2ec-41fc-830e-6b02c261c220')\"\n",
              "            title=\"Suggest charts\"\n",
              "            style=\"display:none;\">\n",
              "\n",
              "<svg xmlns=\"http://www.w3.org/2000/svg\" height=\"24px\"viewBox=\"0 0 24 24\"\n",
              "     width=\"24px\">\n",
              "    <g>\n",
              "        <path d=\"M19 3H5c-1.1 0-2 .9-2 2v14c0 1.1.9 2 2 2h14c1.1 0 2-.9 2-2V5c0-1.1-.9-2-2-2zM9 17H7v-7h2v7zm4 0h-2V7h2v10zm4 0h-2v-4h2v4z\"/>\n",
              "    </g>\n",
              "</svg>\n",
              "  </button>\n",
              "\n",
              "<style>\n",
              "  .colab-df-quickchart {\n",
              "      --bg-color: #E8F0FE;\n",
              "      --fill-color: #1967D2;\n",
              "      --hover-bg-color: #E2EBFA;\n",
              "      --hover-fill-color: #174EA6;\n",
              "      --disabled-fill-color: #AAA;\n",
              "      --disabled-bg-color: #DDD;\n",
              "  }\n",
              "\n",
              "  [theme=dark] .colab-df-quickchart {\n",
              "      --bg-color: #3B4455;\n",
              "      --fill-color: #D2E3FC;\n",
              "      --hover-bg-color: #434B5C;\n",
              "      --hover-fill-color: #FFFFFF;\n",
              "      --disabled-bg-color: #3B4455;\n",
              "      --disabled-fill-color: #666;\n",
              "  }\n",
              "\n",
              "  .colab-df-quickchart {\n",
              "    background-color: var(--bg-color);\n",
              "    border: none;\n",
              "    border-radius: 50%;\n",
              "    cursor: pointer;\n",
              "    display: none;\n",
              "    fill: var(--fill-color);\n",
              "    height: 32px;\n",
              "    padding: 0;\n",
              "    width: 32px;\n",
              "  }\n",
              "\n",
              "  .colab-df-quickchart:hover {\n",
              "    background-color: var(--hover-bg-color);\n",
              "    box-shadow: 0 1px 2px rgba(60, 64, 67, 0.3), 0 1px 3px 1px rgba(60, 64, 67, 0.15);\n",
              "    fill: var(--button-hover-fill-color);\n",
              "  }\n",
              "\n",
              "  .colab-df-quickchart-complete:disabled,\n",
              "  .colab-df-quickchart-complete:disabled:hover {\n",
              "    background-color: var(--disabled-bg-color);\n",
              "    fill: var(--disabled-fill-color);\n",
              "    box-shadow: none;\n",
              "  }\n",
              "\n",
              "  .colab-df-spinner {\n",
              "    border: 2px solid var(--fill-color);\n",
              "    border-color: transparent;\n",
              "    border-bottom-color: var(--fill-color);\n",
              "    animation:\n",
              "      spin 1s steps(1) infinite;\n",
              "  }\n",
              "\n",
              "  @keyframes spin {\n",
              "    0% {\n",
              "      border-color: transparent;\n",
              "      border-bottom-color: var(--fill-color);\n",
              "      border-left-color: var(--fill-color);\n",
              "    }\n",
              "    20% {\n",
              "      border-color: transparent;\n",
              "      border-left-color: var(--fill-color);\n",
              "      border-top-color: var(--fill-color);\n",
              "    }\n",
              "    30% {\n",
              "      border-color: transparent;\n",
              "      border-left-color: var(--fill-color);\n",
              "      border-top-color: var(--fill-color);\n",
              "      border-right-color: var(--fill-color);\n",
              "    }\n",
              "    40% {\n",
              "      border-color: transparent;\n",
              "      border-right-color: var(--fill-color);\n",
              "      border-top-color: var(--fill-color);\n",
              "    }\n",
              "    60% {\n",
              "      border-color: transparent;\n",
              "      border-right-color: var(--fill-color);\n",
              "    }\n",
              "    80% {\n",
              "      border-color: transparent;\n",
              "      border-right-color: var(--fill-color);\n",
              "      border-bottom-color: var(--fill-color);\n",
              "    }\n",
              "    90% {\n",
              "      border-color: transparent;\n",
              "      border-bottom-color: var(--fill-color);\n",
              "    }\n",
              "  }\n",
              "</style>\n",
              "\n",
              "  <script>\n",
              "    async function quickchart(key) {\n",
              "      const quickchartButtonEl =\n",
              "        document.querySelector('#' + key + ' button');\n",
              "      quickchartButtonEl.disabled = true;  // To prevent multiple clicks.\n",
              "      quickchartButtonEl.classList.add('colab-df-spinner');\n",
              "      try {\n",
              "        const charts = await google.colab.kernel.invokeFunction(\n",
              "            'suggestCharts', [key], {});\n",
              "      } catch (error) {\n",
              "        console.error('Error during call to suggestCharts:', error);\n",
              "      }\n",
              "      quickchartButtonEl.classList.remove('colab-df-spinner');\n",
              "      quickchartButtonEl.classList.add('colab-df-quickchart-complete');\n",
              "    }\n",
              "    (() => {\n",
              "      let quickchartButtonEl =\n",
              "        document.querySelector('#df-14757ca6-b2ec-41fc-830e-6b02c261c220 button');\n",
              "      quickchartButtonEl.style.display =\n",
              "        google.colab.kernel.accessAllowed ? 'block' : 'none';\n",
              "    })();\n",
              "  </script>\n",
              "</div>\n",
              "    </div>\n",
              "  </div>\n"
            ],
            "application/vnd.google.colaboratory.intrinsic+json": {
              "type": "dataframe",
              "variable_name": "data_df"
            }
          },
          "metadata": {},
          "execution_count": 5
        }
      ]
    },
    {
      "cell_type": "code",
      "source": [
        "data_df.info()"
      ],
      "metadata": {
        "id": "eeR_q9jZOLHF",
        "colab": {
          "base_uri": "https://localhost:8080/"
        },
        "outputId": "718c3ea7-7d3c-49d5-eb49-bd58b020f05c"
      },
      "execution_count": null,
      "outputs": [
        {
          "output_type": "stream",
          "name": "stdout",
          "text": [
            "<class 'pandas.core.frame.DataFrame'>\n",
            "Index: 285 entries, 0 to 58\n",
            "Data columns (total 46 columns):\n",
            " #   Column                   Non-Null Count  Dtype  \n",
            "---  ------                   --------------  -----  \n",
            " 0   NO._x                    285 non-null    int64  \n",
            " 1   STUDENT'S IDENTITY NO.   285 non-null    object \n",
            " 2   LAST DIGIT MATRIC NO.    285 non-null    int64  \n",
            " 3   GENDER                   285 non-null    object \n",
            " 4   AGE DURING ADMISSION     278 non-null    float64\n",
            " 5   BIRTH DATE               220 non-null    object \n",
            " 6   MIDDLE IC NO.            59 non-null     float64\n",
            " 7   DISTRICT                 277 non-null    object \n",
            " 8   POSCODE                  268 non-null    object \n",
            " 9   STATE                    279 non-null    object \n",
            " 10  COUNTRY                  281 non-null    object \n",
            " 11  NO._y                    285 non-null    int64  \n",
            " 12  PRE-UNIVERSITY           264 non-null    object \n",
            " 13   SEM 1                   258 non-null    float64\n",
            " 14  SEM 2                    258 non-null    float64\n",
            " 15  SEM 3                    258 non-null    float64\n",
            " 16  SEM 4                    191 non-null    float64\n",
            " 17  SEM 5                    127 non-null    float64\n",
            " 18  TOTAL_SEM                258 non-null    float64\n",
            " 19  AVERAGE_CGPA             258 non-null    float64\n",
            " 20  FINAL_CGPA               258 non-null    float64\n",
            " 21  NO.                      285 non-null    float64\n",
            " 22  ANATOMY MARK             285 non-null    float64\n",
            " 23  GRADING                  285 non-null    object \n",
            " 24  ANATOMY STATUS           285 non-null    object \n",
            " 25  PHYSIOLOGY MARK          285 non-null    float64\n",
            " 26  GRADING.1                285 non-null    object \n",
            " 27  PHYSIOLOGY STATUS        285 non-null    object \n",
            " 28  BIOCHEMISTRY MARK        285 non-null    float64\n",
            " 29  GRADING.2                285 non-null    object \n",
            " 30  BIOCHEMISTRY STATUS      285 non-null    object \n",
            " 31  ORAL BIOLOGY MARK        285 non-null    float64\n",
            " 32  GRADING.3                285 non-null    object \n",
            " 33  ORAL BIOLOGY STATUS      285 non-null    object \n",
            " 34   BIRTH DATE              59 non-null     float64\n",
            " 35  MIDDLE I/C NO.           220 non-null    object \n",
            " 36  SEM 6                    5 non-null      float64\n",
            " 37  ORAL BIOLOGY RESIT       2 non-null      object \n",
            " 38  RESIT STATUS             7 non-null      object \n",
            " 39   SEM 4                   44 non-null     float64\n",
            " 40  ANATOMY RESIT            6 non-null      float64\n",
            " 41  PHYSIOLOGY RESIT         1 non-null      float64\n",
            " 42  RESIT STATUS.1           1 non-null      object \n",
            " 43  BIOCHEMISTRY RESIT       5 non-null      float64\n",
            " 44  RESIT STATUS.2           5 non-null      object \n",
            " 45  RESIT STATUS.3           1 non-null      object \n",
            "dtypes: float64(21), int64(3), object(22)\n",
            "memory usage: 104.6+ KB\n"
          ]
        }
      ]
    },
    {
      "cell_type": "code",
      "source": [
        "df_copy = data_df.copy()"
      ],
      "metadata": {
        "id": "Lnt0EoJWOOO6"
      },
      "execution_count": null,
      "outputs": []
    },
    {
      "cell_type": "markdown",
      "source": [
        "**Cek missing value**"
      ],
      "metadata": {
        "id": "kWBXQhIWOmw7"
      }
    },
    {
      "cell_type": "code",
      "source": [
        "df_copy.isnull().sum()"
      ],
      "metadata": {
        "id": "Ki6RSm6zOSVm",
        "colab": {
          "base_uri": "https://localhost:8080/"
        },
        "outputId": "224a5214-3a34-43ca-aee7-e8cb01750e14"
      },
      "execution_count": null,
      "outputs": [
        {
          "output_type": "execute_result",
          "data": {
            "text/plain": [
              "NO._x                        0\n",
              "STUDENT'S IDENTITY NO.       0\n",
              "LAST DIGIT MATRIC NO.        0\n",
              "GENDER                       0\n",
              "AGE DURING ADMISSION         7\n",
              "BIRTH DATE                  65\n",
              "MIDDLE IC NO.              226\n",
              "DISTRICT                     8\n",
              "POSCODE                     17\n",
              "STATE                        6\n",
              "COUNTRY                      4\n",
              "NO._y                        0\n",
              "PRE-UNIVERSITY              21\n",
              " SEM 1                      27\n",
              "SEM 2                       27\n",
              "SEM 3                       27\n",
              "SEM 4                       94\n",
              "SEM 5                      158\n",
              "TOTAL_SEM                   27\n",
              "AVERAGE_CGPA                27\n",
              "FINAL_CGPA                  27\n",
              "NO.                          0\n",
              "ANATOMY MARK                 0\n",
              "GRADING                      0\n",
              "ANATOMY STATUS               0\n",
              "PHYSIOLOGY MARK              0\n",
              "GRADING.1                    0\n",
              "PHYSIOLOGY STATUS            0\n",
              "BIOCHEMISTRY MARK            0\n",
              "GRADING.2                    0\n",
              "BIOCHEMISTRY STATUS          0\n",
              "ORAL BIOLOGY MARK            0\n",
              "GRADING.3                    0\n",
              "ORAL BIOLOGY STATUS          0\n",
              " BIRTH DATE                226\n",
              "MIDDLE I/C NO.              65\n",
              "SEM 6                      280\n",
              "ORAL BIOLOGY RESIT         283\n",
              "RESIT STATUS               278\n",
              " SEM 4                     241\n",
              "ANATOMY RESIT              279\n",
              "PHYSIOLOGY RESIT           284\n",
              "RESIT STATUS.1             284\n",
              "BIOCHEMISTRY RESIT         280\n",
              "RESIT STATUS.2             280\n",
              "RESIT STATUS.3             284\n",
              "dtype: int64"
            ]
          },
          "metadata": {},
          "execution_count": 8
        }
      ]
    },
    {
      "cell_type": "markdown",
      "source": [
        "**Remove unncessary variables**"
      ],
      "metadata": {
        "id": "DapfPl6rO2bB"
      }
    },
    {
      "cell_type": "code",
      "source": [
        "df_copy = df_copy.drop(['RESIT STATUS.3', 'RESIT STATUS.1','PHYSIOLOGY RESIT','ORAL BIOLOGY RESIT','RESIT STATUS.2','BIOCHEMISTRY RESIT','SEM 6',\n",
        "              'ANATOMY RESIT','RESIT STATUS','BIRTH DATE','SEM 4','MIDDLE IC NO.','SEM 5',' SEM 4', ' BIRTH DATE', 'NO._x', 'LAST DIGIT MATRIC NO.', 'NO._y', 'NO.','DISTRICT', 'STATE', 'COUNTRY','PRE-UNIVERSITY','ANATOMY STATUS','PHYSIOLOGY STATUS',\n",
        "         'ORAL BIOLOGY STATUS', 'BIOCHEMISTRY STATUS'], axis=1)"
      ],
      "metadata": {
        "id": "abmYTW6-Oxbm"
      },
      "execution_count": null,
      "outputs": []
    },
    {
      "cell_type": "code",
      "source": [
        "df_copy = df_copy.drop(['GENDER', 'POSCODE', ' SEM 1', 'SEM 2', 'SEM 3', 'ANATOMY MARK', 'PHYSIOLOGY MARK', 'GRADING', 'BIOCHEMISTRY MARK', 'GRADING.1', 'ORAL BIOLOGY MARK', 'GRADING.2', 'MIDDLE I/C NO.'], axis=1)"
      ],
      "metadata": {
        "id": "Y6Uh3sJ4rvw4"
      },
      "execution_count": null,
      "outputs": []
    },
    {
      "cell_type": "code",
      "source": [
        "df_copy = df_copy.drop(\"STUDENT'S IDENTITY NO. \", axis=1)"
      ],
      "metadata": {
        "id": "o2q0YX8lrwE2"
      },
      "execution_count": null,
      "outputs": []
    },
    {
      "cell_type": "markdown",
      "source": [
        "**Handling Missing values**"
      ],
      "metadata": {
        "id": "hwEL4dNlPoDi"
      }
    },
    {
      "cell_type": "code",
      "source": [
        "df_data = df_copy.dropna()"
      ],
      "metadata": {
        "id": "G3RDpxg-ruSS"
      },
      "execution_count": null,
      "outputs": []
    },
    {
      "cell_type": "code",
      "source": [
        "df_data.isnull().sum()"
      ],
      "metadata": {
        "id": "EAPPAuuXr8Z7",
        "colab": {
          "base_uri": "https://localhost:8080/"
        },
        "outputId": "178a7717-c666-4968-a090-c83f60a6759f"
      },
      "execution_count": null,
      "outputs": [
        {
          "output_type": "execute_result",
          "data": {
            "text/plain": [
              "AGE DURING ADMISSION    0\n",
              "TOTAL_SEM               0\n",
              "AVERAGE_CGPA            0\n",
              "FINAL_CGPA              0\n",
              "GRADING.3               0\n",
              "dtype: int64"
            ]
          },
          "metadata": {},
          "execution_count": 13
        }
      ]
    },
    {
      "cell_type": "code",
      "source": [
        "df_data.head()"
      ],
      "metadata": {
        "id": "oUF9--jOQfXj",
        "colab": {
          "base_uri": "https://localhost:8080/",
          "height": 206
        },
        "outputId": "6b7629d0-5785-4844-b20a-abcba6220562"
      },
      "execution_count": null,
      "outputs": [
        {
          "output_type": "execute_result",
          "data": {
            "text/plain": [
              "   AGE DURING ADMISSION  TOTAL_SEM  AVERAGE_CGPA  FINAL_CGPA GRADING.3\n",
              "1                  21.0        4.0        3.4825        3.63         C\n",
              "2                  20.0        5.0        3.6980        3.72         B\n",
              "3                  20.0        5.0        3.4600        3.60         C\n",
              "4                  20.0        5.0        3.6820        3.79         B\n",
              "5                  20.0        5.0        3.5260        3.68         C"
            ],
            "text/html": [
              "\n",
              "  <div id=\"df-6c94cf3d-e815-479b-8938-fce99c5b35f9\" class=\"colab-df-container\">\n",
              "    <div>\n",
              "<style scoped>\n",
              "    .dataframe tbody tr th:only-of-type {\n",
              "        vertical-align: middle;\n",
              "    }\n",
              "\n",
              "    .dataframe tbody tr th {\n",
              "        vertical-align: top;\n",
              "    }\n",
              "\n",
              "    .dataframe thead th {\n",
              "        text-align: right;\n",
              "    }\n",
              "</style>\n",
              "<table border=\"1\" class=\"dataframe\">\n",
              "  <thead>\n",
              "    <tr style=\"text-align: right;\">\n",
              "      <th></th>\n",
              "      <th>AGE DURING ADMISSION</th>\n",
              "      <th>TOTAL_SEM</th>\n",
              "      <th>AVERAGE_CGPA</th>\n",
              "      <th>FINAL_CGPA</th>\n",
              "      <th>GRADING.3</th>\n",
              "    </tr>\n",
              "  </thead>\n",
              "  <tbody>\n",
              "    <tr>\n",
              "      <th>1</th>\n",
              "      <td>21.0</td>\n",
              "      <td>4.0</td>\n",
              "      <td>3.4825</td>\n",
              "      <td>3.63</td>\n",
              "      <td>C</td>\n",
              "    </tr>\n",
              "    <tr>\n",
              "      <th>2</th>\n",
              "      <td>20.0</td>\n",
              "      <td>5.0</td>\n",
              "      <td>3.6980</td>\n",
              "      <td>3.72</td>\n",
              "      <td>B</td>\n",
              "    </tr>\n",
              "    <tr>\n",
              "      <th>3</th>\n",
              "      <td>20.0</td>\n",
              "      <td>5.0</td>\n",
              "      <td>3.4600</td>\n",
              "      <td>3.60</td>\n",
              "      <td>C</td>\n",
              "    </tr>\n",
              "    <tr>\n",
              "      <th>4</th>\n",
              "      <td>20.0</td>\n",
              "      <td>5.0</td>\n",
              "      <td>3.6820</td>\n",
              "      <td>3.79</td>\n",
              "      <td>B</td>\n",
              "    </tr>\n",
              "    <tr>\n",
              "      <th>5</th>\n",
              "      <td>20.0</td>\n",
              "      <td>5.0</td>\n",
              "      <td>3.5260</td>\n",
              "      <td>3.68</td>\n",
              "      <td>C</td>\n",
              "    </tr>\n",
              "  </tbody>\n",
              "</table>\n",
              "</div>\n",
              "    <div class=\"colab-df-buttons\">\n",
              "\n",
              "  <div class=\"colab-df-container\">\n",
              "    <button class=\"colab-df-convert\" onclick=\"convertToInteractive('df-6c94cf3d-e815-479b-8938-fce99c5b35f9')\"\n",
              "            title=\"Convert this dataframe to an interactive table.\"\n",
              "            style=\"display:none;\">\n",
              "\n",
              "  <svg xmlns=\"http://www.w3.org/2000/svg\" height=\"24px\" viewBox=\"0 -960 960 960\">\n",
              "    <path d=\"M120-120v-720h720v720H120Zm60-500h600v-160H180v160Zm220 220h160v-160H400v160Zm0 220h160v-160H400v160ZM180-400h160v-160H180v160Zm440 0h160v-160H620v160ZM180-180h160v-160H180v160Zm440 0h160v-160H620v160Z\"/>\n",
              "  </svg>\n",
              "    </button>\n",
              "\n",
              "  <style>\n",
              "    .colab-df-container {\n",
              "      display:flex;\n",
              "      gap: 12px;\n",
              "    }\n",
              "\n",
              "    .colab-df-convert {\n",
              "      background-color: #E8F0FE;\n",
              "      border: none;\n",
              "      border-radius: 50%;\n",
              "      cursor: pointer;\n",
              "      display: none;\n",
              "      fill: #1967D2;\n",
              "      height: 32px;\n",
              "      padding: 0 0 0 0;\n",
              "      width: 32px;\n",
              "    }\n",
              "\n",
              "    .colab-df-convert:hover {\n",
              "      background-color: #E2EBFA;\n",
              "      box-shadow: 0px 1px 2px rgba(60, 64, 67, 0.3), 0px 1px 3px 1px rgba(60, 64, 67, 0.15);\n",
              "      fill: #174EA6;\n",
              "    }\n",
              "\n",
              "    .colab-df-buttons div {\n",
              "      margin-bottom: 4px;\n",
              "    }\n",
              "\n",
              "    [theme=dark] .colab-df-convert {\n",
              "      background-color: #3B4455;\n",
              "      fill: #D2E3FC;\n",
              "    }\n",
              "\n",
              "    [theme=dark] .colab-df-convert:hover {\n",
              "      background-color: #434B5C;\n",
              "      box-shadow: 0px 1px 3px 1px rgba(0, 0, 0, 0.15);\n",
              "      filter: drop-shadow(0px 1px 2px rgba(0, 0, 0, 0.3));\n",
              "      fill: #FFFFFF;\n",
              "    }\n",
              "  </style>\n",
              "\n",
              "    <script>\n",
              "      const buttonEl =\n",
              "        document.querySelector('#df-6c94cf3d-e815-479b-8938-fce99c5b35f9 button.colab-df-convert');\n",
              "      buttonEl.style.display =\n",
              "        google.colab.kernel.accessAllowed ? 'block' : 'none';\n",
              "\n",
              "      async function convertToInteractive(key) {\n",
              "        const element = document.querySelector('#df-6c94cf3d-e815-479b-8938-fce99c5b35f9');\n",
              "        const dataTable =\n",
              "          await google.colab.kernel.invokeFunction('convertToInteractive',\n",
              "                                                    [key], {});\n",
              "        if (!dataTable) return;\n",
              "\n",
              "        const docLinkHtml = 'Like what you see? Visit the ' +\n",
              "          '<a target=\"_blank\" href=https://colab.research.google.com/notebooks/data_table.ipynb>data table notebook</a>'\n",
              "          + ' to learn more about interactive tables.';\n",
              "        element.innerHTML = '';\n",
              "        dataTable['output_type'] = 'display_data';\n",
              "        await google.colab.output.renderOutput(dataTable, element);\n",
              "        const docLink = document.createElement('div');\n",
              "        docLink.innerHTML = docLinkHtml;\n",
              "        element.appendChild(docLink);\n",
              "      }\n",
              "    </script>\n",
              "  </div>\n",
              "\n",
              "\n",
              "<div id=\"df-0f100747-78be-4e51-90a1-a4c7797ed644\">\n",
              "  <button class=\"colab-df-quickchart\" onclick=\"quickchart('df-0f100747-78be-4e51-90a1-a4c7797ed644')\"\n",
              "            title=\"Suggest charts\"\n",
              "            style=\"display:none;\">\n",
              "\n",
              "<svg xmlns=\"http://www.w3.org/2000/svg\" height=\"24px\"viewBox=\"0 0 24 24\"\n",
              "     width=\"24px\">\n",
              "    <g>\n",
              "        <path d=\"M19 3H5c-1.1 0-2 .9-2 2v14c0 1.1.9 2 2 2h14c1.1 0 2-.9 2-2V5c0-1.1-.9-2-2-2zM9 17H7v-7h2v7zm4 0h-2V7h2v10zm4 0h-2v-4h2v4z\"/>\n",
              "    </g>\n",
              "</svg>\n",
              "  </button>\n",
              "\n",
              "<style>\n",
              "  .colab-df-quickchart {\n",
              "      --bg-color: #E8F0FE;\n",
              "      --fill-color: #1967D2;\n",
              "      --hover-bg-color: #E2EBFA;\n",
              "      --hover-fill-color: #174EA6;\n",
              "      --disabled-fill-color: #AAA;\n",
              "      --disabled-bg-color: #DDD;\n",
              "  }\n",
              "\n",
              "  [theme=dark] .colab-df-quickchart {\n",
              "      --bg-color: #3B4455;\n",
              "      --fill-color: #D2E3FC;\n",
              "      --hover-bg-color: #434B5C;\n",
              "      --hover-fill-color: #FFFFFF;\n",
              "      --disabled-bg-color: #3B4455;\n",
              "      --disabled-fill-color: #666;\n",
              "  }\n",
              "\n",
              "  .colab-df-quickchart {\n",
              "    background-color: var(--bg-color);\n",
              "    border: none;\n",
              "    border-radius: 50%;\n",
              "    cursor: pointer;\n",
              "    display: none;\n",
              "    fill: var(--fill-color);\n",
              "    height: 32px;\n",
              "    padding: 0;\n",
              "    width: 32px;\n",
              "  }\n",
              "\n",
              "  .colab-df-quickchart:hover {\n",
              "    background-color: var(--hover-bg-color);\n",
              "    box-shadow: 0 1px 2px rgba(60, 64, 67, 0.3), 0 1px 3px 1px rgba(60, 64, 67, 0.15);\n",
              "    fill: var(--button-hover-fill-color);\n",
              "  }\n",
              "\n",
              "  .colab-df-quickchart-complete:disabled,\n",
              "  .colab-df-quickchart-complete:disabled:hover {\n",
              "    background-color: var(--disabled-bg-color);\n",
              "    fill: var(--disabled-fill-color);\n",
              "    box-shadow: none;\n",
              "  }\n",
              "\n",
              "  .colab-df-spinner {\n",
              "    border: 2px solid var(--fill-color);\n",
              "    border-color: transparent;\n",
              "    border-bottom-color: var(--fill-color);\n",
              "    animation:\n",
              "      spin 1s steps(1) infinite;\n",
              "  }\n",
              "\n",
              "  @keyframes spin {\n",
              "    0% {\n",
              "      border-color: transparent;\n",
              "      border-bottom-color: var(--fill-color);\n",
              "      border-left-color: var(--fill-color);\n",
              "    }\n",
              "    20% {\n",
              "      border-color: transparent;\n",
              "      border-left-color: var(--fill-color);\n",
              "      border-top-color: var(--fill-color);\n",
              "    }\n",
              "    30% {\n",
              "      border-color: transparent;\n",
              "      border-left-color: var(--fill-color);\n",
              "      border-top-color: var(--fill-color);\n",
              "      border-right-color: var(--fill-color);\n",
              "    }\n",
              "    40% {\n",
              "      border-color: transparent;\n",
              "      border-right-color: var(--fill-color);\n",
              "      border-top-color: var(--fill-color);\n",
              "    }\n",
              "    60% {\n",
              "      border-color: transparent;\n",
              "      border-right-color: var(--fill-color);\n",
              "    }\n",
              "    80% {\n",
              "      border-color: transparent;\n",
              "      border-right-color: var(--fill-color);\n",
              "      border-bottom-color: var(--fill-color);\n",
              "    }\n",
              "    90% {\n",
              "      border-color: transparent;\n",
              "      border-bottom-color: var(--fill-color);\n",
              "    }\n",
              "  }\n",
              "</style>\n",
              "\n",
              "  <script>\n",
              "    async function quickchart(key) {\n",
              "      const quickchartButtonEl =\n",
              "        document.querySelector('#' + key + ' button');\n",
              "      quickchartButtonEl.disabled = true;  // To prevent multiple clicks.\n",
              "      quickchartButtonEl.classList.add('colab-df-spinner');\n",
              "      try {\n",
              "        const charts = await google.colab.kernel.invokeFunction(\n",
              "            'suggestCharts', [key], {});\n",
              "      } catch (error) {\n",
              "        console.error('Error during call to suggestCharts:', error);\n",
              "      }\n",
              "      quickchartButtonEl.classList.remove('colab-df-spinner');\n",
              "      quickchartButtonEl.classList.add('colab-df-quickchart-complete');\n",
              "    }\n",
              "    (() => {\n",
              "      let quickchartButtonEl =\n",
              "        document.querySelector('#df-0f100747-78be-4e51-90a1-a4c7797ed644 button');\n",
              "      quickchartButtonEl.style.display =\n",
              "        google.colab.kernel.accessAllowed ? 'block' : 'none';\n",
              "    })();\n",
              "  </script>\n",
              "</div>\n",
              "    </div>\n",
              "  </div>\n"
            ],
            "application/vnd.google.colaboratory.intrinsic+json": {
              "type": "dataframe",
              "variable_name": "df_data",
              "summary": "{\n  \"name\": \"df_data\",\n  \"rows\": 258,\n  \"fields\": [\n    {\n      \"column\": \"AGE DURING ADMISSION\",\n      \"properties\": {\n        \"dtype\": \"number\",\n        \"std\": 0.4227848405343983,\n        \"min\": 19.0,\n        \"max\": 22.0,\n        \"num_unique_values\": 4,\n        \"samples\": [\n          20.0,\n          22.0,\n          21.0\n        ],\n        \"semantic_type\": \"\",\n        \"description\": \"\"\n      }\n    },\n    {\n      \"column\": \"TOTAL_SEM\",\n      \"properties\": {\n        \"dtype\": \"number\",\n        \"std\": 0.6750148440327705,\n        \"min\": 3.0,\n        \"max\": 6.0,\n        \"num_unique_values\": 4,\n        \"samples\": [\n          5.0,\n          6.0,\n          4.0\n        ],\n        \"semantic_type\": \"\",\n        \"description\": \"\"\n      }\n    },\n    {\n      \"column\": \"AVERAGE_CGPA\",\n      \"properties\": {\n        \"dtype\": \"number\",\n        \"std\": 0.16115915820258114,\n        \"min\": 3.2260000000000004,\n        \"max\": 4.0,\n        \"num_unique_values\": 209,\n        \"samples\": [\n          3.668,\n          3.8019999999999996,\n          3.7575000000000003\n        ],\n        \"semantic_type\": \"\",\n        \"description\": \"\"\n      }\n    },\n    {\n      \"column\": \"FINAL_CGPA\",\n      \"properties\": {\n        \"dtype\": \"number\",\n        \"std\": 0.13692068783216182,\n        \"min\": 3.41,\n        \"max\": 4.0,\n        \"num_unique_values\": 52,\n        \"samples\": [\n          3.49,\n          3.87,\n          3.58\n        ],\n        \"semantic_type\": \"\",\n        \"description\": \"\"\n      }\n    },\n    {\n      \"column\": \"GRADING.3\",\n      \"properties\": {\n        \"dtype\": \"category\",\n        \"num_unique_values\": 4,\n        \"samples\": [\n          \"B\",\n          \"F\",\n          \"C\"\n        ],\n        \"semantic_type\": \"\",\n        \"description\": \"\"\n      }\n    }\n  ]\n}"
            }
          },
          "metadata": {},
          "execution_count": 14
        }
      ]
    },
    {
      "cell_type": "markdown",
      "source": [
        "## Split Data"
      ],
      "metadata": {
        "id": "A1F0Rej1QqJC"
      }
    },
    {
      "cell_type": "code",
      "source": [
        "x = df_data.drop(\"GRADING.3\", axis =1)\n",
        "y = df_data['GRADING.3']\n",
        "x = x.values\n",
        "x"
      ],
      "metadata": {
        "id": "e-eQeIKtE7a9",
        "colab": {
          "base_uri": "https://localhost:8080/"
        },
        "outputId": "3a41020b-5f3d-4010-d4b9-53c2f7943bba"
      },
      "execution_count": null,
      "outputs": [
        {
          "output_type": "execute_result",
          "data": {
            "text/plain": [
              "array([[21.        ,  4.        ,  3.4825    ,  3.63      ],\n",
              "       [20.        ,  5.        ,  3.698     ,  3.72      ],\n",
              "       [20.        ,  5.        ,  3.46      ,  3.6       ],\n",
              "       ...,\n",
              "       [20.        ,  5.        ,  4.        ,  4.        ],\n",
              "       [20.        ,  5.        ,  3.514     ,  3.51      ],\n",
              "       [19.        ,  3.        ,  3.68333333,  3.66      ]])"
            ]
          },
          "metadata": {},
          "execution_count": 15
        }
      ]
    },
    {
      "cell_type": "code",
      "source": [
        "from sklearn.model_selection import train_test_split\n",
        "\n",
        "x_train, x_test, y_train, y_test = train_test_split(x, y, test_size=0.4, random_state=2022)"
      ],
      "metadata": {
        "id": "zFkCUrqGQ5Sh"
      },
      "execution_count": null,
      "outputs": []
    },
    {
      "cell_type": "markdown",
      "source": [
        "**Divide the data into train and test data**"
      ],
      "metadata": {
        "id": "b8L_O3pQSnKG"
      }
    },
    {
      "cell_type": "code",
      "source": [
        "y_train.value_counts()"
      ],
      "metadata": {
        "id": "EL7lyME0Q_gq",
        "colab": {
          "base_uri": "https://localhost:8080/"
        },
        "outputId": "e5fde1c9-244d-4c97-f2e0-647c155529dd"
      },
      "execution_count": null,
      "outputs": [
        {
          "output_type": "execute_result",
          "data": {
            "text/plain": [
              "GRADING.3\n",
              "B    100\n",
              "C     35\n",
              "A     18\n",
              "F      1\n",
              "Name: count, dtype: int64"
            ]
          },
          "metadata": {},
          "execution_count": 17
        }
      ]
    },
    {
      "cell_type": "code",
      "source": [
        "y_test.value_counts()"
      ],
      "metadata": {
        "id": "T6r_8yp0RGX2",
        "colab": {
          "base_uri": "https://localhost:8080/"
        },
        "outputId": "55e1eca1-8fd6-49af-bc92-5c397ce87133"
      },
      "execution_count": null,
      "outputs": [
        {
          "output_type": "execute_result",
          "data": {
            "text/plain": [
              "GRADING.3\n",
              "B    59\n",
              "C    35\n",
              "A     7\n",
              "F     3\n",
              "Name: count, dtype: int64"
            ]
          },
          "metadata": {},
          "execution_count": 18
        }
      ]
    },
    {
      "cell_type": "markdown",
      "source": [
        "## 4. Modeling"
      ],
      "metadata": {
        "id": "Pe1CHN_QRtm9"
      }
    },
    {
      "cell_type": "markdown",
      "source": [
        "**Handle imbalanced data using resampling method**"
      ],
      "metadata": {
        "id": "3OLPVDFZReDu"
      }
    },
    {
      "cell_type": "code",
      "source": [
        "from imblearn.over_sampling import SMOTE"
      ],
      "metadata": {
        "id": "BFnKZ7JQ0_tA"
      },
      "execution_count": null,
      "outputs": []
    },
    {
      "cell_type": "markdown",
      "source": [
        "### 4.1 Logistic Regression"
      ],
      "metadata": {
        "id": "hpAk8BgFR3MV"
      }
    },
    {
      "cell_type": "code",
      "source": [
        "# Model Development\n",
        "from sklearn.linear_model import LogisticRegression\n",
        "\n",
        "log_reg = LogisticRegression()\n",
        "log_reg.fit(x_train, y_train)\n",
        "\n",
        "y_pred = log_reg.predict(x_train)\n",
        "\n",
        "print(classification_report(y_train, y_pred))\n",
        "print(confusion_matrix(y_train, y_pred))"
      ],
      "metadata": {
        "id": "RWkbbKQHRowN",
        "colab": {
          "base_uri": "https://localhost:8080/"
        },
        "outputId": "dddc4d12-2efc-4858-e882-3886673ad0bb"
      },
      "execution_count": null,
      "outputs": [
        {
          "output_type": "stream",
          "name": "stdout",
          "text": [
            "              precision    recall  f1-score   support\n",
            "\n",
            "           A       0.00      0.00      0.00        18\n",
            "           B       0.65      1.00      0.79       100\n",
            "           C       1.00      0.03      0.06        35\n",
            "           F       0.00      0.00      0.00         1\n",
            "\n",
            "    accuracy                           0.66       154\n",
            "   macro avg       0.41      0.26      0.21       154\n",
            "weighted avg       0.65      0.66      0.53       154\n",
            "\n",
            "[[  0  18   0   0]\n",
            " [  0 100   0   0]\n",
            " [  0  34   1   0]\n",
            " [  0   1   0   0]]\n"
          ]
        },
        {
          "output_type": "stream",
          "name": "stderr",
          "text": [
            "/usr/local/lib/python3.10/dist-packages/sklearn/linear_model/_logistic.py:458: ConvergenceWarning: lbfgs failed to converge (status=1):\n",
            "STOP: TOTAL NO. of ITERATIONS REACHED LIMIT.\n",
            "\n",
            "Increase the number of iterations (max_iter) or scale the data as shown in:\n",
            "    https://scikit-learn.org/stable/modules/preprocessing.html\n",
            "Please also refer to the documentation for alternative solver options:\n",
            "    https://scikit-learn.org/stable/modules/linear_model.html#logistic-regression\n",
            "  n_iter_i = _check_optimize_result(\n",
            "/usr/local/lib/python3.10/dist-packages/sklearn/metrics/_classification.py:1344: UndefinedMetricWarning: Precision and F-score are ill-defined and being set to 0.0 in labels with no predicted samples. Use `zero_division` parameter to control this behavior.\n",
            "  _warn_prf(average, modifier, msg_start, len(result))\n",
            "/usr/local/lib/python3.10/dist-packages/sklearn/metrics/_classification.py:1344: UndefinedMetricWarning: Precision and F-score are ill-defined and being set to 0.0 in labels with no predicted samples. Use `zero_division` parameter to control this behavior.\n",
            "  _warn_prf(average, modifier, msg_start, len(result))\n",
            "/usr/local/lib/python3.10/dist-packages/sklearn/metrics/_classification.py:1344: UndefinedMetricWarning: Precision and F-score are ill-defined and being set to 0.0 in labels with no predicted samples. Use `zero_division` parameter to control this behavior.\n",
            "  _warn_prf(average, modifier, msg_start, len(result))\n"
          ]
        }
      ]
    },
    {
      "cell_type": "code",
      "source": [
        "y_pred = log_reg.predict(x_test)\n",
        "\n",
        "print(classification_report(y_test, y_pred))\n",
        "print(confusion_matrix(y_test, y_pred))"
      ],
      "metadata": {
        "id": "IHEP9hfPFmA5",
        "colab": {
          "base_uri": "https://localhost:8080/"
        },
        "outputId": "b5dcdf93-5802-4cd7-f3cb-d125d0f796a5"
      },
      "execution_count": null,
      "outputs": [
        {
          "output_type": "stream",
          "name": "stdout",
          "text": [
            "              precision    recall  f1-score   support\n",
            "\n",
            "           A       0.00      0.00      0.00         7\n",
            "           B       0.57      1.00      0.72        59\n",
            "           C       0.00      0.00      0.00        35\n",
            "           F       0.00      0.00      0.00         3\n",
            "\n",
            "    accuracy                           0.57       104\n",
            "   macro avg       0.14      0.25      0.18       104\n",
            "weighted avg       0.32      0.57      0.41       104\n",
            "\n",
            "[[ 0  7  0  0]\n",
            " [ 0 59  0  0]\n",
            " [ 0 35  0  0]\n",
            " [ 0  3  0  0]]\n"
          ]
        },
        {
          "output_type": "stream",
          "name": "stderr",
          "text": [
            "/usr/local/lib/python3.10/dist-packages/sklearn/metrics/_classification.py:1344: UndefinedMetricWarning: Precision and F-score are ill-defined and being set to 0.0 in labels with no predicted samples. Use `zero_division` parameter to control this behavior.\n",
            "  _warn_prf(average, modifier, msg_start, len(result))\n",
            "/usr/local/lib/python3.10/dist-packages/sklearn/metrics/_classification.py:1344: UndefinedMetricWarning: Precision and F-score are ill-defined and being set to 0.0 in labels with no predicted samples. Use `zero_division` parameter to control this behavior.\n",
            "  _warn_prf(average, modifier, msg_start, len(result))\n",
            "/usr/local/lib/python3.10/dist-packages/sklearn/metrics/_classification.py:1344: UndefinedMetricWarning: Precision and F-score are ill-defined and being set to 0.0 in labels with no predicted samples. Use `zero_division` parameter to control this behavior.\n",
            "  _warn_prf(average, modifier, msg_start, len(result))\n"
          ]
        }
      ]
    },
    {
      "cell_type": "code",
      "source": [
        "# Compute False Positive Rate\n",
        "def calculate_false_positive_rate(conf_matrix):\n",
        "    fp = conf_matrix.sum(axis=0) - np.diag(conf_matrix)\n",
        "    tn = conf_matrix.sum() - (conf_matrix.sum(axis=0) + conf_matrix.sum(axis=1) - np.diag(conf_matrix))\n",
        "    fp_rate = fp / (fp + tn)\n",
        "    return fp_rate\n",
        "\n",
        "# Compute confusion matrix for test set\n",
        "conf_matrix_test = confusion_matrix(y_test, y_pred)\n",
        "\n",
        "# Calculate False Positive Rate (FPR)\n",
        "fp_rate = calculate_false_positive_rate(conf_matrix_test)\n",
        "print(\"False Positive Rate for each class:\", fp_rate)\n",
        "\n",
        "# Calculate Macro-average FPR\n",
        "macro_avg_fpr = np.mean(fp_rate)\n",
        "print(\"Macro-average FPR:\", macro_avg_fpr)\n",
        "\n",
        "# Micro-average FPR\n",
        "total_fp = np.sum(conf_matrix_test.sum(axis=1) - np.diag(conf_matrix_test))\n",
        "total_tn = np.sum(conf_matrix_test.sum() - (conf_matrix_test.sum(axis=0) + conf_matrix_test.sum(axis=1) - np.diag(conf_matrix_test)))\n",
        "micro_avg_fpr = total_fp / (total_fp + total_tn)\n",
        "print(\"Micro-average FPR:\", micro_avg_fpr)\n",
        "\n",
        "# Weighted-average FPR\n",
        "class_counts = np.sum(conf_matrix_test, axis=1)\n",
        "weighted_avg_fpr = np.sum(fp_rate * class_counts) / np.sum(class_counts)\n",
        "print(\"Weighted-average FPR:\", weighted_avg_fpr)\n",
        "\n",
        "# Calculate Logarithmic Loss\n",
        "log_loss_test = log_loss(y_test, log_reg.predict_proba(x_test))\n",
        "print(\"Logarithmic Loss on Test Set:\", log_loss_test)\n",
        "\n",
        "# Visualize False Positive Rate\n",
        "plt.figure(figsize=(8, 6))\n",
        "plt.bar(np.arange(len(fp_rate)), fp_rate)\n",
        "plt.xlabel('Class')\n",
        "plt.ylabel('False Positive Rate')\n",
        "plt.title('False Positive Rate for each class')\n",
        "plt.xticks(np.arange(len(fp_rate)), np.unique(y_test))\n",
        "plt.show()"
      ],
      "metadata": {
        "id": "aIvbK4FE3b1S",
        "colab": {
          "base_uri": "https://localhost:8080/",
          "height": 651
        },
        "outputId": "e0993fe6-49a4-4777-936c-3c12be90fa74"
      },
      "execution_count": null,
      "outputs": [
        {
          "output_type": "stream",
          "name": "stdout",
          "text": [
            "False Positive Rate for each class: [0. 1. 0. 0.]\n",
            "Macro-average FPR: 0.25\n",
            "Micro-average FPR: 0.14423076923076922\n",
            "Weighted-average FPR: 0.5673076923076923\n",
            "Logarithmic Loss on Test Set: 0.9863358331843849\n"
          ]
        },
        {
          "output_type": "display_data",
          "data": {
            "text/plain": [
              "<Figure size 800x600 with 1 Axes>"
            ],
            "image/png": "[encoded data removed]"
          },
          "metadata": {}
        }
      ]
    },
    {
      "cell_type": "code",
      "source": [
        "from sklearn.metrics import accuracy_score, precision_score, f1_score, recall_score\n",
        "\n",
        "\n",
        "\n",
        "predictions = log_reg.predict(x_test)\n",
        "\n",
        "accuracy = accuracy_score(y_test, predictions)\n",
        "precision = precision_score(y_test, predictions, average='macro', zero_division=1,)\n",
        "f1 = f1_score(y_test, predictions, average='macro', zero_division=1)\n",
        "recall = recall_score(y_test, predictions, average='macro', zero_division=1)\n",
        "\n",
        "print(\"Acurracy (macro average):\", accuracy)\n",
        "print(\"Precision (macro average):\", precision)\n",
        "print(\"f1_score (macro average):\", f1)\n",
        "print(\"recall (macro average):\", recall)"
      ],
      "metadata": {
        "id": "TxvgiS0C_bLC",
        "colab": {
          "base_uri": "https://localhost:8080/"
        },
        "outputId": "ed4a5ef5-7e24-4bf3-9ef5-8b0ddffc3cf5"
      },
      "execution_count": null,
      "outputs": [
        {
          "output_type": "stream",
          "name": "stdout",
          "text": [
            "Acurracy (macro average): 0.5673076923076923\n",
            "Precision (macro average): 0.8918269230769231\n",
            "f1_score (macro average): 0.18098159509202455\n",
            "recall (macro average): 0.25\n"
          ]
        }
      ]
    },
    {
      "cell_type": "code",
      "source": [
        "from sklearn.metrics import accuracy_score, precision_score, f1_score, recall_score\n",
        "\n",
        "\n",
        "\n",
        "predictions = log_reg.predict(x_train)\n",
        "\n",
        "accuracy = accuracy_score(y_train, predictions)\n",
        "precision = precision_score(y_train, predictions, average='micro')\n",
        "f1 = f1_score(y_train, predictions, average='micro')\n",
        "recall = recall_score(y_train, predictions, average='micro')\n",
        "\n",
        "print(\"Acurracy (micro average):\", accuracy)\n",
        "print(\"Precision (micro average):\", precision)\n",
        "print(\"f1_score (micro average):\", f1)\n",
        "print(\"recall (micro average):\", recall)"
      ],
      "metadata": {
        "id": "k27T7HcOFqpC",
        "colab": {
          "base_uri": "https://localhost:8080/"
        },
        "outputId": "72b9f5a3-59a8-4dde-caa7-88e1138160d7"
      },
      "execution_count": null,
      "outputs": [
        {
          "output_type": "stream",
          "name": "stdout",
          "text": [
            "Acurracy (micro average): 0.6558441558441559\n",
            "Precision (micro average): 0.6558441558441559\n",
            "f1_score (micro average): 0.6558441558441559\n",
            "recall (micro average): 0.6558441558441559\n"
          ]
        }
      ]
    },
    {
      "cell_type": "markdown",
      "source": [
        "### 4.2 Decision Tree"
      ],
      "metadata": {
        "id": "qeVT1RRvR-ut"
      }
    },
    {
      "cell_type": "code",
      "source": [
        "from sklearn import tree\n",
        "clf = tree.DecisionTreeClassifier(max_depth=5,random_state= 2022)\n",
        "clf = clf.fit(x_train, y_train)\n",
        "\n",
        "y_pred = clf.predict(x_train)\n",
        "\n",
        "print(classification_report(y_train, y_pred))\n",
        "print(confusion_matrix(y_train, y_pred))"
      ],
      "metadata": {
        "id": "dL9hUFKNR7T_",
        "colab": {
          "base_uri": "https://localhost:8080/"
        },
        "outputId": "414ed660-e922-4765-a8b8-f294929696d3"
      },
      "execution_count": null,
      "outputs": [
        {
          "output_type": "stream",
          "name": "stdout",
          "text": [
            "              precision    recall  f1-score   support\n",
            "\n",
            "           A       0.90      0.50      0.64        18\n",
            "           B       0.70      0.99      0.82       100\n",
            "           C       1.00      0.09      0.16        35\n",
            "           F       0.00      0.00      0.00         1\n",
            "\n",
            "    accuracy                           0.72       154\n",
            "   macro avg       0.65      0.39      0.41       154\n",
            "weighted avg       0.79      0.72      0.64       154\n",
            "\n",
            "[[ 9  9  0  0]\n",
            " [ 1 99  0  0]\n",
            " [ 0 32  3  0]\n",
            " [ 0  1  0  0]]\n"
          ]
        },
        {
          "output_type": "stream",
          "name": "stderr",
          "text": [
            "/usr/local/lib/python3.10/dist-packages/sklearn/metrics/_classification.py:1344: UndefinedMetricWarning: Precision and F-score are ill-defined and being set to 0.0 in labels with no predicted samples. Use `zero_division` parameter to control this behavior.\n",
            "  _warn_prf(average, modifier, msg_start, len(result))\n",
            "/usr/local/lib/python3.10/dist-packages/sklearn/metrics/_classification.py:1344: UndefinedMetricWarning: Precision and F-score are ill-defined and being set to 0.0 in labels with no predicted samples. Use `zero_division` parameter to control this behavior.\n",
            "  _warn_prf(average, modifier, msg_start, len(result))\n",
            "/usr/local/lib/python3.10/dist-packages/sklearn/metrics/_classification.py:1344: UndefinedMetricWarning: Precision and F-score are ill-defined and being set to 0.0 in labels with no predicted samples. Use `zero_division` parameter to control this behavior.\n",
            "  _warn_prf(average, modifier, msg_start, len(result))\n"
          ]
        }
      ]
    },
    {
      "cell_type": "code",
      "source": [
        "y_pred = clf.predict(x_test)\n",
        "\n",
        "print(classification_report(y_test, y_pred))\n",
        "print(confusion_matrix(y_test, y_pred))"
      ],
      "metadata": {
        "id": "bw5U8lfOF5ij",
        "colab": {
          "base_uri": "https://localhost:8080/"
        },
        "outputId": "add3d731-d7bf-44bd-dadb-ee6cc70e0988"
      },
      "execution_count": null,
      "outputs": [
        {
          "output_type": "stream",
          "name": "stdout",
          "text": [
            "              precision    recall  f1-score   support\n",
            "\n",
            "           A       0.29      0.29      0.29         7\n",
            "           B       0.56      0.92      0.69        59\n",
            "           C       0.00      0.00      0.00        35\n",
            "           F       0.00      0.00      0.00         3\n",
            "\n",
            "    accuracy                           0.54       104\n",
            "   macro avg       0.21      0.30      0.24       104\n",
            "weighted avg       0.34      0.54      0.41       104\n",
            "\n",
            "[[ 2  5  0  0]\n",
            " [ 5 54  0  0]\n",
            " [ 0 35  0  0]\n",
            " [ 0  3  0  0]]\n"
          ]
        },
        {
          "output_type": "stream",
          "name": "stderr",
          "text": [
            "/usr/local/lib/python3.10/dist-packages/sklearn/metrics/_classification.py:1344: UndefinedMetricWarning: Precision and F-score are ill-defined and being set to 0.0 in labels with no predicted samples. Use `zero_division` parameter to control this behavior.\n",
            "  _warn_prf(average, modifier, msg_start, len(result))\n",
            "/usr/local/lib/python3.10/dist-packages/sklearn/metrics/_classification.py:1344: UndefinedMetricWarning: Precision and F-score are ill-defined and being set to 0.0 in labels with no predicted samples. Use `zero_division` parameter to control this behavior.\n",
            "  _warn_prf(average, modifier, msg_start, len(result))\n",
            "/usr/local/lib/python3.10/dist-packages/sklearn/metrics/_classification.py:1344: UndefinedMetricWarning: Precision and F-score are ill-defined and being set to 0.0 in labels with no predicted samples. Use `zero_division` parameter to control this behavior.\n",
            "  _warn_prf(average, modifier, msg_start, len(result))\n"
          ]
        }
      ]
    },
    {
      "cell_type": "code",
      "source": [
        "# Compute False Positive Rate\n",
        "def calculate_false_positive_rate(conf_matrix):\n",
        "    fp = conf_matrix.sum(axis=0) - np.diag(conf_matrix)\n",
        "    tn = conf_matrix.sum() - (conf_matrix.sum(axis=0) + conf_matrix.sum(axis=1) - np.diag(conf_matrix))\n",
        "    fp_rate = fp / (fp + tn)\n",
        "    return fp_rate\n",
        "\n",
        "# Compute confusion matrix for test set\n",
        "conf_matrix_test = confusion_matrix(y_test, y_pred)\n",
        "\n",
        "# Calculate False Positive Rate\n",
        "fp_rate = calculate_false_positive_rate(conf_matrix_test)\n",
        "print(\"False Positive Rate for each class:\", fp_rate)\n",
        "\n",
        "# Calculate Macro-average FPR\n",
        "macro_avg_fpr = np.mean(fp_rate)\n",
        "print(\"Macro-average FPR:\", macro_avg_fpr)\n",
        "\n",
        "# Micro-average FPR\n",
        "total_fp = np.sum(conf_matrix_test.sum(axis=1) - np.diag(conf_matrix_test))\n",
        "total_tn = np.sum(conf_matrix_test.sum() - (conf_matrix_test.sum(axis=0) + conf_matrix_test.sum(axis=1) - np.diag(conf_matrix_test)))\n",
        "micro_avg_fpr = total_fp / (total_fp + total_tn)\n",
        "print(\"Micro-average FPR:\", micro_avg_fpr)\n",
        "\n",
        "# Weighted-average FPR\n",
        "class_counts = np.sum(conf_matrix_test, axis=1)\n",
        "weighted_avg_fpr = np.sum(fp_rate * class_counts) / np.sum(class_counts)\n",
        "print(\"Weighted-average FPR:\", weighted_avg_fpr)\n",
        "\n",
        "# Calculate Logarithmic Loss\n",
        "log_loss_test = log_loss(y_test, clf.predict_proba(x_test))\n",
        "print(\"Logarithmic Loss on Test Set:\", log_loss_test)\n",
        "\n",
        "# Visualize False Positive Rate\n",
        "plt.figure(figsize=(8, 6))\n",
        "plt.bar(np.arange(len(fp_rate)), fp_rate)\n",
        "plt.xlabel('Class')\n",
        "plt.ylabel('False Positive Rate')\n",
        "plt.title('False Positive Rate for each class')\n",
        "plt.xticks(np.arange(len(fp_rate)), np.unique(y_test))\n",
        "plt.show()"
      ],
      "metadata": {
        "id": "pJwY3nT73dT5",
        "colab": {
          "base_uri": "https://localhost:8080/",
          "height": 651
        },
        "outputId": "385dbee7-520c-491d-a12d-46354ee5dd92"
      },
      "execution_count": null,
      "outputs": [
        {
          "output_type": "stream",
          "name": "stdout",
          "text": [
            "False Positive Rate for each class: [0.05154639 0.95555556 0.         0.        ]\n",
            "Macro-average FPR: 0.2517754868270332\n",
            "Micro-average FPR: 0.15384615384615385\n",
            "Weighted-average FPR: 0.5455634857696714\n",
            "Logarithmic Loss on Test Set: 5.450362603034612\n"
          ]
        },
        {
          "output_type": "display_data",
          "data": {
            "text/plain": [
              "<Figure size 800x600 with 1 Axes>"
            ],
            "image/png": "[encoded data removed]"
          },
          "metadata": {}
        }
      ]
    },
    {
      "cell_type": "code",
      "source": [
        "from sklearn.metrics import accuracy_score, precision_score, f1_score, recall_score\n",
        "\n",
        "\n",
        "\n",
        "predictions = clf.predict(x_test)\n",
        "\n",
        "accuracy = accuracy_score(y_test, predictions)\n",
        "precision = precision_score(y_test, predictions, average='macro', zero_division=1,)\n",
        "f1 = f1_score(y_test, predictions, average='macro', zero_division=1)\n",
        "recall = recall_score(y_test, predictions, average='macro', zero_division=1)\n",
        "\n",
        "print(\"Acurracy (macro average):\", accuracy)\n",
        "print(\"Precision (macro average):\", precision)\n",
        "print(\"f1_score (macro average):\", f1)\n",
        "print(\"recall (macro average):\", recall)"
      ],
      "metadata": {
        "id": "Az0GVyKY_g59",
        "colab": {
          "base_uri": "https://localhost:8080/"
        },
        "outputId": "e7b6c4ad-9536-4b95-a86e-f171a8b6acfa"
      },
      "execution_count": null,
      "outputs": [
        {
          "output_type": "stream",
          "name": "stdout",
          "text": [
            "Acurracy (macro average): 0.5384615384615384\n",
            "Precision (macro average): 0.7106038291605302\n",
            "f1_score (macro average): 0.2445054945054945\n",
            "recall (macro average): 0.30024213075060535\n"
          ]
        }
      ]
    },
    {
      "cell_type": "code",
      "source": [
        "from sklearn.metrics import accuracy_score, precision_score, f1_score, recall_score\n",
        "\n",
        "\n",
        "\n",
        "predictions = clf.predict(x_train)\n",
        "\n",
        "accuracy = accuracy_score(y_train, predictions)\n",
        "precision = precision_score(y_train, predictions, average='micro')\n",
        "f1 = f1_score(y_train, predictions, average='micro')\n",
        "recall = recall_score(y_train, predictions, average='micro')\n",
        "\n",
        "print(\"Acurracy (micro average):\", accuracy)\n",
        "print(\"Precision (micro average):\", precision)\n",
        "print(\"f1_score (micro average):\", f1)\n",
        "print(\"recall (micro average):\", recall)"
      ],
      "metadata": {
        "id": "zQ1NYsJqPWMr",
        "colab": {
          "base_uri": "https://localhost:8080/"
        },
        "outputId": "a4ae6e5c-f9f9-48e3-a86d-e8e2f21ae827"
      },
      "execution_count": null,
      "outputs": [
        {
          "output_type": "stream",
          "name": "stdout",
          "text": [
            "Acurracy (micro average): 0.7207792207792207\n",
            "Precision (micro average): 0.7207792207792207\n",
            "f1_score (micro average): 0.7207792207792207\n",
            "recall (micro average): 0.7207792207792207\n"
          ]
        }
      ]
    },
    {
      "cell_type": "code",
      "source": [
        "from sklearn.tree import export_graphviz\n",
        "export_graphviz(\n",
        "    clf,\n",
        "    out_file = \"Oral Biology Mark.dot\",\n",
        "    feature_names = ['AGE DURING ADMISSION', 'TOTAL_SEM', 'AVERAGE_CGPA', 'FINAL_CGPA'],\n",
        "    class_names = ['A','B', 'C', 'F' ],\n",
        "    rounded= True,\n",
        "    filled =True)"
      ],
      "metadata": {
        "id": "pGgrm_MEkDcP"
      },
      "execution_count": null,
      "outputs": []
    },
    {
      "cell_type": "markdown",
      "source": [
        "### 4.3 Random Forest"
      ],
      "metadata": {
        "id": "v7jqQvpsSL8u"
      }
    },
    {
      "cell_type": "code",
      "source": [
        "from sklearn.ensemble import RandomForestClassifier\n",
        "clf1 = RandomForestClassifier(max_depth=5,random_state= 2022)\n",
        "clf1 = clf1.fit(x_train, y_train)\n",
        "\n",
        "y_pred = clf1.predict(x_train)\n",
        "y_pred\n",
        "\n",
        "print(classification_report(y_train, y_pred))\n",
        "print(confusion_matrix(y_train, y_pred))"
      ],
      "metadata": {
        "id": "y65AqkJOSGnO",
        "colab": {
          "base_uri": "https://localhost:8080/"
        },
        "outputId": "8dc0e72f-1b57-4f00-9440-7ba8b09bd737"
      },
      "execution_count": null,
      "outputs": [
        {
          "output_type": "stream",
          "name": "stdout",
          "text": [
            "              precision    recall  f1-score   support\n",
            "\n",
            "           A       1.00      0.33      0.50        18\n",
            "           B       0.71      1.00      0.83       100\n",
            "           C       1.00      0.23      0.37        35\n",
            "           F       0.00      0.00      0.00         1\n",
            "\n",
            "    accuracy                           0.74       154\n",
            "   macro avg       0.68      0.39      0.43       154\n",
            "weighted avg       0.81      0.74      0.68       154\n",
            "\n",
            "[[  6  12   0   0]\n",
            " [  0 100   0   0]\n",
            " [  0  27   8   0]\n",
            " [  0   1   0   0]]\n"
          ]
        },
        {
          "output_type": "stream",
          "name": "stderr",
          "text": [
            "/usr/local/lib/python3.10/dist-packages/sklearn/metrics/_classification.py:1344: UndefinedMetricWarning: Precision and F-score are ill-defined and being set to 0.0 in labels with no predicted samples. Use `zero_division` parameter to control this behavior.\n",
            "  _warn_prf(average, modifier, msg_start, len(result))\n",
            "/usr/local/lib/python3.10/dist-packages/sklearn/metrics/_classification.py:1344: UndefinedMetricWarning: Precision and F-score are ill-defined and being set to 0.0 in labels with no predicted samples. Use `zero_division` parameter to control this behavior.\n",
            "  _warn_prf(average, modifier, msg_start, len(result))\n",
            "/usr/local/lib/python3.10/dist-packages/sklearn/metrics/_classification.py:1344: UndefinedMetricWarning: Precision and F-score are ill-defined and being set to 0.0 in labels with no predicted samples. Use `zero_division` parameter to control this behavior.\n",
            "  _warn_prf(average, modifier, msg_start, len(result))\n"
          ]
        }
      ]
    },
    {
      "cell_type": "code",
      "source": [
        "y_pred = clf1.predict(x_test)\n",
        "\n",
        "print(classification_report(y_test, y_pred))\n",
        "print(confusion_matrix(y_test, y_pred))"
      ],
      "metadata": {
        "id": "S_1bU1EEGAmT",
        "colab": {
          "base_uri": "https://localhost:8080/"
        },
        "outputId": "efe9fcd1-7f1e-4fd7-cd08-533c633e7443"
      },
      "execution_count": null,
      "outputs": [
        {
          "output_type": "stream",
          "name": "stdout",
          "text": [
            "              precision    recall  f1-score   support\n",
            "\n",
            "           A       0.40      0.29      0.33         7\n",
            "           B       0.56      0.92      0.70        59\n",
            "           C       0.33      0.03      0.05        35\n",
            "           F       0.00      0.00      0.00         3\n",
            "\n",
            "    accuracy                           0.55       104\n",
            "   macro avg       0.32      0.31      0.27       104\n",
            "weighted avg       0.46      0.55      0.44       104\n",
            "\n",
            "[[ 2  5  0  0]\n",
            " [ 3 54  2  0]\n",
            " [ 0 34  1  0]\n",
            " [ 0  3  0  0]]\n"
          ]
        },
        {
          "output_type": "stream",
          "name": "stderr",
          "text": [
            "/usr/local/lib/python3.10/dist-packages/sklearn/metrics/_classification.py:1344: UndefinedMetricWarning: Precision and F-score are ill-defined and being set to 0.0 in labels with no predicted samples. Use `zero_division` parameter to control this behavior.\n",
            "  _warn_prf(average, modifier, msg_start, len(result))\n",
            "/usr/local/lib/python3.10/dist-packages/sklearn/metrics/_classification.py:1344: UndefinedMetricWarning: Precision and F-score are ill-defined and being set to 0.0 in labels with no predicted samples. Use `zero_division` parameter to control this behavior.\n",
            "  _warn_prf(average, modifier, msg_start, len(result))\n",
            "/usr/local/lib/python3.10/dist-packages/sklearn/metrics/_classification.py:1344: UndefinedMetricWarning: Precision and F-score are ill-defined and being set to 0.0 in labels with no predicted samples. Use `zero_division` parameter to control this behavior.\n",
            "  _warn_prf(average, modifier, msg_start, len(result))\n"
          ]
        }
      ]
    },
    {
      "cell_type": "code",
      "source": [
        "# Compute False Positive Rate\n",
        "def calculate_false_positive_rate(conf_matrix):\n",
        "    fp = conf_matrix.sum(axis=0) - np.diag(conf_matrix)\n",
        "    tn = conf_matrix.sum() - (conf_matrix.sum(axis=0) + conf_matrix.sum(axis=1) - np.diag(conf_matrix))\n",
        "    fp_rate = fp / (fp + tn)\n",
        "    return fp_rate\n",
        "\n",
        "# Compute confusion matrix for test set\n",
        "conf_matrix_test = confusion_matrix(y_test, y_pred)\n",
        "\n",
        "# Calculate False Positive Rate\n",
        "fp_rate = calculate_false_positive_rate(conf_matrix_test)\n",
        "print(\"False Positive Rate for each class:\", fp_rate)\n",
        "\n",
        "# Calculate Macro-average FPR\n",
        "macro_avg_fpr = np.mean(fp_rate)\n",
        "print(\"Macro-average FPR:\", macro_avg_fpr)\n",
        "\n",
        "# Micro-average FPR\n",
        "total_fp = np.sum(conf_matrix_test.sum(axis=1) - np.diag(conf_matrix_test))\n",
        "total_tn = np.sum(conf_matrix_test.sum() - (conf_matrix_test.sum(axis=0) + conf_matrix_test.sum(axis=1) - np.diag(conf_matrix_test)))\n",
        "micro_avg_fpr = total_fp / (total_fp + total_tn)\n",
        "print(\"Micro-average FPR:\", micro_avg_fpr)\n",
        "\n",
        "# Weighted-average FPR\n",
        "class_counts = np.sum(conf_matrix_test, axis=1)\n",
        "weighted_avg_fpr = np.sum(fp_rate * class_counts) / np.sum(class_counts)\n",
        "print(\"Weighted-average FPR:\", weighted_avg_fpr)\n",
        "\n",
        "# Calculate Logarithmic Loss\n",
        "log_loss_test = log_loss(y_test, clf1.predict_proba(x_test))\n",
        "print(\"Logarithmic Loss on Test Set:\", log_loss_test)\n",
        "\n",
        "# Visualize False Positive Rate\n",
        "plt.figure(figsize=(8, 6))\n",
        "plt.bar(np.arange(len(fp_rate)), fp_rate)\n",
        "plt.xlabel('Class')\n",
        "plt.ylabel('False Positive Rate')\n",
        "plt.title('False Positive Rate for each class')\n",
        "plt.xticks(np.arange(len(fp_rate)), np.unique(y_test))\n",
        "plt.show()"
      ],
      "metadata": {
        "id": "Ot-g38EF3g3_",
        "colab": {
          "base_uri": "https://localhost:8080/",
          "height": 651
        },
        "outputId": "1b54faa1-623e-4133-b6a1-a407fe321150"
      },
      "execution_count": null,
      "outputs": [
        {
          "output_type": "stream",
          "name": "stdout",
          "text": [
            "False Positive Rate for each class: [0.03092784 0.93333333 0.02898551 0.        ]\n",
            "Macro-average FPR: 0.24831166890781414\n",
            "Micro-average FPR: 0.15064102564102563\n",
            "Weighted-average FPR: 0.5413235987081797\n",
            "Logarithmic Loss on Test Set: 1.0680123887176287\n"
          ]
        },
        {
          "output_type": "display_data",
          "data": {
            "text/plain": [
              "<Figure size 800x600 with 1 Axes>"
            ],
            "image/png": "[encoded data removed]"
          },
          "metadata": {}
        }
      ]
    },
    {
      "cell_type": "code",
      "source": [
        "from sklearn.metrics import accuracy_score, precision_score, f1_score, recall_score\n",
        "\n",
        "\n",
        "\n",
        "predictions = clf1.predict(x_test)\n",
        "\n",
        "accuracy = accuracy_score(y_test, predictions)\n",
        "precision = precision_score(y_test, predictions, average='macro', zero_division=1,)\n",
        "f1 = f1_score(y_test, predictions, average='macro', zero_division=1)\n",
        "recall = recall_score(y_test, predictions, average='macro', zero_division=1)\n",
        "\n",
        "print(\"Acurracy (macro average):\", accuracy)\n",
        "print(\"Precision (macro average):\", precision)\n",
        "print(\"f1_score (macro average):\", f1)\n",
        "print(\"recall (macro average):\", recall)"
      ],
      "metadata": {
        "id": "e41UUG-__lJa",
        "colab": {
          "base_uri": "https://localhost:8080/"
        },
        "outputId": "976b5de5-76ca-43d4-cf5f-3633ad5c7b17"
      },
      "execution_count": null,
      "outputs": [
        {
          "output_type": "stream",
          "name": "stdout",
          "text": [
            "Acurracy (macro average): 0.5480769230769231\n",
            "Precision (macro average): 0.5739583333333333\n",
            "f1_score (macro average): 0.2706847764572722\n",
            "recall (macro average): 0.30738498789346247\n"
          ]
        }
      ]
    },
    {
      "cell_type": "code",
      "source": [
        "from sklearn.metrics import accuracy_score, precision_score, f1_score, recall_score\n",
        "\n",
        "\n",
        "\n",
        "predictions = clf1.predict(x_train)\n",
        "\n",
        "accuracy = accuracy_score(y_train, predictions)\n",
        "precision = precision_score(y_train, predictions, average='micro')\n",
        "f1 = f1_score(y_train, predictions, average='micro')\n",
        "recall = recall_score(y_train, predictions, average='micro')\n",
        "\n",
        "print(\"Acurracy (micro average):\", accuracy)\n",
        "print(\"Precision (micro average):\", precision)\n",
        "print(\"f1_score (micro average):\", f1)\n",
        "print(\"recall (micro average):\", recall)"
      ],
      "metadata": {
        "id": "KZ0q1KgcPo0Z",
        "colab": {
          "base_uri": "https://localhost:8080/"
        },
        "outputId": "549bbb28-b00c-4221-ad16-f81c3fc2ad3d"
      },
      "execution_count": null,
      "outputs": [
        {
          "output_type": "stream",
          "name": "stdout",
          "text": [
            "Acurracy (micro average): 0.7402597402597403\n",
            "Precision (micro average): 0.7402597402597403\n",
            "f1_score (micro average): 0.7402597402597403\n",
            "recall (micro average): 0.7402597402597403\n"
          ]
        }
      ]
    },
    {
      "cell_type": "markdown",
      "source": [
        "### 4.4 Support Vector Machine (SVM)"
      ],
      "metadata": {
        "id": "lZ5b84h2SVTi"
      }
    },
    {
      "cell_type": "code",
      "source": [
        "from sklearn.pipeline import make_pipeline\n",
        "from sklearn.preprocessing import StandardScaler\n",
        "from sklearn.svm import SVC\n",
        "\n",
        "clf2 = make_pipeline(StandardScaler(), SVC(gamma='auto'))\n",
        "clf2.fit(x_train, y_train)\n",
        "\n",
        "y_pred = clf2.predict(x_train)\n",
        "\n",
        "print(classification_report(y_train, y_pred))\n",
        "print(confusion_matrix(y_train, y_pred))"
      ],
      "metadata": {
        "id": "weeyJyu9SPz3",
        "colab": {
          "base_uri": "https://localhost:8080/"
        },
        "outputId": "306ad503-a7f0-457e-9cd8-32a515fffb71"
      },
      "execution_count": null,
      "outputs": [
        {
          "output_type": "stream",
          "name": "stdout",
          "text": [
            "              precision    recall  f1-score   support\n",
            "\n",
            "           A       1.00      0.11      0.20        18\n",
            "           B       0.66      1.00      0.80       100\n",
            "           C       1.00      0.03      0.06        35\n",
            "           F       0.00      0.00      0.00         1\n",
            "\n",
            "    accuracy                           0.67       154\n",
            "   macro avg       0.67      0.28      0.26       154\n",
            "weighted avg       0.77      0.67      0.55       154\n",
            "\n",
            "[[  2  16   0   0]\n",
            " [  0 100   0   0]\n",
            " [  0  34   1   0]\n",
            " [  0   1   0   0]]\n"
          ]
        },
        {
          "output_type": "stream",
          "name": "stderr",
          "text": [
            "/usr/local/lib/python3.10/dist-packages/sklearn/metrics/_classification.py:1344: UndefinedMetricWarning: Precision and F-score are ill-defined and being set to 0.0 in labels with no predicted samples. Use `zero_division` parameter to control this behavior.\n",
            "  _warn_prf(average, modifier, msg_start, len(result))\n",
            "/usr/local/lib/python3.10/dist-packages/sklearn/metrics/_classification.py:1344: UndefinedMetricWarning: Precision and F-score are ill-defined and being set to 0.0 in labels with no predicted samples. Use `zero_division` parameter to control this behavior.\n",
            "  _warn_prf(average, modifier, msg_start, len(result))\n",
            "/usr/local/lib/python3.10/dist-packages/sklearn/metrics/_classification.py:1344: UndefinedMetricWarning: Precision and F-score are ill-defined and being set to 0.0 in labels with no predicted samples. Use `zero_division` parameter to control this behavior.\n",
            "  _warn_prf(average, modifier, msg_start, len(result))\n"
          ]
        }
      ]
    },
    {
      "cell_type": "code",
      "source": [
        "y_pred = clf2.predict(x_test)\n",
        "\n",
        "print(classification_report(y_test, y_pred))\n",
        "print(confusion_matrix(y_test, y_pred))"
      ],
      "metadata": {
        "id": "nrzRHLDL7mlP",
        "colab": {
          "base_uri": "https://localhost:8080/"
        },
        "outputId": "65b5e664-d15a-4f15-a75c-996a1225835c"
      },
      "execution_count": null,
      "outputs": [
        {
          "output_type": "stream",
          "name": "stdout",
          "text": [
            "              precision    recall  f1-score   support\n",
            "\n",
            "           A       0.00      0.00      0.00         7\n",
            "           B       0.57      1.00      0.72        59\n",
            "           C       0.00      0.00      0.00        35\n",
            "           F       0.00      0.00      0.00         3\n",
            "\n",
            "    accuracy                           0.57       104\n",
            "   macro avg       0.14      0.25      0.18       104\n",
            "weighted avg       0.32      0.57      0.41       104\n",
            "\n",
            "[[ 0  7  0  0]\n",
            " [ 0 59  0  0]\n",
            " [ 0 35  0  0]\n",
            " [ 0  3  0  0]]\n"
          ]
        },
        {
          "output_type": "stream",
          "name": "stderr",
          "text": [
            "/usr/local/lib/python3.10/dist-packages/sklearn/metrics/_classification.py:1344: UndefinedMetricWarning: Precision and F-score are ill-defined and being set to 0.0 in labels with no predicted samples. Use `zero_division` parameter to control this behavior.\n",
            "  _warn_prf(average, modifier, msg_start, len(result))\n",
            "/usr/local/lib/python3.10/dist-packages/sklearn/metrics/_classification.py:1344: UndefinedMetricWarning: Precision and F-score are ill-defined and being set to 0.0 in labels with no predicted samples. Use `zero_division` parameter to control this behavior.\n",
            "  _warn_prf(average, modifier, msg_start, len(result))\n",
            "/usr/local/lib/python3.10/dist-packages/sklearn/metrics/_classification.py:1344: UndefinedMetricWarning: Precision and F-score are ill-defined and being set to 0.0 in labels with no predicted samples. Use `zero_division` parameter to control this behavior.\n",
            "  _warn_prf(average, modifier, msg_start, len(result))\n"
          ]
        }
      ]
    },
    {
      "cell_type": "code",
      "source": [
        "# Compute False Positive Rate\n",
        "def calculate_false_positive_rate(conf_matrix):\n",
        "    fp = conf_matrix.sum(axis=0) - np.diag(conf_matrix)\n",
        "    tn = conf_matrix.sum() - (conf_matrix.sum(axis=0) + conf_matrix.sum(axis=1) - np.diag(conf_matrix))\n",
        "    fp_rate = fp / (fp + tn)\n",
        "    return fp_rate\n",
        "\n",
        "# Compute confusion matrix for test set\n",
        "conf_matrix_test = confusion_matrix(y_test, y_pred)\n",
        "\n",
        "# Calculate False Positive Rate\n",
        "fp_rate = calculate_false_positive_rate(conf_matrix_test)\n",
        "print(\"False Positive Rate for each class:\", fp_rate)\n",
        "\n",
        "# Calculate Macro-average FPR\n",
        "macro_avg_fpr = np.mean(fp_rate)\n",
        "print(\"Macro-average FPR:\", macro_avg_fpr)\n",
        "\n",
        "# Micro-average FPR\n",
        "total_fp = np.sum(conf_matrix_test.sum(axis=1) - np.diag(conf_matrix_test))\n",
        "total_tn = np.sum(conf_matrix_test.sum() - (conf_matrix_test.sum(axis=0) + conf_matrix_test.sum(axis=1) - np.diag(conf_matrix_test)))\n",
        "micro_avg_fpr = total_fp / (total_fp + total_tn)\n",
        "print(\"Micro-average FPR:\", micro_avg_fpr)\n",
        "\n",
        "# Weighted-average FPR\n",
        "class_counts = np.sum(conf_matrix_test, axis=1)\n",
        "weighted_avg_fpr = np.sum(fp_rate * class_counts) / np.sum(class_counts)\n",
        "print(\"Weighted-average FPR:\", weighted_avg_fpr)\n",
        "\n",
        "# Calculate decision scores for each class\n",
        "decision_scores = clf2.decision_function(x_test)\n",
        "\n",
        "# Convert decision scores into probabilities using Platt scaling\n",
        "from sklearn.calibration import CalibratedClassifierCV\n",
        "\n",
        "calibrated_clf = CalibratedClassifierCV(clf2, method='sigmoid')\n",
        "calibrated_clf.fit(x_train, y_train)\n",
        "probabilities = calibrated_clf.predict_proba(x_test)\n",
        "\n",
        "# Calculate Logarithmic Loss\n",
        "log_loss_test = log_loss(y_test, probabilities)\n",
        "print(\"Logarithmic Loss on Test Set:\", log_loss_test)\n",
        "\n",
        "# Visualize False Positive Rate\n",
        "plt.figure(figsize=(8, 6))\n",
        "plt.bar(np.arange(len(fp_rate)), fp_rate)\n",
        "plt.xlabel('Class')\n",
        "plt.ylabel('False Positive Rate')\n",
        "plt.title('False Positive Rate for each class')\n",
        "plt.xticks(np.arange(len(fp_rate)), np.unique(y_test))\n",
        "plt.show()"
      ],
      "metadata": {
        "id": "JjHsB8Rs3jot",
        "colab": {
          "base_uri": "https://localhost:8080/",
          "height": 705
        },
        "outputId": "12365003-58d4-4c3f-a095-ff394c2c4bd2"
      },
      "execution_count": null,
      "outputs": [
        {
          "output_type": "stream",
          "name": "stdout",
          "text": [
            "False Positive Rate for each class: [0. 1. 0. 0.]\n",
            "Macro-average FPR: 0.25\n",
            "Micro-average FPR: 0.14423076923076922\n",
            "Weighted-average FPR: 0.5673076923076923\n"
          ]
        },
        {
          "output_type": "stream",
          "name": "stderr",
          "text": [
            "/usr/local/lib/python3.10/dist-packages/sklearn/model_selection/_split.py:700: UserWarning: The least populated class in y has only 1 members, which is less than n_splits=5.\n",
            "  warnings.warn(\n"
          ]
        },
        {
          "output_type": "stream",
          "name": "stdout",
          "text": [
            "Logarithmic Loss on Test Set: 0.948744028812341\n"
          ]
        },
        {
          "output_type": "display_data",
          "data": {
            "text/plain": [
              "<Figure size 800x600 with 1 Axes>"
            ],
            "image/png": "[encoded data removed]"
          },
          "metadata": {}
        }
      ]
    },
    {
      "cell_type": "code",
      "source": [
        "from sklearn.metrics import accuracy_score, precision_score, f1_score, recall_score\n",
        "\n",
        "\n",
        "\n",
        "predictions = clf2.predict(x_test)\n",
        "\n",
        "accuracy = accuracy_score(y_test, predictions)\n",
        "precision = precision_score(y_test, predictions, average='macro', zero_division=1,)\n",
        "f1 = f1_score(y_test, predictions, average='macro', zero_division=1)\n",
        "recall = recall_score(y_test, predictions, average='macro', zero_division=1)\n",
        "\n",
        "print(\"Acurracy (macro average):\", accuracy)\n",
        "print(\"Precision (macro average):\", precision)\n",
        "print(\"f1_score (macro average):\", f1)\n",
        "print(\"recall (macro average):\", recall)"
      ],
      "metadata": {
        "id": "xoBOsVbo_qnf",
        "colab": {
          "base_uri": "https://localhost:8080/"
        },
        "outputId": "80969e84-9ec0-4cc8-fb0e-5c0bf56e2d5c"
      },
      "execution_count": null,
      "outputs": [
        {
          "output_type": "stream",
          "name": "stdout",
          "text": [
            "Acurracy (macro average): 0.5673076923076923\n",
            "Precision (macro average): 0.8918269230769231\n",
            "f1_score (macro average): 0.18098159509202455\n",
            "recall (macro average): 0.25\n"
          ]
        }
      ]
    },
    {
      "cell_type": "code",
      "source": [
        "from sklearn.metrics import accuracy_score, precision_score, f1_score, recall_score\n",
        "\n",
        "\n",
        "\n",
        "predictions = clf2.predict(x_train)\n",
        "\n",
        "accuracy = accuracy_score(y_train, predictions)\n",
        "precision = precision_score(y_train, predictions, average='micro')\n",
        "f1 = f1_score(y_train, predictions, average='micro')\n",
        "recall = recall_score(y_train, predictions, average='micro')\n",
        "\n",
        "print(\"Acurracy (micro average):\", accuracy)\n",
        "print(\"Precision (micro average):\", precision)\n",
        "print(\"f1_score (micro average):\", f1)\n",
        "print(\"recall (micro average):\", recall)"
      ],
      "metadata": {
        "id": "Avx_9kzZGHhq",
        "colab": {
          "base_uri": "https://localhost:8080/"
        },
        "outputId": "16b960fb-08a1-4a06-b39f-d7193006f1bd"
      },
      "execution_count": null,
      "outputs": [
        {
          "output_type": "stream",
          "name": "stdout",
          "text": [
            "Acurracy (micro average): 0.6688311688311688\n",
            "Precision (micro average): 0.6688311688311688\n",
            "f1_score (micro average): 0.6688311688311688\n",
            "recall (micro average): 0.6688311688311688\n"
          ]
        }
      ]
    },
    {
      "cell_type": "code",
      "source": [],
      "metadata": {
        "id": "-ni84aVSP_pO"
      },
      "execution_count": null,
      "outputs": []
    }
  ]
}