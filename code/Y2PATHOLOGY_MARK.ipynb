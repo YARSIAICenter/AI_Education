{
  "nbformat": 4,
  "nbformat_minor": 0,
  "metadata": {
    "colab": {
      "provenance": [],
      "machine_shape": "hm",
      "gpuType": "T4"
    },
    "kernelspec": {
      "name": "python3",
      "display_name": "Python 3"
    },
    "language_info": {
      "name": "python"
    },
    "accelerator": "GPU"
  },
  "cells": [
    {
      "cell_type": "code",
      "execution_count": null,
      "metadata": {
        "colab": {
          "base_uri": "https://localhost:8080/"
        },
        "id": "ZNVTgcCkHgOX",
        "outputId": "65a47af5-a22e-4a64-9f2b-12464e5509a5"
      },
      "outputs": [
        {
          "output_type": "stream",
          "name": "stdout",
          "text": [
            "Mounted at /content/drive\n"
          ]
        }
      ],
      "source": [
        "from google.colab import drive\n",
        "drive.mount('/content/drive')"
      ]
    },
    {
      "cell_type": "code",
      "source": [
        "import pandas as pd\n",
        "import numpy as np\n",
        "from sklearn.metrics import classification_report, confusion_matrix, log_loss\n",
        "import matplotlib.pyplot as plt"
      ],
      "metadata": {
        "id": "9rLkvhz-HtAp"
      },
      "execution_count": null,
      "outputs": []
    },
    {
      "cell_type": "code",
      "source": [
        "batch1213_df= pd.read_excel ('/content/drive/MyDrive/AI_education/data/batch1213-data-GRADED.xlsx',\n",
        "                             skiprows=5)\n",
        "batch1213_preuniversity_df= pd.read_excel ('/content/drive/MyDrive/AI_education/data/batch1213-data-GRADED.xlsx',\n",
        "                                           skiprows=4, sheet_name='preuni')\n",
        "batch1213_professional1_df= pd.read_excel ('/content/drive/MyDrive/AI_education/data/batch1213-data-GRADED.xlsx',\n",
        "                                           skiprows=5, sheet_name='pro2')\n",
        "\n",
        "batch1314_df= pd.read_excel ('/content/drive/MyDrive/AI_education/data/batch1314-data-GRADED.xlsx',\n",
        "                             skiprows=5)\n",
        "batch1314_preuniversity_df= pd.read_excel ('/content/drive/MyDrive/AI_education/data/batch1314-data-GRADED.xlsx',\n",
        "                                           skiprows=4, sheet_name='preuni')\n",
        "batch1314_professional1_df= pd.read_excel ('/content/drive/MyDrive/AI_education/data/batch1314-data-GRADED.xlsx',\n",
        "                                           skiprows=5, sheet_name='pro2')\n",
        "\n",
        "batch1415_df= pd.read_excel ('/content/drive/MyDrive/AI_education/data/batch1415-data-GRADED.xlsx',\n",
        "                             skiprows=5)\n",
        "batch1415_preuniversity_df= pd.read_excel ('/content/drive/MyDrive/AI_education/data/batch1415-data-GRADED.xlsx',\n",
        "                                           skiprows=4, sheet_name= 'preuni')\n",
        "batch1415_professional1_df= pd.read_excel ('/content/drive/MyDrive/AI_education/data/batch1415-data-GRADED.xlsx',\n",
        "                                           skiprows=5, sheet_name= 'pro2')\n",
        "\n",
        "batch1516_df= pd.read_excel ('/content/drive/MyDrive/AI_education/data/batch1516-data-graded.xlsx',\n",
        "                             skiprows=5)\n",
        "batch1516_preuniversity_df= pd.read_excel ('/content/drive/MyDrive/AI_education/data/batch1516-data-graded.xlsx',\n",
        "                                           skiprows=4, sheet_name='preuni')\n",
        "batch1516_professional1_df= pd.read_excel ('/content/drive/MyDrive/AI_education/data/batch1516-data-graded.xlsx',\n",
        "                                           skiprows=5, sheet_name='pro2')\n",
        "\n",
        "batch1617_df= pd.read_excel ('/content/drive/MyDrive/AI_education/data/batch1617-data-GRADED.xlsx',\n",
        "                             skiprows=5)\n",
        "batch1617_preuniversity_df= pd.read_excel ('/content/drive/MyDrive/AI_education/data/batch1617-data-GRADED.xlsx',\n",
        "                                           skiprows=5, sheet_name= 'preuni')\n",
        "batch1617_professional1_df= pd.read_excel ('/content/drive/MyDrive/AI_education/data/batch1617-data-GRADED.xlsx',\n",
        "                                           skiprows=5, sheet_name= 'pro2')\n"
      ],
      "metadata": {
        "id": "TI1E2xhMH083"
      },
      "execution_count": null,
      "outputs": []
    },
    {
      "cell_type": "code",
      "source": [
        "batch1213_part1_df = pd.merge(batch1213_df,\n",
        "                              batch1213_preuniversity_df,\n",
        "                              on = \"STUDENT'S IDENTITY NO. \")\n",
        "batch1213_part2_df = batch1213_professional1_df\n",
        "batch1213_all_df = pd.merge(batch1213_part1_df,\n",
        "                               batch1213_part2_df,\n",
        "                               on = \"STUDENT'S IDENTITY NO. \")\n",
        "\n",
        "\n",
        "batch1314_part1_df = pd.merge(batch1314_df,\n",
        "                              batch1314_preuniversity_df,\n",
        "                              on = \"STUDENT'S IDENTITY NO. \")\n",
        "batch1314_part2_df = batch1314_professional1_df\n",
        "\n",
        "batch1314_all_df = pd.merge(batch1314_part1_df,\n",
        "                               batch1314_part2_df,\n",
        "                               on = \"STUDENT'S IDENTITY NO. \")\n",
        "\n",
        "\n",
        "batch1415_part1_df = pd.merge(batch1415_df,\n",
        "                              batch1415_preuniversity_df,\n",
        "                              on = \"STUDENT'S IDENTITY NO. \")\n",
        "batch1415_part2_df = batch1415_professional1_df\n",
        "\n",
        "batch1415_all_df = pd.merge(batch1415_part1_df,\n",
        "                            batch1415_part2_df,\n",
        "                            on = \"STUDENT'S IDENTITY NO. \")\n",
        "\n",
        "\n",
        "batch1516_part1_df = pd.merge(batch1516_df,\n",
        "                              batch1516_preuniversity_df,\n",
        "                              on = \"STUDENT'S IDENTITY NO. \")\n",
        "batch1516_part2_df = batch1516_professional1_df\n",
        "\n",
        "batch1516_all_df = pd.merge(batch1516_part1_df,\n",
        "                            batch1516_part2_df,\n",
        "                            on = \"STUDENT'S IDENTITY NO. \")\n",
        "\n",
        "\n",
        "batch1617_part1_df = pd.merge(batch1617_df,\n",
        "                              batch1617_preuniversity_df,\n",
        "                              on = \"STUDENT'S IDENTITY NO. \")\n",
        "\n",
        "batch1617_part2_df = batch1617_professional1_df\n",
        "\n",
        "batch1617_all_df = pd.merge(batch1617_part1_df,\n",
        "                            batch1617_part2_df,\n",
        "                            on = \"STUDENT'S IDENTITY NO. \")\n",
        "\n"
      ],
      "metadata": {
        "id": "xLX7w4c-H9ye"
      },
      "execution_count": null,
      "outputs": []
    },
    {
      "cell_type": "code",
      "source": [
        "data_df = pd.concat([batch1213_all_df, batch1314_all_df, batch1415_all_df, batch1516_all_df, batch1617_all_df])\n",
        "data_df.head()"
      ],
      "metadata": {
        "colab": {
          "base_uri": "https://localhost:8080/",
          "height": 308
        },
        "id": "p9cbM-juIAsd",
        "outputId": "153fca17-7946-445f-95d9-cb43b5825874"
      },
      "execution_count": null,
      "outputs": [
        {
          "output_type": "execute_result",
          "data": {
            "text/plain": [
              "   NO._x STUDENT'S IDENTITY NO.   LAST DIGIT MATRIC NO.  GENDER  \\\n",
              "0      1                11-12-10                      7    MALE   \n",
              "1      2                12-13-01                      8  FEMALE   \n",
              "2      3                12-13-02                      6  FEMALE   \n",
              "3      4                12-13-03                      6  FEMALE   \n",
              "4      5                12-13-04                      4  FEMALE   \n",
              "\n",
              "   AGE DURING ADMISSION BIRTH DATE  MIDDLE IC NO.  DISTRICT POSCODE     STATE  \\\n",
              "0                   NaN        NaN            NaN       NaN     NaN       NaN   \n",
              "1                  21.0     911122           14.0       NaN     NaN       NaN   \n",
              "2                  20.0     920816            3.0    BACHOK   16370  KELANTAN   \n",
              "3                  20.0     920522            6.0  JERANTUT   27020    PAHANG   \n",
              "4                  20.0     920625            8.0   PUCHONG   47100  SELANGOR   \n",
              "\n",
              "   ... STATUS.1   BIRTH DATE MIDDLE I/C NO.  SEM 6  PATHOLOGY RESIT  \\\n",
              "0  ...     PASS          NaN            NaN    NaN              NaN   \n",
              "1  ...     PASS          NaN            NaN    NaN              NaN   \n",
              "2  ...     PASS          NaN            NaN    NaN              NaN   \n",
              "3  ...     PASS          NaN            NaN    NaN              NaN   \n",
              "4  ...     PASS          NaN            NaN    NaN              NaN   \n",
              "\n",
              "   RESIT STATUS  DMS RESIT  RESIT STATUS.1   SEM 4  MICROBIOLOGY RESIT  \n",
              "0           NaN        NaN             NaN     NaN                 NaN  \n",
              "1           NaN        NaN             NaN     NaN                 NaN  \n",
              "2           NaN        NaN             NaN     NaN                 NaN  \n",
              "3           NaN        NaN             NaN     NaN                 NaN  \n",
              "4           NaN        NaN             NaN     NaN                 NaN  \n",
              "\n",
              "[5 rows x 49 columns]"
            ],
            "text/html": [
              "\n",
              "  <div id=\"df-ff9c146a-65d9-4e60-85a4-c679bd63c8dc\" class=\"colab-df-container\">\n",
              "    <div>\n",
              "<style scoped>\n",
              "    .dataframe tbody tr th:only-of-type {\n",
              "        vertical-align: middle;\n",
              "    }\n",
              "\n",
              "    .dataframe tbody tr th {\n",
              "        vertical-align: top;\n",
              "    }\n",
              "\n",
              "    .dataframe thead th {\n",
              "        text-align: right;\n",
              "    }\n",
              "</style>\n",
              "<table border=\"1\" class=\"dataframe\">\n",
              "  <thead>\n",
              "    <tr style=\"text-align: right;\">\n",
              "      <th></th>\n",
              "      <th>NO._x</th>\n",
              "      <th>STUDENT'S IDENTITY NO.</th>\n",
              "      <th>LAST DIGIT MATRIC NO.</th>\n",
              "      <th>GENDER</th>\n",
              "      <th>AGE DURING ADMISSION</th>\n",
              "      <th>BIRTH DATE</th>\n",
              "      <th>MIDDLE IC NO.</th>\n",
              "      <th>DISTRICT</th>\n",
              "      <th>POSCODE</th>\n",
              "      <th>STATE</th>\n",
              "      <th>...</th>\n",
              "      <th>STATUS.1</th>\n",
              "      <th>BIRTH DATE</th>\n",
              "      <th>MIDDLE I/C NO.</th>\n",
              "      <th>SEM 6</th>\n",
              "      <th>PATHOLOGY RESIT</th>\n",
              "      <th>RESIT STATUS</th>\n",
              "      <th>DMS RESIT</th>\n",
              "      <th>RESIT STATUS.1</th>\n",
              "      <th>SEM 4</th>\n",
              "      <th>MICROBIOLOGY RESIT</th>\n",
              "    </tr>\n",
              "  </thead>\n",
              "  <tbody>\n",
              "    <tr>\n",
              "      <th>0</th>\n",
              "      <td>1</td>\n",
              "      <td>11-12-10</td>\n",
              "      <td>7</td>\n",
              "      <td>MALE</td>\n",
              "      <td>NaN</td>\n",
              "      <td>NaN</td>\n",
              "      <td>NaN</td>\n",
              "      <td>NaN</td>\n",
              "      <td>NaN</td>\n",
              "      <td>NaN</td>\n",
              "      <td>...</td>\n",
              "      <td>PASS</td>\n",
              "      <td>NaN</td>\n",
              "      <td>NaN</td>\n",
              "      <td>NaN</td>\n",
              "      <td>NaN</td>\n",
              "      <td>NaN</td>\n",
              "      <td>NaN</td>\n",
              "      <td>NaN</td>\n",
              "      <td>NaN</td>\n",
              "      <td>NaN</td>\n",
              "    </tr>\n",
              "    <tr>\n",
              "      <th>1</th>\n",
              "      <td>2</td>\n",
              "      <td>12-13-01</td>\n",
              "      <td>8</td>\n",
              "      <td>FEMALE</td>\n",
              "      <td>21.0</td>\n",
              "      <td>911122</td>\n",
              "      <td>14.0</td>\n",
              "      <td>NaN</td>\n",
              "      <td>NaN</td>\n",
              "      <td>NaN</td>\n",
              "      <td>...</td>\n",
              "      <td>PASS</td>\n",
              "      <td>NaN</td>\n",
              "      <td>NaN</td>\n",
              "      <td>NaN</td>\n",
              "      <td>NaN</td>\n",
              "      <td>NaN</td>\n",
              "      <td>NaN</td>\n",
              "      <td>NaN</td>\n",
              "      <td>NaN</td>\n",
              "      <td>NaN</td>\n",
              "    </tr>\n",
              "    <tr>\n",
              "      <th>2</th>\n",
              "      <td>3</td>\n",
              "      <td>12-13-02</td>\n",
              "      <td>6</td>\n",
              "      <td>FEMALE</td>\n",
              "      <td>20.0</td>\n",
              "      <td>920816</td>\n",
              "      <td>3.0</td>\n",
              "      <td>BACHOK</td>\n",
              "      <td>16370</td>\n",
              "      <td>KELANTAN</td>\n",
              "      <td>...</td>\n",
              "      <td>PASS</td>\n",
              "      <td>NaN</td>\n",
              "      <td>NaN</td>\n",
              "      <td>NaN</td>\n",
              "      <td>NaN</td>\n",
              "      <td>NaN</td>\n",
              "      <td>NaN</td>\n",
              "      <td>NaN</td>\n",
              "      <td>NaN</td>\n",
              "      <td>NaN</td>\n",
              "    </tr>\n",
              "    <tr>\n",
              "      <th>3</th>\n",
              "      <td>4</td>\n",
              "      <td>12-13-03</td>\n",
              "      <td>6</td>\n",
              "      <td>FEMALE</td>\n",
              "      <td>20.0</td>\n",
              "      <td>920522</td>\n",
              "      <td>6.0</td>\n",
              "      <td>JERANTUT</td>\n",
              "      <td>27020</td>\n",
              "      <td>PAHANG</td>\n",
              "      <td>...</td>\n",
              "      <td>PASS</td>\n",
              "      <td>NaN</td>\n",
              "      <td>NaN</td>\n",
              "      <td>NaN</td>\n",
              "      <td>NaN</td>\n",
              "      <td>NaN</td>\n",
              "      <td>NaN</td>\n",
              "      <td>NaN</td>\n",
              "      <td>NaN</td>\n",
              "      <td>NaN</td>\n",
              "    </tr>\n",
              "    <tr>\n",
              "      <th>4</th>\n",
              "      <td>5</td>\n",
              "      <td>12-13-04</td>\n",
              "      <td>4</td>\n",
              "      <td>FEMALE</td>\n",
              "      <td>20.0</td>\n",
              "      <td>920625</td>\n",
              "      <td>8.0</td>\n",
              "      <td>PUCHONG</td>\n",
              "      <td>47100</td>\n",
              "      <td>SELANGOR</td>\n",
              "      <td>...</td>\n",
              "      <td>PASS</td>\n",
              "      <td>NaN</td>\n",
              "      <td>NaN</td>\n",
              "      <td>NaN</td>\n",
              "      <td>NaN</td>\n",
              "      <td>NaN</td>\n",
              "      <td>NaN</td>\n",
              "      <td>NaN</td>\n",
              "      <td>NaN</td>\n",
              "      <td>NaN</td>\n",
              "    </tr>\n",
              "  </tbody>\n",
              "</table>\n",
              "<p>5 rows × 49 columns</p>\n",
              "</div>\n",
              "    <div class=\"colab-df-buttons\">\n",
              "\n",
              "  <div class=\"colab-df-container\">\n",
              "    <button class=\"colab-df-convert\" onclick=\"convertToInteractive('df-ff9c146a-65d9-4e60-85a4-c679bd63c8dc')\"\n",
              "            title=\"Convert this dataframe to an interactive table.\"\n",
              "            style=\"display:none;\">\n",
              "\n",
              "  <svg xmlns=\"http://www.w3.org/2000/svg\" height=\"24px\" viewBox=\"0 -960 960 960\">\n",
              "    <path d=\"M120-120v-720h720v720H120Zm60-500h600v-160H180v160Zm220 220h160v-160H400v160Zm0 220h160v-160H400v160ZM180-400h160v-160H180v160Zm440 0h160v-160H620v160ZM180-180h160v-160H180v160Zm440 0h160v-160H620v160Z\"/>\n",
              "  </svg>\n",
              "    </button>\n",
              "\n",
              "  <style>\n",
              "    .colab-df-container {\n",
              "      display:flex;\n",
              "      gap: 12px;\n",
              "    }\n",
              "\n",
              "    .colab-df-convert {\n",
              "      background-color: #E8F0FE;\n",
              "      border: none;\n",
              "      border-radius: 50%;\n",
              "      cursor: pointer;\n",
              "      display: none;\n",
              "      fill: #1967D2;\n",
              "      height: 32px;\n",
              "      padding: 0 0 0 0;\n",
              "      width: 32px;\n",
              "    }\n",
              "\n",
              "    .colab-df-convert:hover {\n",
              "      background-color: #E2EBFA;\n",
              "      box-shadow: 0px 1px 2px rgba(60, 64, 67, 0.3), 0px 1px 3px 1px rgba(60, 64, 67, 0.15);\n",
              "      fill: #174EA6;\n",
              "    }\n",
              "\n",
              "    .colab-df-buttons div {\n",
              "      margin-bottom: 4px;\n",
              "    }\n",
              "\n",
              "    [theme=dark] .colab-df-convert {\n",
              "      background-color: #3B4455;\n",
              "      fill: #D2E3FC;\n",
              "    }\n",
              "\n",
              "    [theme=dark] .colab-df-convert:hover {\n",
              "      background-color: #434B5C;\n",
              "      box-shadow: 0px 1px 3px 1px rgba(0, 0, 0, 0.15);\n",
              "      filter: drop-shadow(0px 1px 2px rgba(0, 0, 0, 0.3));\n",
              "      fill: #FFFFFF;\n",
              "    }\n",
              "  </style>\n",
              "\n",
              "    <script>\n",
              "      const buttonEl =\n",
              "        document.querySelector('#df-ff9c146a-65d9-4e60-85a4-c679bd63c8dc button.colab-df-convert');\n",
              "      buttonEl.style.display =\n",
              "        google.colab.kernel.accessAllowed ? 'block' : 'none';\n",
              "\n",
              "      async function convertToInteractive(key) {\n",
              "        const element = document.querySelector('#df-ff9c146a-65d9-4e60-85a4-c679bd63c8dc');\n",
              "        const dataTable =\n",
              "          await google.colab.kernel.invokeFunction('convertToInteractive',\n",
              "                                                    [key], {});\n",
              "        if (!dataTable) return;\n",
              "\n",
              "        const docLinkHtml = 'Like what you see? Visit the ' +\n",
              "          '<a target=\"_blank\" href=https://colab.research.google.com/notebooks/data_table.ipynb>data table notebook</a>'\n",
              "          + ' to learn more about interactive tables.';\n",
              "        element.innerHTML = '';\n",
              "        dataTable['output_type'] = 'display_data';\n",
              "        await google.colab.output.renderOutput(dataTable, element);\n",
              "        const docLink = document.createElement('div');\n",
              "        docLink.innerHTML = docLinkHtml;\n",
              "        element.appendChild(docLink);\n",
              "      }\n",
              "    </script>\n",
              "  </div>\n",
              "\n",
              "\n",
              "<div id=\"df-36c8848c-1d90-4701-b336-2da82ee502b3\">\n",
              "  <button class=\"colab-df-quickchart\" onclick=\"quickchart('df-36c8848c-1d90-4701-b336-2da82ee502b3')\"\n",
              "            title=\"Suggest charts\"\n",
              "            style=\"display:none;\">\n",
              "\n",
              "<svg xmlns=\"http://www.w3.org/2000/svg\" height=\"24px\"viewBox=\"0 0 24 24\"\n",
              "     width=\"24px\">\n",
              "    <g>\n",
              "        <path d=\"M19 3H5c-1.1 0-2 .9-2 2v14c0 1.1.9 2 2 2h14c1.1 0 2-.9 2-2V5c0-1.1-.9-2-2-2zM9 17H7v-7h2v7zm4 0h-2V7h2v10zm4 0h-2v-4h2v4z\"/>\n",
              "    </g>\n",
              "</svg>\n",
              "  </button>\n",
              "\n",
              "<style>\n",
              "  .colab-df-quickchart {\n",
              "      --bg-color: #E8F0FE;\n",
              "      --fill-color: #1967D2;\n",
              "      --hover-bg-color: #E2EBFA;\n",
              "      --hover-fill-color: #174EA6;\n",
              "      --disabled-fill-color: #AAA;\n",
              "      --disabled-bg-color: #DDD;\n",
              "  }\n",
              "\n",
              "  [theme=dark] .colab-df-quickchart {\n",
              "      --bg-color: #3B4455;\n",
              "      --fill-color: #D2E3FC;\n",
              "      --hover-bg-color: #434B5C;\n",
              "      --hover-fill-color: #FFFFFF;\n",
              "      --disabled-bg-color: #3B4455;\n",
              "      --disabled-fill-color: #666;\n",
              "  }\n",
              "\n",
              "  .colab-df-quickchart {\n",
              "    background-color: var(--bg-color);\n",
              "    border: none;\n",
              "    border-radius: 50%;\n",
              "    cursor: pointer;\n",
              "    display: none;\n",
              "    fill: var(--fill-color);\n",
              "    height: 32px;\n",
              "    padding: 0;\n",
              "    width: 32px;\n",
              "  }\n",
              "\n",
              "  .colab-df-quickchart:hover {\n",
              "    background-color: var(--hover-bg-color);\n",
              "    box-shadow: 0 1px 2px rgba(60, 64, 67, 0.3), 0 1px 3px 1px rgba(60, 64, 67, 0.15);\n",
              "    fill: var(--button-hover-fill-color);\n",
              "  }\n",
              "\n",
              "  .colab-df-quickchart-complete:disabled,\n",
              "  .colab-df-quickchart-complete:disabled:hover {\n",
              "    background-color: var(--disabled-bg-color);\n",
              "    fill: var(--disabled-fill-color);\n",
              "    box-shadow: none;\n",
              "  }\n",
              "\n",
              "  .colab-df-spinner {\n",
              "    border: 2px solid var(--fill-color);\n",
              "    border-color: transparent;\n",
              "    border-bottom-color: var(--fill-color);\n",
              "    animation:\n",
              "      spin 1s steps(1) infinite;\n",
              "  }\n",
              "\n",
              "  @keyframes spin {\n",
              "    0% {\n",
              "      border-color: transparent;\n",
              "      border-bottom-color: var(--fill-color);\n",
              "      border-left-color: var(--fill-color);\n",
              "    }\n",
              "    20% {\n",
              "      border-color: transparent;\n",
              "      border-left-color: var(--fill-color);\n",
              "      border-top-color: var(--fill-color);\n",
              "    }\n",
              "    30% {\n",
              "      border-color: transparent;\n",
              "      border-left-color: var(--fill-color);\n",
              "      border-top-color: var(--fill-color);\n",
              "      border-right-color: var(--fill-color);\n",
              "    }\n",
              "    40% {\n",
              "      border-color: transparent;\n",
              "      border-right-color: var(--fill-color);\n",
              "      border-top-color: var(--fill-color);\n",
              "    }\n",
              "    60% {\n",
              "      border-color: transparent;\n",
              "      border-right-color: var(--fill-color);\n",
              "    }\n",
              "    80% {\n",
              "      border-color: transparent;\n",
              "      border-right-color: var(--fill-color);\n",
              "      border-bottom-color: var(--fill-color);\n",
              "    }\n",
              "    90% {\n",
              "      border-color: transparent;\n",
              "      border-bottom-color: var(--fill-color);\n",
              "    }\n",
              "  }\n",
              "</style>\n",
              "\n",
              "  <script>\n",
              "    async function quickchart(key) {\n",
              "      const quickchartButtonEl =\n",
              "        document.querySelector('#' + key + ' button');\n",
              "      quickchartButtonEl.disabled = true;  // To prevent multiple clicks.\n",
              "      quickchartButtonEl.classList.add('colab-df-spinner');\n",
              "      try {\n",
              "        const charts = await google.colab.kernel.invokeFunction(\n",
              "            'suggestCharts', [key], {});\n",
              "      } catch (error) {\n",
              "        console.error('Error during call to suggestCharts:', error);\n",
              "      }\n",
              "      quickchartButtonEl.classList.remove('colab-df-spinner');\n",
              "      quickchartButtonEl.classList.add('colab-df-quickchart-complete');\n",
              "    }\n",
              "    (() => {\n",
              "      let quickchartButtonEl =\n",
              "        document.querySelector('#df-36c8848c-1d90-4701-b336-2da82ee502b3 button');\n",
              "      quickchartButtonEl.style.display =\n",
              "        google.colab.kernel.accessAllowed ? 'block' : 'none';\n",
              "    })();\n",
              "  </script>\n",
              "</div>\n",
              "    </div>\n",
              "  </div>\n"
            ],
            "application/vnd.google.colaboratory.intrinsic+json": {
              "type": "dataframe",
              "variable_name": "data_df"
            }
          },
          "metadata": {},
          "execution_count": 5
        }
      ]
    },
    {
      "cell_type": "code",
      "source": [
        "data_df.info()"
      ],
      "metadata": {
        "colab": {
          "base_uri": "https://localhost:8080/"
        },
        "id": "SW0UT2WdJgWe",
        "outputId": "65a39274-1a3d-41fa-9d1c-4119efe8504c"
      },
      "execution_count": null,
      "outputs": [
        {
          "output_type": "stream",
          "name": "stdout",
          "text": [
            "<class 'pandas.core.frame.DataFrame'>\n",
            "Index: 276 entries, 0 to 58\n",
            "Data columns (total 49 columns):\n",
            " #   Column                          Non-Null Count  Dtype  \n",
            "---  ------                          --------------  -----  \n",
            " 0   NO._x                           276 non-null    int64  \n",
            " 1   STUDENT'S IDENTITY NO.          276 non-null    object \n",
            " 2   LAST DIGIT MATRIC NO.           276 non-null    int64  \n",
            " 3   GENDER                          276 non-null    object \n",
            " 4   AGE DURING ADMISSION            272 non-null    float64\n",
            " 5   BIRTH DATE                      217 non-null    object \n",
            " 6   MIDDLE IC NO.                   59 non-null     float64\n",
            " 7   DISTRICT                        271 non-null    object \n",
            " 8   POSCODE                         263 non-null    object \n",
            " 9   STATE                           272 non-null    object \n",
            " 10  COUNTRY                         273 non-null    object \n",
            " 11  NO._y                           276 non-null    int64  \n",
            " 12  PRE-UNIVERSITY                  258 non-null    object \n",
            " 13   SEM 1                          252 non-null    float64\n",
            " 14  SEM 2                           252 non-null    float64\n",
            " 15  SEM 3                           252 non-null    float64\n",
            " 16  SEM 4                           184 non-null    float64\n",
            " 17  SEM 5                           125 non-null    float64\n",
            " 18  TOTAL_SEM                       252 non-null    float64\n",
            " 19  AVERAGE_CGPA                    252 non-null    float64\n",
            " 20  FINAL_CGPA                      252 non-null    float64\n",
            " 21  NO.                             276 non-null    int64  \n",
            " 22  PATHOLOGY MARK                  276 non-null    float64\n",
            " 23  GRADING                         276 non-null    object \n",
            " 24  PATHOLOGY STATUS                276 non-null    object \n",
            " 25  MICROBIOLOGY MARK               276 non-null    float64\n",
            " 26  GRADING.1                       276 non-null    object \n",
            " 27  MICROBIOLOGY STATUS             276 non-null    object \n",
            " 28  PHARMACOLOGY MARK               276 non-null    object \n",
            " 29  GRADING.2                       276 non-null    object \n",
            " 30  PHARMACOLOGY STATUS             276 non-null    object \n",
            " 31  DENTAL MATERIAL SCIENCE MARK    276 non-null    object \n",
            " 32  GRADING.3                       276 non-null    object \n",
            " 33  DENTAL MATERIAL SCIENCE STATUS  276 non-null    object \n",
            " 34  CONS                            117 non-null    float64\n",
            " 35  GRADING.4                       117 non-null    object \n",
            " 36  STATUS                          117 non-null    object \n",
            " 37  PROSTHO                         117 non-null    float64\n",
            " 38  GRADING.5                       117 non-null    object \n",
            " 39  STATUS.1                        117 non-null    object \n",
            " 40   BIRTH DATE                     56 non-null     float64\n",
            " 41  MIDDLE I/C NO.                  214 non-null    object \n",
            " 42  SEM 6                           5 non-null      float64\n",
            " 43  PATHOLOGY RESIT                 1 non-null      float64\n",
            " 44  RESIT STATUS                    3 non-null      object \n",
            " 45  DMS RESIT                       1 non-null      float64\n",
            " 46  RESIT STATUS.1                  1 non-null      object \n",
            " 47   SEM 4                          45 non-null     float64\n",
            " 48  MICROBIOLOGY RESIT              2 non-null      float64\n",
            "dtypes: float64(20), int64(4), object(25)\n",
            "memory usage: 107.8+ KB\n"
          ]
        }
      ]
    },
    {
      "cell_type": "code",
      "source": [
        "df_copy = data_df.copy()"
      ],
      "metadata": {
        "id": "d9S3nesyJlIz"
      },
      "execution_count": null,
      "outputs": []
    },
    {
      "cell_type": "code",
      "source": [
        "df_copy.isnull().sum()"
      ],
      "metadata": {
        "id": "XPjZPWEGJqSG",
        "outputId": "1d02f325-0f32-4e3a-e005-03a867b791f4",
        "colab": {
          "base_uri": "https://localhost:8080/"
        }
      },
      "execution_count": null,
      "outputs": [
        {
          "output_type": "execute_result",
          "data": {
            "text/plain": [
              "NO._x                               0\n",
              "STUDENT'S IDENTITY NO.              0\n",
              "LAST DIGIT MATRIC NO.               0\n",
              "GENDER                              0\n",
              "AGE DURING ADMISSION                4\n",
              "BIRTH DATE                         59\n",
              "MIDDLE IC NO.                     217\n",
              "DISTRICT                            5\n",
              "POSCODE                            13\n",
              "STATE                               4\n",
              "COUNTRY                             3\n",
              "NO._y                               0\n",
              "PRE-UNIVERSITY                     18\n",
              " SEM 1                             24\n",
              "SEM 2                              24\n",
              "SEM 3                              24\n",
              "SEM 4                              92\n",
              "SEM 5                             151\n",
              "TOTAL_SEM                          24\n",
              "AVERAGE_CGPA                       24\n",
              "FINAL_CGPA                         24\n",
              "NO.                                 0\n",
              "PATHOLOGY MARK                      0\n",
              "GRADING                             0\n",
              "PATHOLOGY STATUS                    0\n",
              "MICROBIOLOGY MARK                   0\n",
              "GRADING.1                           0\n",
              "MICROBIOLOGY STATUS                 0\n",
              "PHARMACOLOGY MARK                   0\n",
              "GRADING.2                           0\n",
              "PHARMACOLOGY STATUS                 0\n",
              "DENTAL MATERIAL SCIENCE MARK        0\n",
              "GRADING.3                           0\n",
              "DENTAL MATERIAL SCIENCE STATUS      0\n",
              "CONS                              159\n",
              "GRADING.4                         159\n",
              "STATUS                            159\n",
              "PROSTHO                           159\n",
              "GRADING.5                         159\n",
              "STATUS.1                          159\n",
              " BIRTH DATE                       220\n",
              "MIDDLE I/C NO.                     62\n",
              "SEM 6                             271\n",
              "PATHOLOGY RESIT                   275\n",
              "RESIT STATUS                      273\n",
              "DMS RESIT                         275\n",
              "RESIT STATUS.1                    275\n",
              " SEM 4                            231\n",
              "MICROBIOLOGY RESIT                274\n",
              "dtype: int64"
            ]
          },
          "metadata": {},
          "execution_count": 8
        }
      ]
    },
    {
      "cell_type": "code",
      "source": [
        "df_copy = df_copy.drop(['MICROBIOLOGY RESIT', 'RESIT STATUS.1','STATUS.1','GRADING.5','PROSTHO','STATUS','SEM 6',\n",
        "              'GRADING.4','RESIT STATUS','BIRTH DATE','SEM 4','MIDDLE IC NO.','SEM 5',' SEM 4', ' BIRTH DATE', 'NO._x', 'LAST DIGIT MATRIC NO.', 'NO._y', 'NO.','DISTRICT', 'STATE', 'COUNTRY','PRE-UNIVERSITY','GRADING.3','DENTAL MATERIAL SCIENCE MARK ',\n",
        "         'CONS', 'DENTAL MATERIAL SCIENCE STATUS'], axis=1)"
      ],
      "metadata": {
        "id": "UXDNRpWSJss-"
      },
      "execution_count": null,
      "outputs": []
    },
    {
      "cell_type": "code",
      "source": [
        "df_copy.isnull().sum()"
      ],
      "metadata": {
        "colab": {
          "base_uri": "https://localhost:8080/"
        },
        "id": "7yrZEyUD0U4L",
        "outputId": "cf386591-0092-4b05-ed83-38567517b510"
      },
      "execution_count": null,
      "outputs": [
        {
          "output_type": "execute_result",
          "data": {
            "text/plain": [
              "STUDENT'S IDENTITY NO.       0\n",
              "GENDER                       0\n",
              "AGE DURING ADMISSION         4\n",
              "POSCODE                     13\n",
              " SEM 1                      24\n",
              "SEM 2                       24\n",
              "SEM 3                       24\n",
              "TOTAL_SEM                   24\n",
              "AVERAGE_CGPA                24\n",
              "FINAL_CGPA                  24\n",
              "PATHOLOGY MARK               0\n",
              "GRADING                      0\n",
              "PATHOLOGY STATUS             0\n",
              "MICROBIOLOGY MARK            0\n",
              "GRADING.1                    0\n",
              "MICROBIOLOGY STATUS          0\n",
              "PHARMACOLOGY MARK            0\n",
              "GRADING.2                    0\n",
              "PHARMACOLOGY STATUS          0\n",
              "MIDDLE I/C NO.              62\n",
              "PATHOLOGY RESIT            275\n",
              "DMS RESIT                  275\n",
              "dtype: int64"
            ]
          },
          "metadata": {},
          "execution_count": 10
        }
      ]
    },
    {
      "cell_type": "code",
      "source": [
        "df_copy = df_copy.drop(['GENDER', 'POSCODE', ' SEM 1', 'SEM 2', 'SEM 3', 'PATHOLOGY MARK', 'PATHOLOGY STATUS', 'MICROBIOLOGY MARK', 'GRADING.1', 'MICROBIOLOGY STATUS', 'PHARMACOLOGY MARK', 'MIDDLE I/C NO.', 'GRADING.2', 'PHARMACOLOGY STATUS', 'PATHOLOGY RESIT', 'DMS RESIT'], axis=1)"
      ],
      "metadata": {
        "id": "36ExAvWf2tRZ"
      },
      "execution_count": null,
      "outputs": []
    },
    {
      "cell_type": "code",
      "source": [
        "df_copy.isnull().sum()"
      ],
      "metadata": {
        "colab": {
          "base_uri": "https://localhost:8080/"
        },
        "id": "OY86ECga38rB",
        "outputId": "be950b79-2c35-437c-8315-6fff2c786c04"
      },
      "execution_count": null,
      "outputs": [
        {
          "output_type": "execute_result",
          "data": {
            "text/plain": [
              "STUDENT'S IDENTITY NO.      0\n",
              "AGE DURING ADMISSION        4\n",
              "TOTAL_SEM                  24\n",
              "AVERAGE_CGPA               24\n",
              "FINAL_CGPA                 24\n",
              "GRADING                     0\n",
              "dtype: int64"
            ]
          },
          "metadata": {},
          "execution_count": 12
        }
      ]
    },
    {
      "cell_type": "code",
      "source": [
        "df_copy = df_copy.drop(\"STUDENT'S IDENTITY NO. \", axis=1)"
      ],
      "metadata": {
        "id": "8ix-piNR4NUl"
      },
      "execution_count": null,
      "outputs": []
    },
    {
      "cell_type": "code",
      "source": [
        "df_data = df_copy.dropna()"
      ],
      "metadata": {
        "id": "q0sdsDzf4Sjb"
      },
      "execution_count": null,
      "outputs": []
    },
    {
      "cell_type": "code",
      "source": [
        "df_data.isnull().sum()"
      ],
      "metadata": {
        "colab": {
          "base_uri": "https://localhost:8080/"
        },
        "id": "VLtVWItb4WlY",
        "outputId": "9b9794f0-6fc5-4ee1-a4a2-7668cdbdefd6"
      },
      "execution_count": null,
      "outputs": [
        {
          "output_type": "execute_result",
          "data": {
            "text/plain": [
              "AGE DURING ADMISSION    0\n",
              "TOTAL_SEM               0\n",
              "AVERAGE_CGPA            0\n",
              "FINAL_CGPA              0\n",
              "GRADING                 0\n",
              "dtype: int64"
            ]
          },
          "metadata": {},
          "execution_count": 15
        }
      ]
    },
    {
      "cell_type": "code",
      "source": [
        "df_data.head()"
      ],
      "metadata": {
        "colab": {
          "base_uri": "https://localhost:8080/",
          "height": 206
        },
        "id": "pYKrHdkw4aKw",
        "outputId": "9183e804-5811-4371-dfa6-b362f5437b15"
      },
      "execution_count": null,
      "outputs": [
        {
          "output_type": "execute_result",
          "data": {
            "text/plain": [
              "   AGE DURING ADMISSION  TOTAL_SEM  AVERAGE_CGPA  FINAL_CGPA GRADING\n",
              "1                  21.0        4.0        3.4825        3.63       C\n",
              "2                  20.0        5.0        3.6980        3.72       F\n",
              "3                  20.0        5.0        3.4600        3.60       F\n",
              "4                  20.0        5.0        3.6820        3.79       C\n",
              "5                  20.0        5.0        3.5260        3.68       C"
            ],
            "text/html": [
              "\n",
              "  <div id=\"df-e39ddd22-1ddb-4770-9fb9-c91357688a5e\" class=\"colab-df-container\">\n",
              "    <div>\n",
              "<style scoped>\n",
              "    .dataframe tbody tr th:only-of-type {\n",
              "        vertical-align: middle;\n",
              "    }\n",
              "\n",
              "    .dataframe tbody tr th {\n",
              "        vertical-align: top;\n",
              "    }\n",
              "\n",
              "    .dataframe thead th {\n",
              "        text-align: right;\n",
              "    }\n",
              "</style>\n",
              "<table border=\"1\" class=\"dataframe\">\n",
              "  <thead>\n",
              "    <tr style=\"text-align: right;\">\n",
              "      <th></th>\n",
              "      <th>AGE DURING ADMISSION</th>\n",
              "      <th>TOTAL_SEM</th>\n",
              "      <th>AVERAGE_CGPA</th>\n",
              "      <th>FINAL_CGPA</th>\n",
              "      <th>GRADING</th>\n",
              "    </tr>\n",
              "  </thead>\n",
              "  <tbody>\n",
              "    <tr>\n",
              "      <th>1</th>\n",
              "      <td>21.0</td>\n",
              "      <td>4.0</td>\n",
              "      <td>3.4825</td>\n",
              "      <td>3.63</td>\n",
              "      <td>C</td>\n",
              "    </tr>\n",
              "    <tr>\n",
              "      <th>2</th>\n",
              "      <td>20.0</td>\n",
              "      <td>5.0</td>\n",
              "      <td>3.6980</td>\n",
              "      <td>3.72</td>\n",
              "      <td>F</td>\n",
              "    </tr>\n",
              "    <tr>\n",
              "      <th>3</th>\n",
              "      <td>20.0</td>\n",
              "      <td>5.0</td>\n",
              "      <td>3.4600</td>\n",
              "      <td>3.60</td>\n",
              "      <td>F</td>\n",
              "    </tr>\n",
              "    <tr>\n",
              "      <th>4</th>\n",
              "      <td>20.0</td>\n",
              "      <td>5.0</td>\n",
              "      <td>3.6820</td>\n",
              "      <td>3.79</td>\n",
              "      <td>C</td>\n",
              "    </tr>\n",
              "    <tr>\n",
              "      <th>5</th>\n",
              "      <td>20.0</td>\n",
              "      <td>5.0</td>\n",
              "      <td>3.5260</td>\n",
              "      <td>3.68</td>\n",
              "      <td>C</td>\n",
              "    </tr>\n",
              "  </tbody>\n",
              "</table>\n",
              "</div>\n",
              "    <div class=\"colab-df-buttons\">\n",
              "\n",
              "  <div class=\"colab-df-container\">\n",
              "    <button class=\"colab-df-convert\" onclick=\"convertToInteractive('df-e39ddd22-1ddb-4770-9fb9-c91357688a5e')\"\n",
              "            title=\"Convert this dataframe to an interactive table.\"\n",
              "            style=\"display:none;\">\n",
              "\n",
              "  <svg xmlns=\"http://www.w3.org/2000/svg\" height=\"24px\" viewBox=\"0 -960 960 960\">\n",
              "    <path d=\"M120-120v-720h720v720H120Zm60-500h600v-160H180v160Zm220 220h160v-160H400v160Zm0 220h160v-160H400v160ZM180-400h160v-160H180v160Zm440 0h160v-160H620v160ZM180-180h160v-160H180v160Zm440 0h160v-160H620v160Z\"/>\n",
              "  </svg>\n",
              "    </button>\n",
              "\n",
              "  <style>\n",
              "    .colab-df-container {\n",
              "      display:flex;\n",
              "      gap: 12px;\n",
              "    }\n",
              "\n",
              "    .colab-df-convert {\n",
              "      background-color: #E8F0FE;\n",
              "      border: none;\n",
              "      border-radius: 50%;\n",
              "      cursor: pointer;\n",
              "      display: none;\n",
              "      fill: #1967D2;\n",
              "      height: 32px;\n",
              "      padding: 0 0 0 0;\n",
              "      width: 32px;\n",
              "    }\n",
              "\n",
              "    .colab-df-convert:hover {\n",
              "      background-color: #E2EBFA;\n",
              "      box-shadow: 0px 1px 2px rgba(60, 64, 67, 0.3), 0px 1px 3px 1px rgba(60, 64, 67, 0.15);\n",
              "      fill: #174EA6;\n",
              "    }\n",
              "\n",
              "    .colab-df-buttons div {\n",
              "      margin-bottom: 4px;\n",
              "    }\n",
              "\n",
              "    [theme=dark] .colab-df-convert {\n",
              "      background-color: #3B4455;\n",
              "      fill: #D2E3FC;\n",
              "    }\n",
              "\n",
              "    [theme=dark] .colab-df-convert:hover {\n",
              "      background-color: #434B5C;\n",
              "      box-shadow: 0px 1px 3px 1px rgba(0, 0, 0, 0.15);\n",
              "      filter: drop-shadow(0px 1px 2px rgba(0, 0, 0, 0.3));\n",
              "      fill: #FFFFFF;\n",
              "    }\n",
              "  </style>\n",
              "\n",
              "    <script>\n",
              "      const buttonEl =\n",
              "        document.querySelector('#df-e39ddd22-1ddb-4770-9fb9-c91357688a5e button.colab-df-convert');\n",
              "      buttonEl.style.display =\n",
              "        google.colab.kernel.accessAllowed ? 'block' : 'none';\n",
              "\n",
              "      async function convertToInteractive(key) {\n",
              "        const element = document.querySelector('#df-e39ddd22-1ddb-4770-9fb9-c91357688a5e');\n",
              "        const dataTable =\n",
              "          await google.colab.kernel.invokeFunction('convertToInteractive',\n",
              "                                                    [key], {});\n",
              "        if (!dataTable) return;\n",
              "\n",
              "        const docLinkHtml = 'Like what you see? Visit the ' +\n",
              "          '<a target=\"_blank\" href=https://colab.research.google.com/notebooks/data_table.ipynb>data table notebook</a>'\n",
              "          + ' to learn more about interactive tables.';\n",
              "        element.innerHTML = '';\n",
              "        dataTable['output_type'] = 'display_data';\n",
              "        await google.colab.output.renderOutput(dataTable, element);\n",
              "        const docLink = document.createElement('div');\n",
              "        docLink.innerHTML = docLinkHtml;\n",
              "        element.appendChild(docLink);\n",
              "      }\n",
              "    </script>\n",
              "  </div>\n",
              "\n",
              "\n",
              "<div id=\"df-d0f43ea0-95db-44c0-bfd5-552e70d45df3\">\n",
              "  <button class=\"colab-df-quickchart\" onclick=\"quickchart('df-d0f43ea0-95db-44c0-bfd5-552e70d45df3')\"\n",
              "            title=\"Suggest charts\"\n",
              "            style=\"display:none;\">\n",
              "\n",
              "<svg xmlns=\"http://www.w3.org/2000/svg\" height=\"24px\"viewBox=\"0 0 24 24\"\n",
              "     width=\"24px\">\n",
              "    <g>\n",
              "        <path d=\"M19 3H5c-1.1 0-2 .9-2 2v14c0 1.1.9 2 2 2h14c1.1 0 2-.9 2-2V5c0-1.1-.9-2-2-2zM9 17H7v-7h2v7zm4 0h-2V7h2v10zm4 0h-2v-4h2v4z\"/>\n",
              "    </g>\n",
              "</svg>\n",
              "  </button>\n",
              "\n",
              "<style>\n",
              "  .colab-df-quickchart {\n",
              "      --bg-color: #E8F0FE;\n",
              "      --fill-color: #1967D2;\n",
              "      --hover-bg-color: #E2EBFA;\n",
              "      --hover-fill-color: #174EA6;\n",
              "      --disabled-fill-color: #AAA;\n",
              "      --disabled-bg-color: #DDD;\n",
              "  }\n",
              "\n",
              "  [theme=dark] .colab-df-quickchart {\n",
              "      --bg-color: #3B4455;\n",
              "      --fill-color: #D2E3FC;\n",
              "      --hover-bg-color: #434B5C;\n",
              "      --hover-fill-color: #FFFFFF;\n",
              "      --disabled-bg-color: #3B4455;\n",
              "      --disabled-fill-color: #666;\n",
              "  }\n",
              "\n",
              "  .colab-df-quickchart {\n",
              "    background-color: var(--bg-color);\n",
              "    border: none;\n",
              "    border-radius: 50%;\n",
              "    cursor: pointer;\n",
              "    display: none;\n",
              "    fill: var(--fill-color);\n",
              "    height: 32px;\n",
              "    padding: 0;\n",
              "    width: 32px;\n",
              "  }\n",
              "\n",
              "  .colab-df-quickchart:hover {\n",
              "    background-color: var(--hover-bg-color);\n",
              "    box-shadow: 0 1px 2px rgba(60, 64, 67, 0.3), 0 1px 3px 1px rgba(60, 64, 67, 0.15);\n",
              "    fill: var(--button-hover-fill-color);\n",
              "  }\n",
              "\n",
              "  .colab-df-quickchart-complete:disabled,\n",
              "  .colab-df-quickchart-complete:disabled:hover {\n",
              "    background-color: var(--disabled-bg-color);\n",
              "    fill: var(--disabled-fill-color);\n",
              "    box-shadow: none;\n",
              "  }\n",
              "\n",
              "  .colab-df-spinner {\n",
              "    border: 2px solid var(--fill-color);\n",
              "    border-color: transparent;\n",
              "    border-bottom-color: var(--fill-color);\n",
              "    animation:\n",
              "      spin 1s steps(1) infinite;\n",
              "  }\n",
              "\n",
              "  @keyframes spin {\n",
              "    0% {\n",
              "      border-color: transparent;\n",
              "      border-bottom-color: var(--fill-color);\n",
              "      border-left-color: var(--fill-color);\n",
              "    }\n",
              "    20% {\n",
              "      border-color: transparent;\n",
              "      border-left-color: var(--fill-color);\n",
              "      border-top-color: var(--fill-color);\n",
              "    }\n",
              "    30% {\n",
              "      border-color: transparent;\n",
              "      border-left-color: var(--fill-color);\n",
              "      border-top-color: var(--fill-color);\n",
              "      border-right-color: var(--fill-color);\n",
              "    }\n",
              "    40% {\n",
              "      border-color: transparent;\n",
              "      border-right-color: var(--fill-color);\n",
              "      border-top-color: var(--fill-color);\n",
              "    }\n",
              "    60% {\n",
              "      border-color: transparent;\n",
              "      border-right-color: var(--fill-color);\n",
              "    }\n",
              "    80% {\n",
              "      border-color: transparent;\n",
              "      border-right-color: var(--fill-color);\n",
              "      border-bottom-color: var(--fill-color);\n",
              "    }\n",
              "    90% {\n",
              "      border-color: transparent;\n",
              "      border-bottom-color: var(--fill-color);\n",
              "    }\n",
              "  }\n",
              "</style>\n",
              "\n",
              "  <script>\n",
              "    async function quickchart(key) {\n",
              "      const quickchartButtonEl =\n",
              "        document.querySelector('#' + key + ' button');\n",
              "      quickchartButtonEl.disabled = true;  // To prevent multiple clicks.\n",
              "      quickchartButtonEl.classList.add('colab-df-spinner');\n",
              "      try {\n",
              "        const charts = await google.colab.kernel.invokeFunction(\n",
              "            'suggestCharts', [key], {});\n",
              "      } catch (error) {\n",
              "        console.error('Error during call to suggestCharts:', error);\n",
              "      }\n",
              "      quickchartButtonEl.classList.remove('colab-df-spinner');\n",
              "      quickchartButtonEl.classList.add('colab-df-quickchart-complete');\n",
              "    }\n",
              "    (() => {\n",
              "      let quickchartButtonEl =\n",
              "        document.querySelector('#df-d0f43ea0-95db-44c0-bfd5-552e70d45df3 button');\n",
              "      quickchartButtonEl.style.display =\n",
              "        google.colab.kernel.accessAllowed ? 'block' : 'none';\n",
              "    })();\n",
              "  </script>\n",
              "</div>\n",
              "    </div>\n",
              "  </div>\n"
            ],
            "application/vnd.google.colaboratory.intrinsic+json": {
              "type": "dataframe",
              "variable_name": "df_data",
              "summary": "{\n  \"name\": \"df_data\",\n  \"rows\": 252,\n  \"fields\": [\n    {\n      \"column\": \"AGE DURING ADMISSION\",\n      \"properties\": {\n        \"dtype\": \"number\",\n        \"std\": 0.42780132753728234,\n        \"min\": 19.0,\n        \"max\": 22.0,\n        \"num_unique_values\": 4,\n        \"samples\": [\n          20.0,\n          22.0,\n          21.0\n        ],\n        \"semantic_type\": \"\",\n        \"description\": \"\"\n      }\n    },\n    {\n      \"column\": \"TOTAL_SEM\",\n      \"properties\": {\n        \"dtype\": \"number\",\n        \"std\": 0.6789794477708159,\n        \"min\": 3.0,\n        \"max\": 6.0,\n        \"num_unique_values\": 4,\n        \"samples\": [\n          5.0,\n          6.0,\n          4.0\n        ],\n        \"semantic_type\": \"\",\n        \"description\": \"\"\n      }\n    },\n    {\n      \"column\": \"AVERAGE_CGPA\",\n      \"properties\": {\n        \"dtype\": \"number\",\n        \"std\": 0.16232087087146405,\n        \"min\": 3.2260000000000004,\n        \"max\": 4.0,\n        \"num_unique_values\": 209,\n        \"samples\": [\n          3.668,\n          3.588,\n          3.7100000000000004\n        ],\n        \"semantic_type\": \"\",\n        \"description\": \"\"\n      }\n    },\n    {\n      \"column\": \"FINAL_CGPA\",\n      \"properties\": {\n        \"dtype\": \"number\",\n        \"std\": 0.13738436034567386,\n        \"min\": 3.41,\n        \"max\": 4.0,\n        \"num_unique_values\": 52,\n        \"samples\": [\n          3.49,\n          3.87,\n          3.58\n        ],\n        \"semantic_type\": \"\",\n        \"description\": \"\"\n      }\n    },\n    {\n      \"column\": \"GRADING\",\n      \"properties\": {\n        \"dtype\": \"category\",\n        \"num_unique_values\": 4,\n        \"samples\": [\n          \"F\",\n          \"A\",\n          \"C\"\n        ],\n        \"semantic_type\": \"\",\n        \"description\": \"\"\n      }\n    }\n  ]\n}"
            }
          },
          "metadata": {},
          "execution_count": 16
        }
      ]
    },
    {
      "cell_type": "code",
      "source": [
        "x = df_data.drop(\"GRADING\", axis =1)\n",
        "y = df_data['GRADING']\n",
        "x = x.values\n",
        "x"
      ],
      "metadata": {
        "colab": {
          "base_uri": "https://localhost:8080/"
        },
        "id": "hL-jsHpv4eYN",
        "outputId": "49af3831-d03e-4e0f-a002-7523ea918623"
      },
      "execution_count": null,
      "outputs": [
        {
          "output_type": "execute_result",
          "data": {
            "text/plain": [
              "array([[21.        ,  4.        ,  3.4825    ,  3.63      ],\n",
              "       [20.        ,  5.        ,  3.698     ,  3.72      ],\n",
              "       [20.        ,  5.        ,  3.46      ,  3.6       ],\n",
              "       ...,\n",
              "       [20.        ,  5.        ,  4.        ,  4.        ],\n",
              "       [20.        ,  5.        ,  3.514     ,  3.51      ],\n",
              "       [19.        ,  3.        ,  3.68333333,  3.66      ]])"
            ]
          },
          "metadata": {},
          "execution_count": 17
        }
      ]
    },
    {
      "cell_type": "code",
      "source": [
        "from sklearn.model_selection import train_test_split\n",
        "\n",
        "x_train, x_test, y_train, y_test = train_test_split(x, y, test_size=0.4, random_state=2022)"
      ],
      "metadata": {
        "id": "9hLNJvA14jIj"
      },
      "execution_count": null,
      "outputs": []
    },
    {
      "cell_type": "code",
      "source": [
        "y_train.value_counts()"
      ],
      "metadata": {
        "colab": {
          "base_uri": "https://localhost:8080/"
        },
        "id": "Vj7Nt_9Y4l-Z",
        "outputId": "70a92552-fd35-4bc7-bae1-3e6af6c721bb"
      },
      "execution_count": null,
      "outputs": [
        {
          "output_type": "execute_result",
          "data": {
            "text/plain": [
              "GRADING\n",
              "B    69\n",
              "C    45\n",
              "A    29\n",
              "F     8\n",
              "Name: count, dtype: int64"
            ]
          },
          "metadata": {},
          "execution_count": 19
        }
      ]
    },
    {
      "cell_type": "code",
      "source": [
        "y_test.value_counts()"
      ],
      "metadata": {
        "colab": {
          "base_uri": "https://localhost:8080/"
        },
        "id": "qWu03f6b4opM",
        "outputId": "286edddd-56d8-4aa8-ba19-3ed2510308fb"
      },
      "execution_count": null,
      "outputs": [
        {
          "output_type": "execute_result",
          "data": {
            "text/plain": [
              "GRADING\n",
              "B    45\n",
              "C    29\n",
              "A    21\n",
              "F     6\n",
              "Name: count, dtype: int64"
            ]
          },
          "metadata": {},
          "execution_count": 20
        }
      ]
    },
    {
      "cell_type": "code",
      "source": [
        "from imblearn.over_sampling import SMOTE\n",
        "sm = SMOTE(random_state = 2022)\n",
        "x_train, y_train = sm.fit_resample(x_train, y_train)\n",
        "\n",
        "y_train.value_counts()"
      ],
      "metadata": {
        "colab": {
          "base_uri": "https://localhost:8080/"
        },
        "id": "zz5CgSNf4tAD",
        "outputId": "3b56709d-35cc-4a8a-9db2-f4b2e3e05785"
      },
      "execution_count": null,
      "outputs": [
        {
          "output_type": "execute_result",
          "data": {
            "text/plain": [
              "GRADING\n",
              "B    69\n",
              "C    69\n",
              "F    69\n",
              "A    69\n",
              "Name: count, dtype: int64"
            ]
          },
          "metadata": {},
          "execution_count": 21
        }
      ]
    },
    {
      "cell_type": "code",
      "source": [
        "# Model Development\n",
        "from sklearn.linear_model import LogisticRegression\n",
        "\n",
        "log_reg = LogisticRegression()\n",
        "log_reg.fit(x_train, y_train)\n",
        "\n",
        "y_pred = log_reg.predict(x_train)\n",
        "\n",
        "print(classification_report(y_train, y_pred))\n",
        "print(confusion_matrix(y_train, y_pred))"
      ],
      "metadata": {
        "colab": {
          "base_uri": "https://localhost:8080/"
        },
        "id": "Qdf7scx94xTi",
        "outputId": "f52ebccd-90b0-47c5-a56c-1f39938ab6b5"
      },
      "execution_count": null,
      "outputs": [
        {
          "output_type": "stream",
          "name": "stdout",
          "text": [
            "              precision    recall  f1-score   support\n",
            "\n",
            "           A       0.53      0.67      0.59        69\n",
            "           B       0.39      0.35      0.37        69\n",
            "           C       0.52      0.25      0.33        69\n",
            "           F       0.62      0.86      0.72        69\n",
            "\n",
            "    accuracy                           0.53       276\n",
            "   macro avg       0.51      0.53      0.50       276\n",
            "weighted avg       0.51      0.53      0.50       276\n",
            "\n",
            "[[46 11  9  3]\n",
            " [24 24  7 14]\n",
            " [16 17 17 19]\n",
            " [ 0 10  0 59]]\n"
          ]
        },
        {
          "output_type": "stream",
          "name": "stderr",
          "text": [
            "/usr/local/lib/python3.10/dist-packages/sklearn/linear_model/_logistic.py:458: ConvergenceWarning: lbfgs failed to converge (status=1):\n",
            "STOP: TOTAL NO. of ITERATIONS REACHED LIMIT.\n",
            "\n",
            "Increase the number of iterations (max_iter) or scale the data as shown in:\n",
            "    https://scikit-learn.org/stable/modules/preprocessing.html\n",
            "Please also refer to the documentation for alternative solver options:\n",
            "    https://scikit-learn.org/stable/modules/linear_model.html#logistic-regression\n",
            "  n_iter_i = _check_optimize_result(\n"
          ]
        }
      ]
    },
    {
      "cell_type": "code",
      "source": [
        "y_pred = log_reg.predict(x_test)\n",
        "\n",
        "print(classification_report(y_test, y_pred))\n",
        "print(confusion_matrix(y_test, y_pred))"
      ],
      "metadata": {
        "colab": {
          "base_uri": "https://localhost:8080/"
        },
        "id": "Z3p2ik6f4THS",
        "outputId": "c60dfb19-294e-496f-f2a5-a46df4e2d1de"
      },
      "execution_count": null,
      "outputs": [
        {
          "output_type": "stream",
          "name": "stdout",
          "text": [
            "              precision    recall  f1-score   support\n",
            "\n",
            "           A       0.33      0.67      0.44        21\n",
            "           B       0.32      0.16      0.21        45\n",
            "           C       0.50      0.21      0.29        29\n",
            "           F       0.12      0.50      0.20         6\n",
            "\n",
            "    accuracy                           0.30       101\n",
            "   macro avg       0.32      0.38      0.28       101\n",
            "weighted avg       0.36      0.30      0.28       101\n",
            "\n",
            "[[14  5  0  2]\n",
            " [19  7  6 13]\n",
            " [ 8  9  6  6]\n",
            " [ 2  1  0  3]]\n"
          ]
        }
      ]
    },
    {
      "cell_type": "code",
      "source": [
        "# Compute False Positive Rate\n",
        "def calculate_false_positive_rate(conf_matrix):\n",
        "    fp = conf_matrix.sum(axis=0) - np.diag(conf_matrix)\n",
        "    tn = conf_matrix.sum() - (conf_matrix.sum(axis=0) + conf_matrix.sum(axis=1) - np.diag(conf_matrix))\n",
        "    fp_rate = fp / (fp + tn)\n",
        "    return fp_rate\n",
        "\n",
        "# Compute confusion matrix for test set\n",
        "conf_matrix_test = confusion_matrix(y_test, y_pred)\n",
        "\n",
        "# Calculate False Positive Rate (FPR)\n",
        "fp_rate = calculate_false_positive_rate(conf_matrix_test)\n",
        "print(\"False Positive Rate for each class:\", fp_rate)\n",
        "\n",
        "# Calculate Macro-average FPR\n",
        "macro_avg_fpr = np.mean(fp_rate)\n",
        "print(\"Macro-average FPR:\", macro_avg_fpr)\n",
        "\n",
        "# Micro-average FPR\n",
        "total_fp = np.sum(conf_matrix_test.sum(axis=1) - np.diag(conf_matrix_test))\n",
        "total_tn = np.sum(conf_matrix_test.sum() - (conf_matrix_test.sum(axis=0) + conf_matrix_test.sum(axis=1) - np.diag(conf_matrix_test)))\n",
        "micro_avg_fpr = total_fp / (total_fp + total_tn)\n",
        "print(\"Micro-average FPR:\", micro_avg_fpr)\n",
        "\n",
        "# Weighted-average FPR\n",
        "class_counts = np.sum(conf_matrix_test, axis=1)\n",
        "weighted_avg_fpr = np.sum(fp_rate * class_counts) / np.sum(class_counts)\n",
        "print(\"Weighted-average FPR:\", weighted_avg_fpr)\n",
        "\n",
        "# Calculate Logarithmic Loss\n",
        "log_loss_test = log_loss(y_test, log_reg.predict_proba(x_test))\n",
        "print(\"Logarithmic Loss on Test Set:\", log_loss_test)\n",
        "\n",
        "# Visualize False Positive Rate\n",
        "plt.figure(figsize=(8, 6))\n",
        "plt.bar(np.arange(len(fp_rate)), fp_rate)\n",
        "plt.xlabel('Class')\n",
        "plt.ylabel('False Positive Rate')\n",
        "plt.title('False Positive Rate for each class')\n",
        "plt.xticks(np.arange(len(fp_rate)), np.unique(y_test))\n",
        "plt.show()"
      ],
      "metadata": {
        "colab": {
          "base_uri": "https://localhost:8080/",
          "height": 651
        },
        "id": "O4FrPO7V5AW8",
        "outputId": "56b44744-411b-41e4-f577-4d873814d9e7"
      },
      "execution_count": null,
      "outputs": [
        {
          "output_type": "stream",
          "name": "stdout",
          "text": [
            "False Positive Rate for each class: [0.3625     0.26785714 0.08333333 0.22105263]\n",
            "Macro-average FPR: 0.2336857769423559\n",
            "Micro-average FPR: 0.23432343234323433\n",
            "Weighted-average FPR: 0.2317728107397206\n",
            "Logarithmic Loss on Test Set: 1.3419798696295895\n"
          ]
        },
        {
          "output_type": "display_data",
          "data": {
            "text/plain": [
              "<Figure size 800x600 with 1 Axes>"
            ],
            "image/png": "[encoded data removed]"
          },
          "metadata": {}
        }
      ]
    },
    {
      "cell_type": "code",
      "source": [
        "from sklearn.metrics import accuracy_score, precision_score, f1_score, recall_score\n",
        "\n",
        "\n",
        "\n",
        "predictions = log_reg.predict(x_test)\n",
        "\n",
        "accuracy = accuracy_score(y_test, predictions)\n",
        "precision = precision_score(y_test, predictions, average='macro', zero_division=1,)\n",
        "f1 = f1_score(y_test, predictions, average='macro', zero_division=1)\n",
        "recall = recall_score(y_test, predictions, average='macro', zero_division=1)\n",
        "\n",
        "print(\"Acurracy (macro average):\", accuracy)\n",
        "print(\"Precision (macro average):\", precision)\n",
        "print(\"f1_score (macro average):\", f1)\n",
        "print(\"recall (macro average):\", recall)"
      ],
      "metadata": {
        "colab": {
          "base_uri": "https://localhost:8080/"
        },
        "id": "_q6cU_x96YgR",
        "outputId": "d1e7a3b8-e487-4bdc-ded1-6c010dbd20cd"
      },
      "execution_count": null,
      "outputs": [
        {
          "output_type": "stream",
          "name": "stdout",
          "text": [
            "Acurracy (macro average): 0.297029702970297\n",
            "Precision (macro average): 0.31719080338266387\n",
            "f1_score (macro average): 0.2847845376774663\n",
            "recall (macro average): 0.38227969348659\n"
          ]
        }
      ]
    },
    {
      "cell_type": "code",
      "source": [
        "from sklearn.metrics import accuracy_score, precision_score, f1_score, recall_score\n",
        "\n",
        "\n",
        "\n",
        "predictions = log_reg.predict(x_train)\n",
        "\n",
        "accuracy = accuracy_score(y_train, predictions)\n",
        "precision = precision_score(y_train, predictions, average='macro')\n",
        "f1 = f1_score(y_train, predictions, average='macro')\n",
        "recall = recall_score(y_train, predictions, average='macro')\n",
        "\n",
        "print(\"Acurracy (macro average):\", accuracy)\n",
        "print(\"Precision (macro average):\", precision)\n",
        "print(\"f1_score (macro average):\", f1)\n",
        "print(\"recall (macro average):\", recall)"
      ],
      "metadata": {
        "colab": {
          "base_uri": "https://localhost:8080/"
        },
        "id": "YzK_hBkF4WRz",
        "outputId": "bf8a469b-0c01-4a5b-dd68-ae78db836d84"
      },
      "execution_count": null,
      "outputs": [
        {
          "output_type": "stream",
          "name": "stdout",
          "text": [
            "Acurracy (macro average): 0.5289855072463768\n",
            "Precision (macro average): 0.5145461604635608\n",
            "f1_score (macro average): 0.5032015323231291\n",
            "recall (macro average): 0.5289855072463768\n"
          ]
        }
      ]
    },
    {
      "cell_type": "code",
      "source": [
        "from sklearn import tree\n",
        "clf = tree.DecisionTreeClassifier(max_depth=5,random_state= 2022)\n",
        "clf = clf.fit(x_train, y_train)\n",
        "\n",
        "y_pred = clf.predict(x_train)\n",
        "\n",
        "print(classification_report(y_train, y_pred))\n",
        "print(confusion_matrix(y_train, y_pred))"
      ],
      "metadata": {
        "colab": {
          "base_uri": "https://localhost:8080/"
        },
        "id": "-LC41kXd5MOX",
        "outputId": "ee453850-a0c8-412b-94a2-2d6721a28cfb"
      },
      "execution_count": null,
      "outputs": [
        {
          "output_type": "stream",
          "name": "stdout",
          "text": [
            "              precision    recall  f1-score   support\n",
            "\n",
            "           A       0.90      0.78      0.84        69\n",
            "           B       0.67      0.55      0.60        69\n",
            "           C       0.65      0.61      0.63        69\n",
            "           F       0.68      0.93      0.79        69\n",
            "\n",
            "    accuracy                           0.72       276\n",
            "   macro avg       0.72      0.72      0.71       276\n",
            "weighted avg       0.72      0.72      0.71       276\n",
            "\n",
            "[[54  5  8  2]\n",
            " [ 5 38 13 13]\n",
            " [ 1 11 42 15]\n",
            " [ 0  3  2 64]]\n"
          ]
        }
      ]
    },
    {
      "cell_type": "code",
      "source": [
        "y_pred = clf.predict(x_test)\n",
        "\n",
        "print(classification_report(y_test, y_pred))\n",
        "print(confusion_matrix(y_test, y_pred))"
      ],
      "metadata": {
        "colab": {
          "base_uri": "https://localhost:8080/"
        },
        "id": "-zq_4kBc4bUJ",
        "outputId": "2461377c-7279-4f75-f1ba-982a9937aa4f"
      },
      "execution_count": null,
      "outputs": [
        {
          "output_type": "stream",
          "name": "stdout",
          "text": [
            "              precision    recall  f1-score   support\n",
            "\n",
            "           A       0.39      0.52      0.45        21\n",
            "           B       0.36      0.18      0.24        45\n",
            "           C       0.39      0.45      0.42        29\n",
            "           F       0.11      0.33      0.17         6\n",
            "\n",
            "    accuracy                           0.34       101\n",
            "   macro avg       0.32      0.37      0.32       101\n",
            "weighted avg       0.36      0.34      0.33       101\n",
            "\n",
            "[[11  5  4  1]\n",
            " [12  8 16  9]\n",
            " [ 3  7 13  6]\n",
            " [ 2  2  0  2]]\n"
          ]
        }
      ]
    },
    {
      "cell_type": "code",
      "source": [
        "# Compute False Positive Rate\n",
        "def calculate_false_positive_rate(conf_matrix):\n",
        "    fp = conf_matrix.sum(axis=0) - np.diag(conf_matrix)\n",
        "    tn = conf_matrix.sum() - (conf_matrix.sum(axis=0) + conf_matrix.sum(axis=1) - np.diag(conf_matrix))\n",
        "    fp_rate = fp / (fp + tn)\n",
        "    return fp_rate\n",
        "\n",
        "# Compute confusion matrix for test set\n",
        "conf_matrix_test = confusion_matrix(y_test, y_pred)\n",
        "\n",
        "# Calculate False Positive Rate\n",
        "fp_rate = calculate_false_positive_rate(conf_matrix_test)\n",
        "print(\"False Positive Rate for each class:\", fp_rate)\n",
        "\n",
        "# Calculate Macro-average FPR\n",
        "macro_avg_fpr = np.mean(fp_rate)\n",
        "print(\"Macro-average FPR:\", macro_avg_fpr)\n",
        "\n",
        "# Micro-average FPR\n",
        "total_fp = np.sum(conf_matrix_test.sum(axis=1) - np.diag(conf_matrix_test))\n",
        "total_tn = np.sum(conf_matrix_test.sum() - (conf_matrix_test.sum(axis=0) + conf_matrix_test.sum(axis=1) - np.diag(conf_matrix_test)))\n",
        "micro_avg_fpr = total_fp / (total_fp + total_tn)\n",
        "print(\"Micro-average FPR:\", micro_avg_fpr)\n",
        "\n",
        "# Weighted-average FPR\n",
        "class_counts = np.sum(conf_matrix_test, axis=1)\n",
        "weighted_avg_fpr = np.sum(fp_rate * class_counts) / np.sum(class_counts)\n",
        "print(\"Weighted-average FPR:\", weighted_avg_fpr)\n",
        "\n",
        "# Calculate Logarithmic Loss\n",
        "log_loss_test = log_loss(y_test, clf.predict_proba(x_test))\n",
        "print(\"Logarithmic Loss on Test Set:\", log_loss_test)\n",
        "\n",
        "# Visualize False Positive Rate\n",
        "plt.figure(figsize=(8, 6))\n",
        "plt.bar(np.arange(len(fp_rate)), fp_rate)\n",
        "plt.xlabel('Class')\n",
        "plt.ylabel('False Positive Rate')\n",
        "plt.title('False Positive Rate for each class')\n",
        "plt.xticks(np.arange(len(fp_rate)), np.unique(y_test))\n",
        "plt.show()"
      ],
      "metadata": {
        "colab": {
          "base_uri": "https://localhost:8080/",
          "height": 651
        },
        "id": "X9fqwxnA5Ltk",
        "outputId": "f3b3b185-5be5-47e1-f952-badf1acbc185"
      },
      "execution_count": null,
      "outputs": [
        {
          "output_type": "stream",
          "name": "stdout",
          "text": [
            "False Positive Rate for each class: [0.2125     0.25       0.27777778 0.16842105]\n",
            "Macro-average FPR: 0.22717470760233918\n",
            "Micro-average FPR: 0.22112211221122113\n",
            "Weighted-average FPR: 0.24533249377569336\n",
            "Logarithmic Loss on Test Set: 6.726356934264092\n"
          ]
        },
        {
          "output_type": "display_data",
          "data": {
            "text/plain": [
              "<Figure size 800x600 with 1 Axes>"
            ],
            "image/png": "[encoded data removed]"
          },
          "metadata": {}
        }
      ]
    },
    {
      "cell_type": "code",
      "source": [
        "from sklearn.metrics import accuracy_score, precision_score, f1_score, recall_score\n",
        "\n",
        "\n",
        "\n",
        "predictions = clf.predict(x_test)\n",
        "\n",
        "accuracy = accuracy_score(y_test, predictions)\n",
        "precision = precision_score(y_test, predictions, average='macro', zero_division=1,)\n",
        "f1 = f1_score(y_test, predictions, average='macro', zero_division=1)\n",
        "recall = recall_score(y_test, predictions, average='macro', zero_division=1)\n",
        "\n",
        "print(\"Acurracy (macro average):\", accuracy)\n",
        "print(\"Precision (macro average):\", precision)\n",
        "print(\"f1_score (macro average):\", f1)\n",
        "print(\"recall (macro average):\", recall)"
      ],
      "metadata": {
        "colab": {
          "base_uri": "https://localhost:8080/"
        },
        "id": "tbPecYcm62Kc",
        "outputId": "e455a5a0-827a-496c-ec6f-2249f6e504e7"
      },
      "execution_count": null,
      "outputs": [
        {
          "output_type": "stream",
          "name": "stdout",
          "text": [
            "Acurracy (macro average): 0.33663366336633666\n",
            "Precision (macro average): 0.31538600288600294\n",
            "f1_score (macro average): 0.31845176684058313\n",
            "recall (macro average): 0.3707991242474001\n"
          ]
        }
      ]
    },
    {
      "cell_type": "code",
      "source": [
        "from sklearn.metrics import accuracy_score, precision_score, f1_score, recall_score\n",
        "\n",
        "\n",
        "\n",
        "predictions = clf.predict(x_train)\n",
        "\n",
        "accuracy = accuracy_score(y_train, predictions)\n",
        "precision = precision_score(y_train, predictions, average='macro')\n",
        "f1 = f1_score(y_train, predictions, average='macro')\n",
        "recall = recall_score(y_train, predictions, average='macro')\n",
        "\n",
        "print(\"Acurracy (macro average):\", accuracy)\n",
        "print(\"Precision (macro average):\", precision)\n",
        "print(\"f1_score (macro average):\", f1)\n",
        "print(\"recall (macro average):\", recall)"
      ],
      "metadata": {
        "colab": {
          "base_uri": "https://localhost:8080/"
        },
        "id": "-nGeu65R4fFY",
        "outputId": "0c60df47-a4f8-43d5-c963-856c0045d21a"
      },
      "execution_count": null,
      "outputs": [
        {
          "output_type": "stream",
          "name": "stdout",
          "text": [
            "Acurracy (macro average): 0.717391304347826\n",
            "Precision (macro average): 0.7234178941625751\n",
            "f1_score (macro average): 0.7131314126904018\n",
            "recall (macro average): 0.7173913043478262\n"
          ]
        }
      ]
    },
    {
      "cell_type": "code",
      "source": [
        "from sklearn.tree import export_graphviz\n",
        "export_graphviz(\n",
        "    clf,\n",
        "    out_file = \"Pathology Mark.dot\",\n",
        "    feature_names = ['AGE DURING ADMISSION', 'TOTAL_SEM', 'AVERAGE_CGPA', 'FINAL_CGPA'],\n",
        "    class_names = ['A','B', 'C', 'F' ],\n",
        "    rounded= True,\n",
        "    filled =True)"
      ],
      "metadata": {
        "id": "jbxArHkD4fyb"
      },
      "execution_count": null,
      "outputs": []
    },
    {
      "cell_type": "code",
      "source": [
        "from sklearn.ensemble import RandomForestClassifier\n",
        "clf1 = RandomForestClassifier(max_depth=5,random_state= 2022)\n",
        "clf1 = clf1.fit(x_train, y_train)\n",
        "\n",
        "y_pred = clf1.predict(x_train)\n",
        "y_pred\n",
        "\n",
        "print(classification_report(y_train, y_pred))\n",
        "print(confusion_matrix(y_train, y_pred))"
      ],
      "metadata": {
        "colab": {
          "base_uri": "https://localhost:8080/"
        },
        "id": "ChrKhBQ-5VBo",
        "outputId": "0c5b1bc7-2c16-4325-f704-63867cfd767b"
      },
      "execution_count": null,
      "outputs": [
        {
          "output_type": "stream",
          "name": "stdout",
          "text": [
            "              precision    recall  f1-score   support\n",
            "\n",
            "           A       0.83      0.91      0.87        69\n",
            "           B       0.72      0.67      0.69        69\n",
            "           C       0.66      0.59      0.63        69\n",
            "           F       0.82      0.88      0.85        69\n",
            "\n",
            "    accuracy                           0.76       276\n",
            "   macro avg       0.76      0.76      0.76       276\n",
            "weighted avg       0.76      0.76      0.76       276\n",
            "\n",
            "[[63  3  3  0]\n",
            " [ 6 46 12  5]\n",
            " [ 7 13 41  8]\n",
            " [ 0  2  6 61]]\n"
          ]
        }
      ]
    },
    {
      "cell_type": "code",
      "source": [
        "y_pred = clf1.predict(x_test)\n",
        "\n",
        "print(classification_report(y_test, y_pred))\n",
        "print(confusion_matrix(y_test, y_pred))"
      ],
      "metadata": {
        "colab": {
          "base_uri": "https://localhost:8080/"
        },
        "id": "ax7dfzi-4kMb",
        "outputId": "b507aca7-1dbd-48eb-e9af-bd67c2668a27"
      },
      "execution_count": null,
      "outputs": [
        {
          "output_type": "stream",
          "name": "stdout",
          "text": [
            "              precision    recall  f1-score   support\n",
            "\n",
            "           A       0.45      0.71      0.56        21\n",
            "           B       0.44      0.27      0.33        45\n",
            "           C       0.41      0.38      0.39        29\n",
            "           F       0.14      0.33      0.20         6\n",
            "\n",
            "    accuracy                           0.40       101\n",
            "   macro avg       0.36      0.42      0.37       101\n",
            "weighted avg       0.42      0.40      0.39       101\n",
            "\n",
            "[[15  4  2  0]\n",
            " [13 12 13  7]\n",
            " [ 3 10 11  5]\n",
            " [ 2  1  1  2]]\n"
          ]
        }
      ]
    },
    {
      "cell_type": "code",
      "source": [
        "# Compute False Positive Rate\n",
        "def calculate_false_positive_rate(conf_matrix):\n",
        "    fp = conf_matrix.sum(axis=0) - np.diag(conf_matrix)\n",
        "    tn = conf_matrix.sum() - (conf_matrix.sum(axis=0) + conf_matrix.sum(axis=1) - np.diag(conf_matrix))\n",
        "    fp_rate = fp / (fp + tn)\n",
        "    return fp_rate\n",
        "\n",
        "# Compute confusion matrix for test set\n",
        "conf_matrix_test = confusion_matrix(y_test, y_pred)\n",
        "\n",
        "# Calculate False Positive Rate\n",
        "fp_rate = calculate_false_positive_rate(conf_matrix_test)\n",
        "print(\"False Positive Rate for each class:\", fp_rate)\n",
        "\n",
        "# Calculate Macro-average FPR\n",
        "macro_avg_fpr = np.mean(fp_rate)\n",
        "print(\"Macro-average FPR:\", macro_avg_fpr)\n",
        "\n",
        "# Micro-average FPR\n",
        "total_fp = np.sum(conf_matrix_test.sum(axis=1) - np.diag(conf_matrix_test))\n",
        "total_tn = np.sum(conf_matrix_test.sum() - (conf_matrix_test.sum(axis=0) + conf_matrix_test.sum(axis=1) - np.diag(conf_matrix_test)))\n",
        "micro_avg_fpr = total_fp / (total_fp + total_tn)\n",
        "print(\"Micro-average FPR:\", micro_avg_fpr)\n",
        "\n",
        "# Weighted-average FPR\n",
        "class_counts = np.sum(conf_matrix_test, axis=1)\n",
        "weighted_avg_fpr = np.sum(fp_rate * class_counts) / np.sum(class_counts)\n",
        "print(\"Weighted-average FPR:\", weighted_avg_fpr)\n",
        "\n",
        "# Calculate Logarithmic Loss\n",
        "log_loss_test = log_loss(y_test, clf1.predict_proba(x_test))\n",
        "print(\"Logarithmic Loss on Test Set:\", log_loss_test)\n",
        "\n",
        "# Visualize False Positive Rate\n",
        "plt.figure(figsize=(8, 6))\n",
        "plt.bar(np.arange(len(fp_rate)), fp_rate)\n",
        "plt.xlabel('Class')\n",
        "plt.ylabel('False Positive Rate')\n",
        "plt.title('False Positive Rate for each class')\n",
        "plt.xticks(np.arange(len(fp_rate)), np.unique(y_test))\n",
        "plt.show()"
      ],
      "metadata": {
        "colab": {
          "base_uri": "https://localhost:8080/",
          "height": 651
        },
        "id": "f7aaqZZJ5VSW",
        "outputId": "a136930c-afc0-4c7a-a31c-9ef4054504ac"
      },
      "execution_count": null,
      "outputs": [
        {
          "output_type": "stream",
          "name": "stdout",
          "text": [
            "False Positive Rate for each class: [0.225      0.26785714 0.22222222 0.12631579]\n",
            "Macro-average FPR: 0.21034878863826234\n",
            "Micro-average FPR: 0.20132013201320131\n",
            "Weighted-average FPR: 0.2374347585134453\n",
            "Logarithmic Loss on Test Set: 1.2311949229908594\n"
          ]
        },
        {
          "output_type": "display_data",
          "data": {
            "text/plain": [
              "<Figure size 800x600 with 1 Axes>"
            ],
            "image/png": "[encoded data removed]"
          },
          "metadata": {}
        }
      ]
    },
    {
      "cell_type": "code",
      "source": [
        "from sklearn.metrics import accuracy_score, precision_score, f1_score, recall_score\n",
        "\n",
        "\n",
        "\n",
        "predictions = clf1.predict(x_test)\n",
        "\n",
        "accuracy = accuracy_score(y_test, predictions)\n",
        "precision = precision_score(y_test, predictions, average='macro', zero_division=1,)\n",
        "f1 = f1_score(y_test, predictions, average='macro', zero_division=1)\n",
        "recall = recall_score(y_test, predictions, average='macro', zero_division=1)\n",
        "\n",
        "print(\"Acurracy (macro average):\", accuracy)\n",
        "print(\"Precision (macro average):\", precision)\n",
        "print(\"f1_score (macro average):\", f1)\n",
        "print(\"recall (macro average):\", recall)"
      ],
      "metadata": {
        "colab": {
          "base_uri": "https://localhost:8080/"
        },
        "id": "885A77ht7J8a",
        "outputId": "18616fc4-df7d-4f2d-be3c-f1cfeeebe7ce"
      },
      "execution_count": null,
      "outputs": [
        {
          "output_type": "stream",
          "name": "stdout",
          "text": [
            "Acurracy (macro average): 0.39603960396039606\n",
            "Precision (macro average): 0.3623136123136123\n",
            "f1_score (macro average): 0.37043650793650795\n",
            "recall (macro average): 0.42339901477832514\n"
          ]
        }
      ]
    },
    {
      "cell_type": "code",
      "source": [
        "from sklearn.metrics import accuracy_score, precision_score, f1_score, recall_score\n",
        "\n",
        "\n",
        "\n",
        "predictions = clf1.predict(x_train)\n",
        "\n",
        "accuracy = accuracy_score(y_train, predictions)\n",
        "precision = precision_score(y_train, predictions, average='macro')\n",
        "f1 = f1_score(y_train, predictions, average='macro')\n",
        "recall = recall_score(y_train, predictions, average='macro')\n",
        "\n",
        "print(\"Acurracy (macro average):\", accuracy)\n",
        "print(\"Precision (macro average):\", precision)\n",
        "print(\"f1_score (macro average):\", f1)\n",
        "print(\"recall (macro average):\", recall)"
      ],
      "metadata": {
        "colab": {
          "base_uri": "https://localhost:8080/"
        },
        "id": "EBp4fSnk4owE",
        "outputId": "5b15b992-12a0-478f-8bfa-eaf883019fa4"
      },
      "execution_count": null,
      "outputs": [
        {
          "output_type": "stream",
          "name": "stdout",
          "text": [
            "Acurracy (macro average): 0.7644927536231884\n",
            "Precision (macro average): 0.7583280038315054\n",
            "f1_score (macro average): 0.7599489730424464\n",
            "recall (macro average): 0.7644927536231884\n"
          ]
        }
      ]
    },
    {
      "cell_type": "code",
      "source": [
        "from sklearn.pipeline import make_pipeline\n",
        "from sklearn.preprocessing import StandardScaler\n",
        "from sklearn.svm import SVC\n",
        "\n",
        "clf2 = make_pipeline(StandardScaler(), SVC(gamma='auto'))\n",
        "clf2.fit(x_train, y_train)\n",
        "\n",
        "y_pred = clf2.predict(x_train)\n",
        "\n",
        "print(classification_report(y_train, y_pred))\n",
        "print(confusion_matrix(y_train, y_pred))"
      ],
      "metadata": {
        "id": "QpdNa6NJ5bgk",
        "outputId": "cd640263-d081-40ef-b347-7c1212bfa6bd",
        "colab": {
          "base_uri": "https://localhost:8080/"
        }
      },
      "execution_count": null,
      "outputs": [
        {
          "output_type": "stream",
          "name": "stdout",
          "text": [
            "              precision    recall  f1-score   support\n",
            "\n",
            "           A       0.61      0.78      0.69        69\n",
            "           B       0.55      0.38      0.45        69\n",
            "           C       0.57      0.45      0.50        69\n",
            "           F       0.71      0.90      0.79        69\n",
            "\n",
            "    accuracy                           0.63       276\n",
            "   macro avg       0.61      0.63      0.61       276\n",
            "weighted avg       0.61      0.63      0.61       276\n",
            "\n",
            "[[54  8  7  0]\n",
            " [20 26 12 11]\n",
            " [14 10 31 14]\n",
            " [ 0  3  4 62]]\n"
          ]
        }
      ]
    },
    {
      "cell_type": "code",
      "source": [
        "y_pred = clf2.predict(x_test)\n",
        "\n",
        "print(classification_report(y_test, y_pred))\n",
        "print(confusion_matrix(y_test, y_pred))"
      ],
      "metadata": {
        "id": "9C4QOM8n5fch",
        "colab": {
          "base_uri": "https://localhost:8080/"
        },
        "outputId": "9b8406f3-3983-44d5-d518-bcc1d3a9b8fa"
      },
      "execution_count": null,
      "outputs": [
        {
          "output_type": "stream",
          "name": "stdout",
          "text": [
            "              precision    recall  f1-score   support\n",
            "\n",
            "           A       0.42      0.76      0.54        21\n",
            "           B       0.48      0.24      0.32        45\n",
            "           C       0.48      0.45      0.46        29\n",
            "           F       0.23      0.50      0.32         6\n",
            "\n",
            "    accuracy                           0.43       101\n",
            "   macro avg       0.40      0.49      0.41       101\n",
            "weighted avg       0.45      0.43      0.41       101\n",
            "\n",
            "[[16  3  2  0]\n",
            " [16 11 12  6]\n",
            " [ 6  6 13  4]\n",
            " [ 0  3  0  3]]\n"
          ]
        }
      ]
    },
    {
      "cell_type": "code",
      "source": [
        "# Compute False Positive Rate\n",
        "def calculate_false_positive_rate(conf_matrix):\n",
        "    fp = conf_matrix.sum(axis=0) - np.diag(conf_matrix)\n",
        "    tn = conf_matrix.sum() - (conf_matrix.sum(axis=0) + conf_matrix.sum(axis=1) - np.diag(conf_matrix))\n",
        "    fp_rate = fp / (fp + tn)\n",
        "    return fp_rate\n",
        "\n",
        "# Compute confusion matrix for test set\n",
        "conf_matrix_test = confusion_matrix(y_test, y_pred)\n",
        "\n",
        "# Calculate False Positive Rate\n",
        "fp_rate = calculate_false_positive_rate(conf_matrix_test)\n",
        "print(\"False Positive Rate for each class:\", fp_rate)\n",
        "\n",
        "# Calculate Macro-average FPR\n",
        "macro_avg_fpr = np.mean(fp_rate)\n",
        "print(\"Macro-average FPR:\", macro_avg_fpr)\n",
        "\n",
        "# Micro-average FPR\n",
        "total_fp = np.sum(conf_matrix_test.sum(axis=1) - np.diag(conf_matrix_test))\n",
        "total_tn = np.sum(conf_matrix_test.sum() - (conf_matrix_test.sum(axis=0) + conf_matrix_test.sum(axis=1) - np.diag(conf_matrix_test)))\n",
        "micro_avg_fpr = total_fp / (total_fp + total_tn)\n",
        "print(\"Micro-average FPR:\", micro_avg_fpr)\n",
        "\n",
        "# Weighted-average FPR\n",
        "class_counts = np.sum(conf_matrix_test, axis=1)\n",
        "weighted_avg_fpr = np.sum(fp_rate * class_counts) / np.sum(class_counts)\n",
        "print(\"Weighted-average FPR:\", weighted_avg_fpr)\n",
        "\n",
        "# Calculate decision scores for each class\n",
        "decision_scores = clf2.decision_function(x_test)\n",
        "\n",
        "# Convert decision scores into probabilities using Platt scaling\n",
        "from sklearn.calibration import CalibratedClassifierCV\n",
        "\n",
        "calibrated_clf = CalibratedClassifierCV(clf2, method='sigmoid')\n",
        "calibrated_clf.fit(x_train, y_train)\n",
        "probabilities = calibrated_clf.predict_proba(x_test)\n",
        "\n",
        "# Calculate Logarithmic Loss\n",
        "log_loss_test = log_loss(y_test, probabilities)\n",
        "print(\"Logarithmic Loss on Test Set:\", log_loss_test)\n",
        "\n",
        "# Visualize False Positive Rate\n",
        "plt.figure(figsize=(8, 6))\n",
        "plt.bar(np.arange(len(fp_rate)), fp_rate)\n",
        "plt.xlabel('Class')\n",
        "plt.ylabel('False Positive Rate')\n",
        "plt.title('False Positive Rate for each class')\n",
        "plt.xticks(np.arange(len(fp_rate)), np.unique(y_test))\n",
        "plt.show()"
      ],
      "metadata": {
        "colab": {
          "base_uri": "https://localhost:8080/",
          "height": 651
        },
        "id": "oHBhBGrh5e6G",
        "outputId": "1b1b99a6-fe93-4d71-af29-1aad645fd4c6"
      },
      "execution_count": null,
      "outputs": [
        {
          "output_type": "stream",
          "name": "stdout",
          "text": [
            "False Positive Rate for each class: [0.275      0.21428571 0.19444444 0.10526316]\n",
            "Macro-average FPR: 0.1972483291562239\n",
            "Micro-average FPR: 0.19141914191419143\n",
            "Weighted-average FPR: 0.2147358908823213\n",
            "Logarithmic Loss on Test Set: 1.229308211034648\n"
          ]
        },
        {
          "output_type": "display_data",
          "data": {
            "text/plain": [
              "<Figure size 800x600 with 1 Axes>"
            ],
            "image/png": "[encoded data removed]"
          },
          "metadata": {}
        }
      ]
    },
    {
      "cell_type": "code",
      "source": [
        "from sklearn.metrics import accuracy_score, precision_score, f1_score, recall_score\n",
        "\n",
        "\n",
        "\n",
        "predictions = clf2.predict(x_test)\n",
        "\n",
        "accuracy = accuracy_score(y_test, predictions)\n",
        "precision = precision_score(y_test, predictions, average='macro', zero_division=1,)\n",
        "f1 = f1_score(y_test, predictions, average='macro', zero_division=1)\n",
        "recall = recall_score(y_test, predictions, average='macro', zero_division=1)\n",
        "\n",
        "print(\"Acurracy (macro average):\", accuracy)\n",
        "print(\"Precision (macro average):\", precision)\n",
        "print(\"f1_score (macro average):\", f1)\n",
        "print(\"recall (macro average):\", recall)"
      ],
      "metadata": {
        "id": "l7vOQags7Yea",
        "outputId": "8aacca8e-c2d4-4676-d4f0-d56eada8a12a",
        "colab": {
          "base_uri": "https://localhost:8080/"
        }
      },
      "execution_count": null,
      "outputs": [
        {
          "output_type": "stream",
          "name": "stdout",
          "text": [
            "Acurracy (macro average): 0.42574257425742573\n",
            "Precision (macro average): 0.4028910533487193\n",
            "f1_score (macro average): 0.4114943702726407\n",
            "recall (macro average): 0.48865626710454296\n"
          ]
        }
      ]
    },
    {
      "cell_type": "code",
      "source": [
        "from sklearn.metrics import accuracy_score, precision_score, f1_score, recall_score\n",
        "\n",
        "\n",
        "\n",
        "predictions = clf2.predict(x_train)\n",
        "\n",
        "accuracy = accuracy_score(y_train, predictions)\n",
        "precision = precision_score(y_train, predictions, average='macro')\n",
        "f1 = f1_score(y_train, predictions, average='macro')\n",
        "recall = recall_score(y_train, predictions, average='macro')\n",
        "\n",
        "print(\"Acurracy (macro average):\", accuracy)\n",
        "print(\"Precision (macro average):\", precision)\n",
        "print(\"f1_score (macro average):\", f1)\n",
        "print(\"recall (macro average):\", recall)"
      ],
      "metadata": {
        "colab": {
          "base_uri": "https://localhost:8080/"
        },
        "id": "Va8fO1UQ40Ex",
        "outputId": "341ea3e9-3bd6-4913-e040-a00eae3fcb41"
      },
      "execution_count": null,
      "outputs": [
        {
          "output_type": "stream",
          "name": "stdout",
          "text": [
            "Acurracy (macro average): 0.6268115942028986\n",
            "Precision (macro average): 0.6133864013082648\n",
            "f1_score (macro average): 0.6087776966907854\n",
            "recall (macro average): 0.6268115942028986\n"
          ]
        }
      ]
    }
  ]
}