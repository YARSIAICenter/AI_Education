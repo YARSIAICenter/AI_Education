{
  "nbformat": 4,
  "nbformat_minor": 0,
  "metadata": {
    "colab": {
      "provenance": [],
      "machine_shape": "hm"
    },
    "kernelspec": {
      "name": "python3",
      "display_name": "Python 3"
    },
    "language_info": {
      "name": "python"
    }
  },
  "cells": [
    {
      "cell_type": "markdown",
      "source": [
        "### Connect to Gdrive"
      ],
      "metadata": {
        "id": "kEMn0gTeNPoR"
      }
    },
    {
      "cell_type": "code",
      "execution_count": null,
      "metadata": {
        "colab": {
          "base_uri": "https://localhost:8080/"
        },
        "id": "NqfNEDzyNCGe",
        "outputId": "46f76204-65ed-49d1-a690-9f1531f538a0"
      },
      "outputs": [
        {
          "output_type": "stream",
          "name": "stdout",
          "text": [
            "Mounted at /content/drive\n"
          ]
        }
      ],
      "source": [
        "from google.colab import drive\n",
        "drive.mount('/content/drive')"
      ]
    },
    {
      "cell_type": "markdown",
      "source": [
        "### Import Libraries"
      ],
      "metadata": {
        "id": "12xQdtccNaqX"
      }
    },
    {
      "cell_type": "code",
      "source": [
        "import pandas as pd\n",
        "import numpy as np\n",
        "from sklearn.metrics import classification_report, confusion_matrix, log_loss\n",
        "import matplotlib.pyplot as plt"
      ],
      "metadata": {
        "id": "SqpEcJFxNZoo"
      },
      "execution_count": null,
      "outputs": []
    },
    {
      "cell_type": "markdown",
      "source": [
        "## 1. Data Extraction"
      ],
      "metadata": {
        "id": "sQTvCqSbNoBF"
      }
    },
    {
      "cell_type": "markdown",
      "source": [
        "**Extract Data**"
      ],
      "metadata": {
        "id": "tGGXAGnUNutV"
      }
    },
    {
      "cell_type": "code",
      "source": [
        "batch1213_df= pd.read_excel ('/content/drive/MyDrive/AI_education/data/batch1213-data-GRADED.xlsx',\n",
        "                             skiprows=5)\n",
        "batch1213_preuniversity_df= pd.read_excel ('/content/drive/MyDrive/AI_education/data/batch1213-data-GRADED.xlsx',\n",
        "                                           skiprows=4, sheet_name='preuni')\n",
        "batch1213_professional1_df= pd.read_excel ('/content/drive/MyDrive/AI_education/data/batch1213-data-GRADED.xlsx',\n",
        "                                           skiprows=2, sheet_name='pro1')\n",
        "\n",
        "batch1314_df= pd.read_excel ('/content/drive/MyDrive/AI_education/data/batch1314-data-GRADED.xlsx',\n",
        "                             skiprows=5)\n",
        "batch1314_preuniversity_df= pd.read_excel ('/content/drive/MyDrive/AI_education/data/batch1314-data-GRADED.xlsx',\n",
        "                                           skiprows=4, sheet_name='preuni')\n",
        "batch1314_professional1_df= pd.read_excel ('/content/drive/MyDrive/AI_education/data/batch1314-data-GRADED.xlsx',\n",
        "                                           skiprows=5, sheet_name='pro1')\n",
        "\n",
        "batch1415_df= pd.read_excel ('/content/drive/MyDrive/AI_education/data/batch1415-data-GRADED.xlsx',\n",
        "                             skiprows=5)\n",
        "batch1415_preuniversity_df= pd.read_excel ('/content/drive/MyDrive/AI_education/data/batch1415-data-GRADED.xlsx',\n",
        "                                           skiprows=4, sheet_name= 'preuni')\n",
        "batch1415_professional1_df= pd.read_excel ('/content/drive/MyDrive/AI_education/data/batch1415-data-GRADED.xlsx',\n",
        "                                           skiprows=2, sheet_name= 'pro1')\n",
        "\n",
        "batch1516_df= pd.read_excel ('/content/drive/MyDrive/AI_education/data/batch1516-data-graded.xlsx',\n",
        "                             skiprows=5)\n",
        "batch1516_preuniversity_df= pd.read_excel ('/content/drive/MyDrive/AI_education/data/batch1516-data-graded.xlsx',\n",
        "                                           skiprows=4, sheet_name='preuni')\n",
        "batch1516_professional1_df= pd.read_excel ('/content/drive/MyDrive/AI_education/data/batch1516-data-graded.xlsx',\n",
        "                                           skiprows=2, sheet_name='pro1')\n",
        "\n",
        "batch1617_df= pd.read_excel ('/content/drive/MyDrive/AI_education/data/batch1617-data-GRADED.xlsx',\n",
        "                             skiprows=5)\n",
        "batch1617_preuniversity_df= pd.read_excel ('/content/drive/MyDrive/AI_education/data/batch1617-data-GRADED.xlsx',\n",
        "                                           skiprows=5, sheet_name= 'preuni')\n",
        "batch1617_professional1_df= pd.read_excel ('/content/drive/MyDrive/AI_education/data/batch1617-data-GRADED.xlsx',\n",
        "                                           skiprows=5, sheet_name= 'pro1')\n"
      ],
      "metadata": {
        "id": "YW7M_A5sNmD_"
      },
      "execution_count": null,
      "outputs": []
    },
    {
      "cell_type": "code",
      "source": [
        "batch1213_part1_df = pd.merge(batch1213_df,\n",
        "                              batch1213_preuniversity_df,\n",
        "                              on = \"STUDENT'S IDENTITY NO. \")\n",
        "batch1213_part2_df = batch1213_professional1_df\n",
        "batch1213_all_df = pd.merge(batch1213_part1_df,\n",
        "                               batch1213_part2_df,\n",
        "                               on = \"STUDENT'S IDENTITY NO. \")\n",
        "\n",
        "\n",
        "batch1314_part1_df = pd.merge(batch1314_df,\n",
        "                              batch1314_preuniversity_df,\n",
        "                              on = \"STUDENT'S IDENTITY NO. \")\n",
        "batch1314_part2_df = batch1314_professional1_df\n",
        "\n",
        "batch1314_all_df = pd.merge(batch1314_part1_df,\n",
        "                               batch1314_part2_df,\n",
        "                               on = \"STUDENT'S IDENTITY NO. \")\n",
        "\n",
        "\n",
        "batch1415_part1_df = pd.merge(batch1415_df,\n",
        "                              batch1415_preuniversity_df,\n",
        "                              on = \"STUDENT'S IDENTITY NO. \")\n",
        "batch1415_part2_df = batch1415_professional1_df\n",
        "\n",
        "batch1415_all_df = pd.merge(batch1415_part1_df,\n",
        "                            batch1415_part2_df,\n",
        "                            on = \"STUDENT'S IDENTITY NO. \")\n",
        "\n",
        "\n",
        "batch1516_part1_df = pd.merge(batch1516_df,\n",
        "                              batch1516_preuniversity_df,\n",
        "                              on = \"STUDENT'S IDENTITY NO. \")\n",
        "batch1516_part2_df = batch1516_professional1_df\n",
        "\n",
        "batch1516_all_df = pd.merge(batch1516_part1_df,\n",
        "                            batch1516_part2_df,\n",
        "                            on = \"STUDENT'S IDENTITY NO. \")\n",
        "\n",
        "\n",
        "batch1617_part1_df = pd.merge(batch1617_df,\n",
        "                              batch1617_preuniversity_df,\n",
        "                              on = \"STUDENT'S IDENTITY NO. \")\n",
        "\n",
        "batch1617_part2_df = batch1617_professional1_df\n",
        "\n",
        "batch1617_all_df = pd.merge(batch1617_part1_df,\n",
        "                            batch1617_part2_df,\n",
        "                            on = \"STUDENT'S IDENTITY NO. \")\n",
        "\n"
      ],
      "metadata": {
        "id": "3Tm77_zGN3oM"
      },
      "execution_count": null,
      "outputs": []
    },
    {
      "cell_type": "markdown",
      "source": [
        "## 2. Data Preparation"
      ],
      "metadata": {
        "id": "ehmzg2P8N9gx"
      }
    },
    {
      "cell_type": "markdown",
      "source": [
        "**Combine Preprocessed Data**"
      ],
      "metadata": {
        "id": "HuYK2AVEOCBN"
      }
    },
    {
      "cell_type": "code",
      "source": [
        "data_df = pd.concat([batch1213_all_df, batch1314_all_df, batch1415_all_df, batch1516_all_df, batch1617_all_df])\n",
        "data_df.head()"
      ],
      "metadata": {
        "colab": {
          "base_uri": "https://localhost:8080/"
        },
        "id": "sGhrbWVaN8U2",
        "outputId": "8f2fd6ff-aaa7-4ad1-89d5-3a75dc9237e6"
      },
      "execution_count": null,
      "outputs": [
        {
          "output_type": "execute_result",
          "data": {
            "text/plain": [
              "   NO._x STUDENT'S IDENTITY NO.   LAST DIGIT MATRIC NO.  GENDER  \\\n",
              "0      1                11-12-10                      7    MALE   \n",
              "1      2                12-13-01                      8  FEMALE   \n",
              "2      3                12-13-02                      6  FEMALE   \n",
              "3      4                12-13-03                      6  FEMALE   \n",
              "4      5                12-13-04                      4  FEMALE   \n",
              "\n",
              "   AGE DURING ADMISSION BIRTH DATE  MIDDLE IC NO.  DISTRICT POSCODE     STATE  \\\n",
              "0                   NaN        NaN            NaN       NaN     NaN       NaN   \n",
              "1                  21.0     911122           14.0       NaN     NaN       NaN   \n",
              "2                  20.0     920816            3.0    BACHOK   16370  KELANTAN   \n",
              "3                  20.0     920522            6.0  JERANTUT   27020    PAHANG   \n",
              "4                  20.0     920625            8.0   PUCHONG   47100  SELANGOR   \n",
              "\n",
              "   ... SEM 6  ORAL BIOLOGY RESIT RESIT STATUS   SEM 4  ANATOMY RESIT  \\\n",
              "0  ...   NaN                 NaN          NaN     NaN            NaN   \n",
              "1  ...   NaN                 NaN          NaN     NaN            NaN   \n",
              "2  ...   NaN                 NaN          NaN     NaN            NaN   \n",
              "3  ...   NaN                 NaN          NaN     NaN            NaN   \n",
              "4  ...   NaN                 NaN          NaN     NaN            NaN   \n",
              "\n",
              "   PHYSIOLOGY RESIT  RESIT STATUS.1  BIOCHEMISTRY RESIT  RESIT STATUS.2  \\\n",
              "0               NaN             NaN                 NaN             NaN   \n",
              "1               NaN             NaN                 NaN             NaN   \n",
              "2               NaN             NaN                 NaN             NaN   \n",
              "3               NaN             NaN                 NaN             NaN   \n",
              "4               NaN             NaN                 NaN             NaN   \n",
              "\n",
              "   RESIT STATUS.3  \n",
              "0             NaN  \n",
              "1             NaN  \n",
              "2             NaN  \n",
              "3             NaN  \n",
              "4             NaN  \n",
              "\n",
              "[5 rows x 46 columns]"
            ],
            "text/html": [
              "\n",
              "  <div id=\"df-515125f3-c2f8-4768-9475-dca2df54a2f2\" class=\"colab-df-container\">\n",
              "    <div>\n",
              "<style scoped>\n",
              "    .dataframe tbody tr th:only-of-type {\n",
              "        vertical-align: middle;\n",
              "    }\n",
              "\n",
              "    .dataframe tbody tr th {\n",
              "        vertical-align: top;\n",
              "    }\n",
              "\n",
              "    .dataframe thead th {\n",
              "        text-align: right;\n",
              "    }\n",
              "</style>\n",
              "<table border=\"1\" class=\"dataframe\">\n",
              "  <thead>\n",
              "    <tr style=\"text-align: right;\">\n",
              "      <th></th>\n",
              "      <th>NO._x</th>\n",
              "      <th>STUDENT'S IDENTITY NO.</th>\n",
              "      <th>LAST DIGIT MATRIC NO.</th>\n",
              "      <th>GENDER</th>\n",
              "      <th>AGE DURING ADMISSION</th>\n",
              "      <th>BIRTH DATE</th>\n",
              "      <th>MIDDLE IC NO.</th>\n",
              "      <th>DISTRICT</th>\n",
              "      <th>POSCODE</th>\n",
              "      <th>STATE</th>\n",
              "      <th>...</th>\n",
              "      <th>SEM 6</th>\n",
              "      <th>ORAL BIOLOGY RESIT</th>\n",
              "      <th>RESIT STATUS</th>\n",
              "      <th>SEM 4</th>\n",
              "      <th>ANATOMY RESIT</th>\n",
              "      <th>PHYSIOLOGY RESIT</th>\n",
              "      <th>RESIT STATUS.1</th>\n",
              "      <th>BIOCHEMISTRY RESIT</th>\n",
              "      <th>RESIT STATUS.2</th>\n",
              "      <th>RESIT STATUS.3</th>\n",
              "    </tr>\n",
              "  </thead>\n",
              "  <tbody>\n",
              "    <tr>\n",
              "      <th>0</th>\n",
              "      <td>1</td>\n",
              "      <td>11-12-10</td>\n",
              "      <td>7</td>\n",
              "      <td>MALE</td>\n",
              "      <td>NaN</td>\n",
              "      <td>NaN</td>\n",
              "      <td>NaN</td>\n",
              "      <td>NaN</td>\n",
              "      <td>NaN</td>\n",
              "      <td>NaN</td>\n",
              "      <td>...</td>\n",
              "      <td>NaN</td>\n",
              "      <td>NaN</td>\n",
              "      <td>NaN</td>\n",
              "      <td>NaN</td>\n",
              "      <td>NaN</td>\n",
              "      <td>NaN</td>\n",
              "      <td>NaN</td>\n",
              "      <td>NaN</td>\n",
              "      <td>NaN</td>\n",
              "      <td>NaN</td>\n",
              "    </tr>\n",
              "    <tr>\n",
              "      <th>1</th>\n",
              "      <td>2</td>\n",
              "      <td>12-13-01</td>\n",
              "      <td>8</td>\n",
              "      <td>FEMALE</td>\n",
              "      <td>21.0</td>\n",
              "      <td>911122</td>\n",
              "      <td>14.0</td>\n",
              "      <td>NaN</td>\n",
              "      <td>NaN</td>\n",
              "      <td>NaN</td>\n",
              "      <td>...</td>\n",
              "      <td>NaN</td>\n",
              "      <td>NaN</td>\n",
              "      <td>NaN</td>\n",
              "      <td>NaN</td>\n",
              "      <td>NaN</td>\n",
              "      <td>NaN</td>\n",
              "      <td>NaN</td>\n",
              "      <td>NaN</td>\n",
              "      <td>NaN</td>\n",
              "      <td>NaN</td>\n",
              "    </tr>\n",
              "    <tr>\n",
              "      <th>2</th>\n",
              "      <td>3</td>\n",
              "      <td>12-13-02</td>\n",
              "      <td>6</td>\n",
              "      <td>FEMALE</td>\n",
              "      <td>20.0</td>\n",
              "      <td>920816</td>\n",
              "      <td>3.0</td>\n",
              "      <td>BACHOK</td>\n",
              "      <td>16370</td>\n",
              "      <td>KELANTAN</td>\n",
              "      <td>...</td>\n",
              "      <td>NaN</td>\n",
              "      <td>NaN</td>\n",
              "      <td>NaN</td>\n",
              "      <td>NaN</td>\n",
              "      <td>NaN</td>\n",
              "      <td>NaN</td>\n",
              "      <td>NaN</td>\n",
              "      <td>NaN</td>\n",
              "      <td>NaN</td>\n",
              "      <td>NaN</td>\n",
              "    </tr>\n",
              "    <tr>\n",
              "      <th>3</th>\n",
              "      <td>4</td>\n",
              "      <td>12-13-03</td>\n",
              "      <td>6</td>\n",
              "      <td>FEMALE</td>\n",
              "      <td>20.0</td>\n",
              "      <td>920522</td>\n",
              "      <td>6.0</td>\n",
              "      <td>JERANTUT</td>\n",
              "      <td>27020</td>\n",
              "      <td>PAHANG</td>\n",
              "      <td>...</td>\n",
              "      <td>NaN</td>\n",
              "      <td>NaN</td>\n",
              "      <td>NaN</td>\n",
              "      <td>NaN</td>\n",
              "      <td>NaN</td>\n",
              "      <td>NaN</td>\n",
              "      <td>NaN</td>\n",
              "      <td>NaN</td>\n",
              "      <td>NaN</td>\n",
              "      <td>NaN</td>\n",
              "    </tr>\n",
              "    <tr>\n",
              "      <th>4</th>\n",
              "      <td>5</td>\n",
              "      <td>12-13-04</td>\n",
              "      <td>4</td>\n",
              "      <td>FEMALE</td>\n",
              "      <td>20.0</td>\n",
              "      <td>920625</td>\n",
              "      <td>8.0</td>\n",
              "      <td>PUCHONG</td>\n",
              "      <td>47100</td>\n",
              "      <td>SELANGOR</td>\n",
              "      <td>...</td>\n",
              "      <td>NaN</td>\n",
              "      <td>NaN</td>\n",
              "      <td>NaN</td>\n",
              "      <td>NaN</td>\n",
              "      <td>NaN</td>\n",
              "      <td>NaN</td>\n",
              "      <td>NaN</td>\n",
              "      <td>NaN</td>\n",
              "      <td>NaN</td>\n",
              "      <td>NaN</td>\n",
              "    </tr>\n",
              "  </tbody>\n",
              "</table>\n",
              "<p>5 rows × 46 columns</p>\n",
              "</div>\n",
              "    <div class=\"colab-df-buttons\">\n",
              "\n",
              "  <div class=\"colab-df-container\">\n",
              "    <button class=\"colab-df-convert\" onclick=\"convertToInteractive('df-515125f3-c2f8-4768-9475-dca2df54a2f2')\"\n",
              "            title=\"Convert this dataframe to an interactive table.\"\n",
              "            style=\"display:none;\">\n",
              "\n",
              "  <svg xmlns=\"http://www.w3.org/2000/svg\" height=\"24px\" viewBox=\"0 -960 960 960\">\n",
              "    <path d=\"M120-120v-720h720v720H120Zm60-500h600v-160H180v160Zm220 220h160v-160H400v160Zm0 220h160v-160H400v160ZM180-400h160v-160H180v160Zm440 0h160v-160H620v160ZM180-180h160v-160H180v160Zm440 0h160v-160H620v160Z\"/>\n",
              "  </svg>\n",
              "    </button>\n",
              "\n",
              "  <style>\n",
              "    .colab-df-container {\n",
              "      display:flex;\n",
              "      gap: 12px;\n",
              "    }\n",
              "\n",
              "    .colab-df-convert {\n",
              "      background-color: #E8F0FE;\n",
              "      border: none;\n",
              "      border-radius: 50%;\n",
              "      cursor: pointer;\n",
              "      display: none;\n",
              "      fill: #1967D2;\n",
              "      height: 32px;\n",
              "      padding: 0 0 0 0;\n",
              "      width: 32px;\n",
              "    }\n",
              "\n",
              "    .colab-df-convert:hover {\n",
              "      background-color: #E2EBFA;\n",
              "      box-shadow: 0px 1px 2px rgba(60, 64, 67, 0.3), 0px 1px 3px 1px rgba(60, 64, 67, 0.15);\n",
              "      fill: #174EA6;\n",
              "    }\n",
              "\n",
              "    .colab-df-buttons div {\n",
              "      margin-bottom: 4px;\n",
              "    }\n",
              "\n",
              "    [theme=dark] .colab-df-convert {\n",
              "      background-color: #3B4455;\n",
              "      fill: #D2E3FC;\n",
              "    }\n",
              "\n",
              "    [theme=dark] .colab-df-convert:hover {\n",
              "      background-color: #434B5C;\n",
              "      box-shadow: 0px 1px 3px 1px rgba(0, 0, 0, 0.15);\n",
              "      filter: drop-shadow(0px 1px 2px rgba(0, 0, 0, 0.3));\n",
              "      fill: #FFFFFF;\n",
              "    }\n",
              "  </style>\n",
              "\n",
              "    <script>\n",
              "      const buttonEl =\n",
              "        document.querySelector('#df-515125f3-c2f8-4768-9475-dca2df54a2f2 button.colab-df-convert');\n",
              "      buttonEl.style.display =\n",
              "        google.colab.kernel.accessAllowed ? 'block' : 'none';\n",
              "\n",
              "      async function convertToInteractive(key) {\n",
              "        const element = document.querySelector('#df-515125f3-c2f8-4768-9475-dca2df54a2f2');\n",
              "        const dataTable =\n",
              "          await google.colab.kernel.invokeFunction('convertToInteractive',\n",
              "                                                    [key], {});\n",
              "        if (!dataTable) return;\n",
              "\n",
              "        const docLinkHtml = 'Like what you see? Visit the ' +\n",
              "          '<a target=\"_blank\" href=https://colab.research.google.com/notebooks/data_table.ipynb>data table notebook</a>'\n",
              "          + ' to learn more about interactive tables.';\n",
              "        element.innerHTML = '';\n",
              "        dataTable['output_type'] = 'display_data';\n",
              "        await google.colab.output.renderOutput(dataTable, element);\n",
              "        const docLink = document.createElement('div');\n",
              "        docLink.innerHTML = docLinkHtml;\n",
              "        element.appendChild(docLink);\n",
              "      }\n",
              "    </script>\n",
              "  </div>\n",
              "\n",
              "\n",
              "<div id=\"df-acb38373-fa7e-4276-80a8-ba38c2e01b02\">\n",
              "  <button class=\"colab-df-quickchart\" onclick=\"quickchart('df-acb38373-fa7e-4276-80a8-ba38c2e01b02')\"\n",
              "            title=\"Suggest charts\"\n",
              "            style=\"display:none;\">\n",
              "\n",
              "<svg xmlns=\"http://www.w3.org/2000/svg\" height=\"24px\"viewBox=\"0 0 24 24\"\n",
              "     width=\"24px\">\n",
              "    <g>\n",
              "        <path d=\"M19 3H5c-1.1 0-2 .9-2 2v14c0 1.1.9 2 2 2h14c1.1 0 2-.9 2-2V5c0-1.1-.9-2-2-2zM9 17H7v-7h2v7zm4 0h-2V7h2v10zm4 0h-2v-4h2v4z\"/>\n",
              "    </g>\n",
              "</svg>\n",
              "  </button>\n",
              "\n",
              "<style>\n",
              "  .colab-df-quickchart {\n",
              "      --bg-color: #E8F0FE;\n",
              "      --fill-color: #1967D2;\n",
              "      --hover-bg-color: #E2EBFA;\n",
              "      --hover-fill-color: #174EA6;\n",
              "      --disabled-fill-color: #AAA;\n",
              "      --disabled-bg-color: #DDD;\n",
              "  }\n",
              "\n",
              "  [theme=dark] .colab-df-quickchart {\n",
              "      --bg-color: #3B4455;\n",
              "      --fill-color: #D2E3FC;\n",
              "      --hover-bg-color: #434B5C;\n",
              "      --hover-fill-color: #FFFFFF;\n",
              "      --disabled-bg-color: #3B4455;\n",
              "      --disabled-fill-color: #666;\n",
              "  }\n",
              "\n",
              "  .colab-df-quickchart {\n",
              "    background-color: var(--bg-color);\n",
              "    border: none;\n",
              "    border-radius: 50%;\n",
              "    cursor: pointer;\n",
              "    display: none;\n",
              "    fill: var(--fill-color);\n",
              "    height: 32px;\n",
              "    padding: 0;\n",
              "    width: 32px;\n",
              "  }\n",
              "\n",
              "  .colab-df-quickchart:hover {\n",
              "    background-color: var(--hover-bg-color);\n",
              "    box-shadow: 0 1px 2px rgba(60, 64, 67, 0.3), 0 1px 3px 1px rgba(60, 64, 67, 0.15);\n",
              "    fill: var(--button-hover-fill-color);\n",
              "  }\n",
              "\n",
              "  .colab-df-quickchart-complete:disabled,\n",
              "  .colab-df-quickchart-complete:disabled:hover {\n",
              "    background-color: var(--disabled-bg-color);\n",
              "    fill: var(--disabled-fill-color);\n",
              "    box-shadow: none;\n",
              "  }\n",
              "\n",
              "  .colab-df-spinner {\n",
              "    border: 2px solid var(--fill-color);\n",
              "    border-color: transparent;\n",
              "    border-bottom-color: var(--fill-color);\n",
              "    animation:\n",
              "      spin 1s steps(1) infinite;\n",
              "  }\n",
              "\n",
              "  @keyframes spin {\n",
              "    0% {\n",
              "      border-color: transparent;\n",
              "      border-bottom-color: var(--fill-color);\n",
              "      border-left-color: var(--fill-color);\n",
              "    }\n",
              "    20% {\n",
              "      border-color: transparent;\n",
              "      border-left-color: var(--fill-color);\n",
              "      border-top-color: var(--fill-color);\n",
              "    }\n",
              "    30% {\n",
              "      border-color: transparent;\n",
              "      border-left-color: var(--fill-color);\n",
              "      border-top-color: var(--fill-color);\n",
              "      border-right-color: var(--fill-color);\n",
              "    }\n",
              "    40% {\n",
              "      border-color: transparent;\n",
              "      border-right-color: var(--fill-color);\n",
              "      border-top-color: var(--fill-color);\n",
              "    }\n",
              "    60% {\n",
              "      border-color: transparent;\n",
              "      border-right-color: var(--fill-color);\n",
              "    }\n",
              "    80% {\n",
              "      border-color: transparent;\n",
              "      border-right-color: var(--fill-color);\n",
              "      border-bottom-color: var(--fill-color);\n",
              "    }\n",
              "    90% {\n",
              "      border-color: transparent;\n",
              "      border-bottom-color: var(--fill-color);\n",
              "    }\n",
              "  }\n",
              "</style>\n",
              "\n",
              "  <script>\n",
              "    async function quickchart(key) {\n",
              "      const quickchartButtonEl =\n",
              "        document.querySelector('#' + key + ' button');\n",
              "      quickchartButtonEl.disabled = true;  // To prevent multiple clicks.\n",
              "      quickchartButtonEl.classList.add('colab-df-spinner');\n",
              "      try {\n",
              "        const charts = await google.colab.kernel.invokeFunction(\n",
              "            'suggestCharts', [key], {});\n",
              "      } catch (error) {\n",
              "        console.error('Error during call to suggestCharts:', error);\n",
              "      }\n",
              "      quickchartButtonEl.classList.remove('colab-df-spinner');\n",
              "      quickchartButtonEl.classList.add('colab-df-quickchart-complete');\n",
              "    }\n",
              "    (() => {\n",
              "      let quickchartButtonEl =\n",
              "        document.querySelector('#df-acb38373-fa7e-4276-80a8-ba38c2e01b02 button');\n",
              "      quickchartButtonEl.style.display =\n",
              "        google.colab.kernel.accessAllowed ? 'block' : 'none';\n",
              "    })();\n",
              "  </script>\n",
              "</div>\n",
              "    </div>\n",
              "  </div>\n"
            ],
            "application/vnd.google.colaboratory.intrinsic+json": {
              "type": "dataframe",
              "variable_name": "data_df"
            }
          },
          "metadata": {},
          "execution_count": 5
        }
      ]
    },
    {
      "cell_type": "code",
      "source": [
        "data_df.info()"
      ],
      "metadata": {
        "colab": {
          "base_uri": "https://localhost:8080/"
        },
        "id": "eeR_q9jZOLHF",
        "outputId": "394a71ec-b003-4b56-fb4c-eef56d724c45"
      },
      "execution_count": null,
      "outputs": [
        {
          "output_type": "stream",
          "name": "stdout",
          "text": [
            "<class 'pandas.core.frame.DataFrame'>\n",
            "Index: 285 entries, 0 to 58\n",
            "Data columns (total 46 columns):\n",
            " #   Column                   Non-Null Count  Dtype  \n",
            "---  ------                   --------------  -----  \n",
            " 0   NO._x                    285 non-null    int64  \n",
            " 1   STUDENT'S IDENTITY NO.   285 non-null    object \n",
            " 2   LAST DIGIT MATRIC NO.    285 non-null    int64  \n",
            " 3   GENDER                   285 non-null    object \n",
            " 4   AGE DURING ADMISSION     278 non-null    float64\n",
            " 5   BIRTH DATE               220 non-null    object \n",
            " 6   MIDDLE IC NO.            59 non-null     float64\n",
            " 7   DISTRICT                 277 non-null    object \n",
            " 8   POSCODE                  268 non-null    object \n",
            " 9   STATE                    279 non-null    object \n",
            " 10  COUNTRY                  281 non-null    object \n",
            " 11  NO._y                    285 non-null    int64  \n",
            " 12  PRE-UNIVERSITY           264 non-null    object \n",
            " 13   SEM 1                   258 non-null    float64\n",
            " 14  SEM 2                    258 non-null    float64\n",
            " 15  SEM 3                    258 non-null    float64\n",
            " 16  SEM 4                    191 non-null    float64\n",
            " 17  SEM 5                    127 non-null    float64\n",
            " 18  TOTAL_SEM                258 non-null    float64\n",
            " 19  AVERAGE_CGPA             258 non-null    float64\n",
            " 20  FINAL_CGPA               258 non-null    float64\n",
            " 21  NO.                      285 non-null    float64\n",
            " 22  ANATOMY MARK             285 non-null    float64\n",
            " 23  GRADING                  285 non-null    object \n",
            " 24  ANATOMY STATUS           285 non-null    object \n",
            " 25  PHYSIOLOGY MARK          285 non-null    float64\n",
            " 26  GRADING.1                285 non-null    object \n",
            " 27  PHYSIOLOGY STATUS        285 non-null    object \n",
            " 28  BIOCHEMISTRY MARK        285 non-null    float64\n",
            " 29  GRADING.2                285 non-null    object \n",
            " 30  BIOCHEMISTRY STATUS      285 non-null    object \n",
            " 31  ORAL BIOLOGY MARK        285 non-null    float64\n",
            " 32  GRADING.3                285 non-null    object \n",
            " 33  ORAL BIOLOGY STATUS      285 non-null    object \n",
            " 34   BIRTH DATE              59 non-null     float64\n",
            " 35  MIDDLE I/C NO.           220 non-null    object \n",
            " 36  SEM 6                    5 non-null      float64\n",
            " 37  ORAL BIOLOGY RESIT       2 non-null      object \n",
            " 38  RESIT STATUS             7 non-null      object \n",
            " 39   SEM 4                   44 non-null     float64\n",
            " 40  ANATOMY RESIT            6 non-null      float64\n",
            " 41  PHYSIOLOGY RESIT         1 non-null      float64\n",
            " 42  RESIT STATUS.1           1 non-null      object \n",
            " 43  BIOCHEMISTRY RESIT       5 non-null      float64\n",
            " 44  RESIT STATUS.2           5 non-null      object \n",
            " 45  RESIT STATUS.3           1 non-null      object \n",
            "dtypes: float64(21), int64(3), object(22)\n",
            "memory usage: 104.6+ KB\n"
          ]
        }
      ]
    },
    {
      "cell_type": "code",
      "source": [
        "df_copy = data_df.copy()"
      ],
      "metadata": {
        "id": "Lnt0EoJWOOO6"
      },
      "execution_count": null,
      "outputs": []
    },
    {
      "cell_type": "markdown",
      "source": [
        "**Cek missing value**"
      ],
      "metadata": {
        "id": "kWBXQhIWOmw7"
      }
    },
    {
      "cell_type": "code",
      "source": [
        "df_copy.isnull().sum()"
      ],
      "metadata": {
        "colab": {
          "base_uri": "https://localhost:8080/"
        },
        "id": "Ki6RSm6zOSVm",
        "outputId": "a5498c01-0db2-480c-c9e1-2febc4715a64"
      },
      "execution_count": null,
      "outputs": [
        {
          "output_type": "execute_result",
          "data": {
            "text/plain": [
              "NO._x                        0\n",
              "STUDENT'S IDENTITY NO.       0\n",
              "LAST DIGIT MATRIC NO.        0\n",
              "GENDER                       0\n",
              "AGE DURING ADMISSION         7\n",
              "BIRTH DATE                  65\n",
              "MIDDLE IC NO.              226\n",
              "DISTRICT                     8\n",
              "POSCODE                     17\n",
              "STATE                        6\n",
              "COUNTRY                      4\n",
              "NO._y                        0\n",
              "PRE-UNIVERSITY              21\n",
              " SEM 1                      27\n",
              "SEM 2                       27\n",
              "SEM 3                       27\n",
              "SEM 4                       94\n",
              "SEM 5                      158\n",
              "TOTAL_SEM                   27\n",
              "AVERAGE_CGPA                27\n",
              "FINAL_CGPA                  27\n",
              "NO.                          0\n",
              "ANATOMY MARK                 0\n",
              "GRADING                      0\n",
              "ANATOMY STATUS               0\n",
              "PHYSIOLOGY MARK              0\n",
              "GRADING.1                    0\n",
              "PHYSIOLOGY STATUS            0\n",
              "BIOCHEMISTRY MARK            0\n",
              "GRADING.2                    0\n",
              "BIOCHEMISTRY STATUS          0\n",
              "ORAL BIOLOGY MARK            0\n",
              "GRADING.3                    0\n",
              "ORAL BIOLOGY STATUS          0\n",
              " BIRTH DATE                226\n",
              "MIDDLE I/C NO.              65\n",
              "SEM 6                      280\n",
              "ORAL BIOLOGY RESIT         283\n",
              "RESIT STATUS               278\n",
              " SEM 4                     241\n",
              "ANATOMY RESIT              279\n",
              "PHYSIOLOGY RESIT           284\n",
              "RESIT STATUS.1             284\n",
              "BIOCHEMISTRY RESIT         280\n",
              "RESIT STATUS.2             280\n",
              "RESIT STATUS.3             284\n",
              "dtype: int64"
            ]
          },
          "metadata": {},
          "execution_count": 8
        }
      ]
    },
    {
      "cell_type": "markdown",
      "source": [
        "**Remove unncessary variables**"
      ],
      "metadata": {
        "id": "DapfPl6rO2bB"
      }
    },
    {
      "cell_type": "code",
      "source": [
        "df_copy = df_copy.drop(['RESIT STATUS.3', 'RESIT STATUS.1','PHYSIOLOGY RESIT','ORAL BIOLOGY RESIT','RESIT STATUS.2','BIOCHEMISTRY RESIT','SEM 6',\n",
        "              'ANATOMY RESIT','RESIT STATUS','BIRTH DATE','SEM 4','MIDDLE IC NO.','SEM 5',' SEM 4', ' BIRTH DATE', 'NO._x', 'LAST DIGIT MATRIC NO.', 'NO._y', 'NO.','DISTRICT', 'STATE', 'COUNTRY','PRE-UNIVERSITY','ANATOMY STATUS','PHYSIOLOGY STATUS',\n",
        "         'ORAL BIOLOGY STATUS', 'BIOCHEMISTRY STATUS'], axis=1)"
      ],
      "metadata": {
        "id": "abmYTW6-Oxbm"
      },
      "execution_count": null,
      "outputs": []
    },
    {
      "cell_type": "code",
      "source": [
        "df_copy = df_copy.drop(['GENDER', 'POSCODE', ' SEM 1', 'SEM 2', 'SEM 3', 'ANATOMY MARK', 'PHYSIOLOGY MARK', 'GRADING', 'BIOCHEMISTRY MARK', 'GRADING.1', 'ORAL BIOLOGY MARK', 'GRADING.3', 'MIDDLE I/C NO.'], axis=1)"
      ],
      "metadata": {
        "id": "Wek8NYvhpzym"
      },
      "execution_count": null,
      "outputs": []
    },
    {
      "cell_type": "code",
      "source": [
        "df_copy = df_copy.drop(\"STUDENT'S IDENTITY NO. \", axis=1)"
      ],
      "metadata": {
        "id": "6tuMxyJQp7aJ"
      },
      "execution_count": null,
      "outputs": []
    },
    {
      "cell_type": "markdown",
      "source": [
        "**Handling Missing values**"
      ],
      "metadata": {
        "id": "hwEL4dNlPoDi"
      }
    },
    {
      "cell_type": "code",
      "source": [
        "df_data = df_copy.dropna()"
      ],
      "metadata": {
        "id": "8J7HAM3UpuGy"
      },
      "execution_count": null,
      "outputs": []
    },
    {
      "cell_type": "code",
      "source": [
        "df_data.isnull().sum()"
      ],
      "metadata": {
        "colab": {
          "base_uri": "https://localhost:8080/"
        },
        "id": "yk0iFwLjPzL4",
        "outputId": "f78c8ba6-64eb-41fa-c647-1734d26a0a1b"
      },
      "execution_count": null,
      "outputs": [
        {
          "output_type": "execute_result",
          "data": {
            "text/plain": [
              "AGE DURING ADMISSION    0\n",
              "TOTAL_SEM               0\n",
              "AVERAGE_CGPA            0\n",
              "FINAL_CGPA              0\n",
              "GRADING.2               0\n",
              "dtype: int64"
            ]
          },
          "metadata": {},
          "execution_count": 13
        }
      ]
    },
    {
      "cell_type": "code",
      "source": [
        "df_data.head()"
      ],
      "metadata": {
        "colab": {
          "base_uri": "https://localhost:8080/"
        },
        "id": "oUF9--jOQfXj",
        "outputId": "3fee960d-a61a-4553-acd2-7698d89bb7a6"
      },
      "execution_count": null,
      "outputs": [
        {
          "output_type": "execute_result",
          "data": {
            "text/plain": [
              "   AGE DURING ADMISSION  TOTAL_SEM  AVERAGE_CGPA  FINAL_CGPA GRADING.2\n",
              "1                  21.0        4.0        3.4825        3.63         C\n",
              "2                  20.0        5.0        3.6980        3.72         B\n",
              "3                  20.0        5.0        3.4600        3.60         B\n",
              "4                  20.0        5.0        3.6820        3.79         B\n",
              "5                  20.0        5.0        3.5260        3.68         B"
            ],
            "text/html": [
              "\n",
              "  <div id=\"df-e1508170-5d27-43b5-8ca0-a8ea807a22d0\" class=\"colab-df-container\">\n",
              "    <div>\n",
              "<style scoped>\n",
              "    .dataframe tbody tr th:only-of-type {\n",
              "        vertical-align: middle;\n",
              "    }\n",
              "\n",
              "    .dataframe tbody tr th {\n",
              "        vertical-align: top;\n",
              "    }\n",
              "\n",
              "    .dataframe thead th {\n",
              "        text-align: right;\n",
              "    }\n",
              "</style>\n",
              "<table border=\"1\" class=\"dataframe\">\n",
              "  <thead>\n",
              "    <tr style=\"text-align: right;\">\n",
              "      <th></th>\n",
              "      <th>AGE DURING ADMISSION</th>\n",
              "      <th>TOTAL_SEM</th>\n",
              "      <th>AVERAGE_CGPA</th>\n",
              "      <th>FINAL_CGPA</th>\n",
              "      <th>GRADING.2</th>\n",
              "    </tr>\n",
              "  </thead>\n",
              "  <tbody>\n",
              "    <tr>\n",
              "      <th>1</th>\n",
              "      <td>21.0</td>\n",
              "      <td>4.0</td>\n",
              "      <td>3.4825</td>\n",
              "      <td>3.63</td>\n",
              "      <td>C</td>\n",
              "    </tr>\n",
              "    <tr>\n",
              "      <th>2</th>\n",
              "      <td>20.0</td>\n",
              "      <td>5.0</td>\n",
              "      <td>3.6980</td>\n",
              "      <td>3.72</td>\n",
              "      <td>B</td>\n",
              "    </tr>\n",
              "    <tr>\n",
              "      <th>3</th>\n",
              "      <td>20.0</td>\n",
              "      <td>5.0</td>\n",
              "      <td>3.4600</td>\n",
              "      <td>3.60</td>\n",
              "      <td>B</td>\n",
              "    </tr>\n",
              "    <tr>\n",
              "      <th>4</th>\n",
              "      <td>20.0</td>\n",
              "      <td>5.0</td>\n",
              "      <td>3.6820</td>\n",
              "      <td>3.79</td>\n",
              "      <td>B</td>\n",
              "    </tr>\n",
              "    <tr>\n",
              "      <th>5</th>\n",
              "      <td>20.0</td>\n",
              "      <td>5.0</td>\n",
              "      <td>3.5260</td>\n",
              "      <td>3.68</td>\n",
              "      <td>B</td>\n",
              "    </tr>\n",
              "  </tbody>\n",
              "</table>\n",
              "</div>\n",
              "    <div class=\"colab-df-buttons\">\n",
              "\n",
              "  <div class=\"colab-df-container\">\n",
              "    <button class=\"colab-df-convert\" onclick=\"convertToInteractive('df-e1508170-5d27-43b5-8ca0-a8ea807a22d0')\"\n",
              "            title=\"Convert this dataframe to an interactive table.\"\n",
              "            style=\"display:none;\">\n",
              "\n",
              "  <svg xmlns=\"http://www.w3.org/2000/svg\" height=\"24px\" viewBox=\"0 -960 960 960\">\n",
              "    <path d=\"M120-120v-720h720v720H120Zm60-500h600v-160H180v160Zm220 220h160v-160H400v160Zm0 220h160v-160H400v160ZM180-400h160v-160H180v160Zm440 0h160v-160H620v160ZM180-180h160v-160H180v160Zm440 0h160v-160H620v160Z\"/>\n",
              "  </svg>\n",
              "    </button>\n",
              "\n",
              "  <style>\n",
              "    .colab-df-container {\n",
              "      display:flex;\n",
              "      gap: 12px;\n",
              "    }\n",
              "\n",
              "    .colab-df-convert {\n",
              "      background-color: #E8F0FE;\n",
              "      border: none;\n",
              "      border-radius: 50%;\n",
              "      cursor: pointer;\n",
              "      display: none;\n",
              "      fill: #1967D2;\n",
              "      height: 32px;\n",
              "      padding: 0 0 0 0;\n",
              "      width: 32px;\n",
              "    }\n",
              "\n",
              "    .colab-df-convert:hover {\n",
              "      background-color: #E2EBFA;\n",
              "      box-shadow: 0px 1px 2px rgba(60, 64, 67, 0.3), 0px 1px 3px 1px rgba(60, 64, 67, 0.15);\n",
              "      fill: #174EA6;\n",
              "    }\n",
              "\n",
              "    .colab-df-buttons div {\n",
              "      margin-bottom: 4px;\n",
              "    }\n",
              "\n",
              "    [theme=dark] .colab-df-convert {\n",
              "      background-color: #3B4455;\n",
              "      fill: #D2E3FC;\n",
              "    }\n",
              "\n",
              "    [theme=dark] .colab-df-convert:hover {\n",
              "      background-color: #434B5C;\n",
              "      box-shadow: 0px 1px 3px 1px rgba(0, 0, 0, 0.15);\n",
              "      filter: drop-shadow(0px 1px 2px rgba(0, 0, 0, 0.3));\n",
              "      fill: #FFFFFF;\n",
              "    }\n",
              "  </style>\n",
              "\n",
              "    <script>\n",
              "      const buttonEl =\n",
              "        document.querySelector('#df-e1508170-5d27-43b5-8ca0-a8ea807a22d0 button.colab-df-convert');\n",
              "      buttonEl.style.display =\n",
              "        google.colab.kernel.accessAllowed ? 'block' : 'none';\n",
              "\n",
              "      async function convertToInteractive(key) {\n",
              "        const element = document.querySelector('#df-e1508170-5d27-43b5-8ca0-a8ea807a22d0');\n",
              "        const dataTable =\n",
              "          await google.colab.kernel.invokeFunction('convertToInteractive',\n",
              "                                                    [key], {});\n",
              "        if (!dataTable) return;\n",
              "\n",
              "        const docLinkHtml = 'Like what you see? Visit the ' +\n",
              "          '<a target=\"_blank\" href=https://colab.research.google.com/notebooks/data_table.ipynb>data table notebook</a>'\n",
              "          + ' to learn more about interactive tables.';\n",
              "        element.innerHTML = '';\n",
              "        dataTable['output_type'] = 'display_data';\n",
              "        await google.colab.output.renderOutput(dataTable, element);\n",
              "        const docLink = document.createElement('div');\n",
              "        docLink.innerHTML = docLinkHtml;\n",
              "        element.appendChild(docLink);\n",
              "      }\n",
              "    </script>\n",
              "  </div>\n",
              "\n",
              "\n",
              "<div id=\"df-7199984f-82a4-4c6f-87f7-501d0729ca7e\">\n",
              "  <button class=\"colab-df-quickchart\" onclick=\"quickchart('df-7199984f-82a4-4c6f-87f7-501d0729ca7e')\"\n",
              "            title=\"Suggest charts\"\n",
              "            style=\"display:none;\">\n",
              "\n",
              "<svg xmlns=\"http://www.w3.org/2000/svg\" height=\"24px\"viewBox=\"0 0 24 24\"\n",
              "     width=\"24px\">\n",
              "    <g>\n",
              "        <path d=\"M19 3H5c-1.1 0-2 .9-2 2v14c0 1.1.9 2 2 2h14c1.1 0 2-.9 2-2V5c0-1.1-.9-2-2-2zM9 17H7v-7h2v7zm4 0h-2V7h2v10zm4 0h-2v-4h2v4z\"/>\n",
              "    </g>\n",
              "</svg>\n",
              "  </button>\n",
              "\n",
              "<style>\n",
              "  .colab-df-quickchart {\n",
              "      --bg-color: #E8F0FE;\n",
              "      --fill-color: #1967D2;\n",
              "      --hover-bg-color: #E2EBFA;\n",
              "      --hover-fill-color: #174EA6;\n",
              "      --disabled-fill-color: #AAA;\n",
              "      --disabled-bg-color: #DDD;\n",
              "  }\n",
              "\n",
              "  [theme=dark] .colab-df-quickchart {\n",
              "      --bg-color: #3B4455;\n",
              "      --fill-color: #D2E3FC;\n",
              "      --hover-bg-color: #434B5C;\n",
              "      --hover-fill-color: #FFFFFF;\n",
              "      --disabled-bg-color: #3B4455;\n",
              "      --disabled-fill-color: #666;\n",
              "  }\n",
              "\n",
              "  .colab-df-quickchart {\n",
              "    background-color: var(--bg-color);\n",
              "    border: none;\n",
              "    border-radius: 50%;\n",
              "    cursor: pointer;\n",
              "    display: none;\n",
              "    fill: var(--fill-color);\n",
              "    height: 32px;\n",
              "    padding: 0;\n",
              "    width: 32px;\n",
              "  }\n",
              "\n",
              "  .colab-df-quickchart:hover {\n",
              "    background-color: var(--hover-bg-color);\n",
              "    box-shadow: 0 1px 2px rgba(60, 64, 67, 0.3), 0 1px 3px 1px rgba(60, 64, 67, 0.15);\n",
              "    fill: var(--button-hover-fill-color);\n",
              "  }\n",
              "\n",
              "  .colab-df-quickchart-complete:disabled,\n",
              "  .colab-df-quickchart-complete:disabled:hover {\n",
              "    background-color: var(--disabled-bg-color);\n",
              "    fill: var(--disabled-fill-color);\n",
              "    box-shadow: none;\n",
              "  }\n",
              "\n",
              "  .colab-df-spinner {\n",
              "    border: 2px solid var(--fill-color);\n",
              "    border-color: transparent;\n",
              "    border-bottom-color: var(--fill-color);\n",
              "    animation:\n",
              "      spin 1s steps(1) infinite;\n",
              "  }\n",
              "\n",
              "  @keyframes spin {\n",
              "    0% {\n",
              "      border-color: transparent;\n",
              "      border-bottom-color: var(--fill-color);\n",
              "      border-left-color: var(--fill-color);\n",
              "    }\n",
              "    20% {\n",
              "      border-color: transparent;\n",
              "      border-left-color: var(--fill-color);\n",
              "      border-top-color: var(--fill-color);\n",
              "    }\n",
              "    30% {\n",
              "      border-color: transparent;\n",
              "      border-left-color: var(--fill-color);\n",
              "      border-top-color: var(--fill-color);\n",
              "      border-right-color: var(--fill-color);\n",
              "    }\n",
              "    40% {\n",
              "      border-color: transparent;\n",
              "      border-right-color: var(--fill-color);\n",
              "      border-top-color: var(--fill-color);\n",
              "    }\n",
              "    60% {\n",
              "      border-color: transparent;\n",
              "      border-right-color: var(--fill-color);\n",
              "    }\n",
              "    80% {\n",
              "      border-color: transparent;\n",
              "      border-right-color: var(--fill-color);\n",
              "      border-bottom-color: var(--fill-color);\n",
              "    }\n",
              "    90% {\n",
              "      border-color: transparent;\n",
              "      border-bottom-color: var(--fill-color);\n",
              "    }\n",
              "  }\n",
              "</style>\n",
              "\n",
              "  <script>\n",
              "    async function quickchart(key) {\n",
              "      const quickchartButtonEl =\n",
              "        document.querySelector('#' + key + ' button');\n",
              "      quickchartButtonEl.disabled = true;  // To prevent multiple clicks.\n",
              "      quickchartButtonEl.classList.add('colab-df-spinner');\n",
              "      try {\n",
              "        const charts = await google.colab.kernel.invokeFunction(\n",
              "            'suggestCharts', [key], {});\n",
              "      } catch (error) {\n",
              "        console.error('Error during call to suggestCharts:', error);\n",
              "      }\n",
              "      quickchartButtonEl.classList.remove('colab-df-spinner');\n",
              "      quickchartButtonEl.classList.add('colab-df-quickchart-complete');\n",
              "    }\n",
              "    (() => {\n",
              "      let quickchartButtonEl =\n",
              "        document.querySelector('#df-7199984f-82a4-4c6f-87f7-501d0729ca7e button');\n",
              "      quickchartButtonEl.style.display =\n",
              "        google.colab.kernel.accessAllowed ? 'block' : 'none';\n",
              "    })();\n",
              "  </script>\n",
              "</div>\n",
              "    </div>\n",
              "  </div>\n"
            ],
            "application/vnd.google.colaboratory.intrinsic+json": {
              "type": "dataframe",
              "variable_name": "df_data",
              "summary": "{\n  \"name\": \"df_data\",\n  \"rows\": 258,\n  \"fields\": [\n    {\n      \"column\": \"AGE DURING ADMISSION\",\n      \"properties\": {\n        \"dtype\": \"number\",\n        \"std\": 0.4227848405343983,\n        \"min\": 19.0,\n        \"max\": 22.0,\n        \"num_unique_values\": 4,\n        \"samples\": [\n          20.0,\n          22.0,\n          21.0\n        ],\n        \"semantic_type\": \"\",\n        \"description\": \"\"\n      }\n    },\n    {\n      \"column\": \"TOTAL_SEM\",\n      \"properties\": {\n        \"dtype\": \"number\",\n        \"std\": 0.6750148440327705,\n        \"min\": 3.0,\n        \"max\": 6.0,\n        \"num_unique_values\": 4,\n        \"samples\": [\n          5.0,\n          6.0,\n          4.0\n        ],\n        \"semantic_type\": \"\",\n        \"description\": \"\"\n      }\n    },\n    {\n      \"column\": \"AVERAGE_CGPA\",\n      \"properties\": {\n        \"dtype\": \"number\",\n        \"std\": 0.16115915820258114,\n        \"min\": 3.2260000000000004,\n        \"max\": 4.0,\n        \"num_unique_values\": 209,\n        \"samples\": [\n          3.668,\n          3.8019999999999996,\n          3.7575000000000003\n        ],\n        \"semantic_type\": \"\",\n        \"description\": \"\"\n      }\n    },\n    {\n      \"column\": \"FINAL_CGPA\",\n      \"properties\": {\n        \"dtype\": \"number\",\n        \"std\": 0.13692068783216182,\n        \"min\": 3.41,\n        \"max\": 4.0,\n        \"num_unique_values\": 52,\n        \"samples\": [\n          3.49,\n          3.87,\n          3.58\n        ],\n        \"semantic_type\": \"\",\n        \"description\": \"\"\n      }\n    },\n    {\n      \"column\": \"GRADING.2\",\n      \"properties\": {\n        \"dtype\": \"category\",\n        \"num_unique_values\": 4,\n        \"samples\": [\n          \"B\",\n          \"F\",\n          \"C\"\n        ],\n        \"semantic_type\": \"\",\n        \"description\": \"\"\n      }\n    }\n  ]\n}"
            }
          },
          "metadata": {},
          "execution_count": 14
        }
      ]
    },
    {
      "cell_type": "markdown",
      "source": [
        "## Split Data"
      ],
      "metadata": {
        "id": "A1F0Rej1QqJC"
      }
    },
    {
      "cell_type": "code",
      "source": [
        "x = df_data.drop(\"GRADING.2\", axis =1)\n",
        "y = df_data['GRADING.2']\n",
        "x = x.values\n",
        "x"
      ],
      "metadata": {
        "colab": {
          "base_uri": "https://localhost:8080/"
        },
        "id": "4tGoL0sTQk6A",
        "outputId": "0652168a-baff-456b-dab5-1f1314555e71"
      },
      "execution_count": null,
      "outputs": [
        {
          "output_type": "execute_result",
          "data": {
            "text/plain": [
              "array([[21.        ,  4.        ,  3.4825    ,  3.63      ],\n",
              "       [20.        ,  5.        ,  3.698     ,  3.72      ],\n",
              "       [20.        ,  5.        ,  3.46      ,  3.6       ],\n",
              "       ...,\n",
              "       [20.        ,  5.        ,  4.        ,  4.        ],\n",
              "       [20.        ,  5.        ,  3.514     ,  3.51      ],\n",
              "       [19.        ,  3.        ,  3.68333333,  3.66      ]])"
            ]
          },
          "metadata": {},
          "execution_count": 15
        }
      ]
    },
    {
      "cell_type": "code",
      "source": [
        "from sklearn.model_selection import train_test_split\n",
        "\n",
        "x_train, x_test, y_train, y_test = train_test_split(x, y, test_size=0.4, random_state=2022)"
      ],
      "metadata": {
        "id": "zFkCUrqGQ5Sh"
      },
      "execution_count": null,
      "outputs": []
    },
    {
      "cell_type": "markdown",
      "source": [
        "**Divide the data into train and test data**"
      ],
      "metadata": {
        "id": "b8L_O3pQSnKG"
      }
    },
    {
      "cell_type": "code",
      "source": [
        "y_train.value_counts()"
      ],
      "metadata": {
        "colab": {
          "base_uri": "https://localhost:8080/"
        },
        "id": "EL7lyME0Q_gq",
        "outputId": "5de9b348-5080-4fa5-c80f-01b1f510060f"
      },
      "execution_count": null,
      "outputs": [
        {
          "output_type": "execute_result",
          "data": {
            "text/plain": [
              "GRADING.2\n",
              "B    78\n",
              "C    58\n",
              "A    13\n",
              "F     5\n",
              "Name: count, dtype: int64"
            ]
          },
          "metadata": {},
          "execution_count": 17
        }
      ]
    },
    {
      "cell_type": "code",
      "source": [
        "y_test.value_counts()"
      ],
      "metadata": {
        "colab": {
          "base_uri": "https://localhost:8080/"
        },
        "id": "T6r_8yp0RGX2",
        "outputId": "2fc340c6-a0c8-4de8-84df-e32bdeda19da"
      },
      "execution_count": null,
      "outputs": [
        {
          "output_type": "execute_result",
          "data": {
            "text/plain": [
              "GRADING.2\n",
              "C    49\n",
              "B    44\n",
              "A     6\n",
              "F     5\n",
              "Name: count, dtype: int64"
            ]
          },
          "metadata": {},
          "execution_count": 18
        }
      ]
    },
    {
      "cell_type": "markdown",
      "source": [
        "**Handle imbalanced data using resampling method**"
      ],
      "metadata": {
        "id": "3OLPVDFZReDu"
      }
    },
    {
      "cell_type": "code",
      "source": [
        "from imblearn.over_sampling import SMOTE\n",
        "sm = SMOTE(sampling_strategy='auto', random_state=2022, k_neighbors=1)\n",
        "x_train, y_train = sm.fit_resample(x_train, y_train)\n",
        "\n",
        "y_train.value_counts()"
      ],
      "metadata": {
        "colab": {
          "base_uri": "https://localhost:8080/"
        },
        "id": "U8XA4R4fRhvR",
        "outputId": "ee6ff0f9-37fe-41b0-ba7a-5b72059b3a76"
      },
      "execution_count": null,
      "outputs": [
        {
          "output_type": "execute_result",
          "data": {
            "text/plain": [
              "GRADING.2\n",
              "B    78\n",
              "C    78\n",
              "A    78\n",
              "F    78\n",
              "Name: count, dtype: int64"
            ]
          },
          "metadata": {},
          "execution_count": 19
        }
      ]
    },
    {
      "cell_type": "markdown",
      "source": [
        "## 4. Modeling"
      ],
      "metadata": {
        "id": "Pe1CHN_QRtm9"
      }
    },
    {
      "cell_type": "markdown",
      "source": [
        "### 4.1 Logistic Regression"
      ],
      "metadata": {
        "id": "hpAk8BgFR3MV"
      }
    },
    {
      "cell_type": "code",
      "source": [
        "# Model Development\n",
        "from sklearn.linear_model import LogisticRegression\n",
        "\n",
        "log_reg = LogisticRegression()\n",
        "log_reg.fit(x_train, y_train)\n",
        "\n",
        "y_pred = log_reg.predict(x_train)\n",
        "\n",
        "print(classification_report(y_train, y_pred))\n",
        "print(confusion_matrix(y_train, y_pred))"
      ],
      "metadata": {
        "colab": {
          "base_uri": "https://localhost:8080/"
        },
        "id": "RWkbbKQHRowN",
        "outputId": "e69307b0-25e4-4373-f8da-a3e870f01013"
      },
      "execution_count": null,
      "outputs": [
        {
          "output_type": "stream",
          "name": "stdout",
          "text": [
            "              precision    recall  f1-score   support\n",
            "\n",
            "           A       0.64      0.74      0.69        78\n",
            "           B       0.24      0.15      0.19        78\n",
            "           C       0.40      0.22      0.28        78\n",
            "           F       0.53      0.87      0.66        78\n",
            "\n",
            "    accuracy                           0.50       312\n",
            "   macro avg       0.45      0.50      0.45       312\n",
            "weighted avg       0.45      0.50      0.45       312\n",
            "\n",
            "[[58 17  2  1]\n",
            " [27 12 14 25]\n",
            " [ 6 21 17 34]\n",
            " [ 0  0 10 68]]\n"
          ]
        },
        {
          "output_type": "stream",
          "name": "stderr",
          "text": [
            "/usr/local/lib/python3.10/dist-packages/sklearn/linear_model/_logistic.py:458: ConvergenceWarning: lbfgs failed to converge (status=1):\n",
            "STOP: TOTAL NO. of ITERATIONS REACHED LIMIT.\n",
            "\n",
            "Increase the number of iterations (max_iter) or scale the data as shown in:\n",
            "    https://scikit-learn.org/stable/modules/preprocessing.html\n",
            "Please also refer to the documentation for alternative solver options:\n",
            "    https://scikit-learn.org/stable/modules/linear_model.html#logistic-regression\n",
            "  n_iter_i = _check_optimize_result(\n"
          ]
        }
      ]
    },
    {
      "cell_type": "code",
      "source": [
        "y_pred = log_reg.predict(x_test)\n",
        "\n",
        "print(classification_report(y_test, y_pred))\n",
        "print(confusion_matrix(y_test, y_pred))"
      ],
      "metadata": {
        "colab": {
          "base_uri": "https://localhost:8080/"
        },
        "id": "fW02VYXW_T53",
        "outputId": "1b132aa6-b139-475c-f4c4-6fd10a169d35"
      },
      "execution_count": null,
      "outputs": [
        {
          "output_type": "stream",
          "name": "stdout",
          "text": [
            "              precision    recall  f1-score   support\n",
            "\n",
            "           A       0.26      1.00      0.41         6\n",
            "           B       0.59      0.30      0.39        44\n",
            "           C       0.77      0.35      0.48        49\n",
            "           F       0.05      0.40      0.10         5\n",
            "\n",
            "    accuracy                           0.37       104\n",
            "   macro avg       0.42      0.51      0.35       104\n",
            "weighted avg       0.63      0.37      0.42       104\n",
            "\n",
            "[[ 6  0  0  0]\n",
            " [13 13  4 14]\n",
            " [ 4  7 17 21]\n",
            " [ 0  2  1  2]]\n"
          ]
        }
      ]
    },
    {
      "cell_type": "code",
      "source": [
        "# Compute False Positive Rate\n",
        "def calculate_false_positive_rate(conf_matrix):\n",
        "    fp = conf_matrix.sum(axis=0) - np.diag(conf_matrix)\n",
        "    tn = conf_matrix.sum() - (conf_matrix.sum(axis=0) + conf_matrix.sum(axis=1) - np.diag(conf_matrix))\n",
        "    fp_rate = fp / (fp + tn)\n",
        "    return fp_rate\n",
        "\n",
        "# Compute confusion matrix for test set\n",
        "conf_matrix_test = confusion_matrix(y_test, y_pred)\n",
        "\n",
        "# Calculate False Positive Rate (FPR)\n",
        "fp_rate = calculate_false_positive_rate(conf_matrix_test)\n",
        "print(\"False Positive Rate for each class:\", fp_rate)\n",
        "\n",
        "# Calculate Macro-average FPR\n",
        "macro_avg_fpr = np.mean(fp_rate)\n",
        "print(\"Macro-average FPR:\", macro_avg_fpr)\n",
        "\n",
        "# Micro-average FPR\n",
        "total_fp = np.sum(conf_matrix_test.sum(axis=1) - np.diag(conf_matrix_test))\n",
        "total_tn = np.sum(conf_matrix_test.sum() - (conf_matrix_test.sum(axis=0) + conf_matrix_test.sum(axis=1) - np.diag(conf_matrix_test)))\n",
        "micro_avg_fpr = total_fp / (total_fp + total_tn)\n",
        "print(\"Micro-average FPR:\", micro_avg_fpr)\n",
        "\n",
        "# Weighted-average FPR\n",
        "class_counts = np.sum(conf_matrix_test, axis=1)\n",
        "weighted_avg_fpr = np.sum(fp_rate * class_counts) / np.sum(class_counts)\n",
        "print(\"Weighted-average FPR:\", weighted_avg_fpr)\n",
        "\n",
        "# Calculate Logarithmic Loss\n",
        "log_loss_test = log_loss(y_test, log_reg.predict_proba(x_test))\n",
        "print(\"Logarithmic Loss on Test Set:\", log_loss_test)\n",
        "\n",
        "# Visualize False Positive Rate\n",
        "plt.figure(figsize=(8, 6))\n",
        "plt.bar(np.arange(len(fp_rate)), fp_rate)\n",
        "plt.xlabel('Class')\n",
        "plt.ylabel('False Positive Rate')\n",
        "plt.title('False Positive Rate for each class')\n",
        "plt.xticks(np.arange(len(fp_rate)), np.unique(y_test))\n",
        "plt.show()"
      ],
      "metadata": {
        "colab": {
          "base_uri": "https://localhost:8080/",
          "height": 651
        },
        "id": "DvAv8BVi2HZ-",
        "outputId": "bfe6680b-9cfb-45ae-f5a8-41ba236338cc"
      },
      "execution_count": null,
      "outputs": [
        {
          "output_type": "stream",
          "name": "stdout",
          "text": [
            "False Positive Rate for each class: [0.17346939 0.15       0.09090909 0.35353535]\n",
            "Macro-average FPR: 0.1919784580498866\n",
            "Micro-average FPR: 0.21153846153846154\n",
            "Weighted-average FPR: 0.13329844758416187\n",
            "Logarithmic Loss on Test Set: 1.3215752490862667\n"
          ]
        },
        {
          "output_type": "display_data",
          "data": {
            "text/plain": [
              "<Figure size 800x600 with 1 Axes>"
            ],
            "image/png": "[encoded data removed]"
          },
          "metadata": {}
        }
      ]
    },
    {
      "cell_type": "code",
      "source": [
        "from sklearn.metrics import accuracy_score, precision_score, f1_score, recall_score\n",
        "\n",
        "\n",
        "\n",
        "predictions = log_reg.predict(x_test)\n",
        "\n",
        "accuracy = accuracy_score(y_test, predictions)\n",
        "precision = precision_score(y_test, predictions, average='macro', zero_division=1,)\n",
        "f1 = f1_score(y_test, predictions, average='macro', zero_division=1)\n",
        "recall = recall_score(y_test, predictions, average='macro', zero_division=1)\n",
        "\n",
        "print(\"Acurracy (macro average):\", accuracy)\n",
        "print(\"Precision (macro average):\", precision)\n",
        "print(\"f1_score (macro average):\", f1)\n",
        "print(\"recall (macro average):\", recall)"
      ],
      "metadata": {
        "colab": {
          "base_uri": "https://localhost:8080/"
        },
        "id": "YvQN8VFw-1fA",
        "outputId": "34c46208-c2e2-458a-b06f-e184c5ec8b9a"
      },
      "execution_count": null,
      "outputs": [
        {
          "output_type": "stream",
          "name": "stdout",
          "text": [
            "Acurracy (macro average): 0.36538461538461536\n",
            "Precision (macro average): 0.4196399957269522\n",
            "f1_score (macro average): 0.3454609580155962\n",
            "recall (macro average): 0.5105983302411874\n"
          ]
        }
      ]
    },
    {
      "cell_type": "code",
      "source": [
        "from sklearn.metrics import accuracy_score, precision_score, f1_score, recall_score\n",
        "\n",
        "\n",
        "\n",
        "predictions = log_reg.predict(x_train)\n",
        "\n",
        "accuracy = accuracy_score(y_train, predictions)\n",
        "precision = precision_score(y_train, predictions, average='macro')\n",
        "f1 = f1_score(y_train, predictions, average='macro')\n",
        "recall = recall_score(y_train, predictions, average='macro')\n",
        "\n",
        "print(\"Acurracy (macro average):\", accuracy)\n",
        "print(\"Precision (macro average):\", precision)\n",
        "print(\"f1_score (macro average):\", f1)\n",
        "print(\"recall (macro average):\", recall)"
      ],
      "metadata": {
        "colab": {
          "base_uri": "https://localhost:8080/"
        },
        "id": "w0OrIxyBNigP",
        "outputId": "c8247685-88c6-40e2-cd65-70bd09abb4ab"
      },
      "execution_count": null,
      "outputs": [
        {
          "output_type": "stream",
          "name": "stdout",
          "text": [
            "Acurracy (macro average): 0.4967948717948718\n",
            "Precision (macro average): 0.4509903686429849\n",
            "f1_score (macro average): 0.4537691107097126\n",
            "recall (macro average): 0.4967948717948718\n"
          ]
        }
      ]
    },
    {
      "cell_type": "markdown",
      "source": [
        "### 4.2 Decision Tree"
      ],
      "metadata": {
        "id": "qeVT1RRvR-ut"
      }
    },
    {
      "cell_type": "code",
      "source": [
        "from sklearn import tree\n",
        "clf = tree.DecisionTreeClassifier(max_depth=5,random_state= 2022)\n",
        "clf = clf.fit(x_train, y_train)\n",
        "\n",
        "y_pred = clf.predict(x_train)\n",
        "\n",
        "print(classification_report(y_train, y_pred))\n",
        "print(confusion_matrix(y_train, y_pred))"
      ],
      "metadata": {
        "colab": {
          "base_uri": "https://localhost:8080/"
        },
        "id": "dL9hUFKNR7T_",
        "outputId": "80227a2c-fee7-4be6-8f0b-4ddcf68d6dff"
      },
      "execution_count": null,
      "outputs": [
        {
          "output_type": "stream",
          "name": "stdout",
          "text": [
            "              precision    recall  f1-score   support\n",
            "\n",
            "           A       0.92      0.90      0.91        78\n",
            "           B       0.92      0.42      0.58        78\n",
            "           C       0.61      0.91      0.73        78\n",
            "           F       0.89      0.95      0.92        78\n",
            "\n",
            "    accuracy                           0.79       312\n",
            "   macro avg       0.83      0.79      0.78       312\n",
            "weighted avg       0.83      0.79      0.78       312\n",
            "\n",
            "[[70  1  7  0]\n",
            " [ 5 33 35  5]\n",
            " [ 1  2 71  4]\n",
            " [ 0  0  4 74]]\n"
          ]
        }
      ]
    },
    {
      "cell_type": "code",
      "source": [
        "y_pred = clf.predict(x_test)\n",
        "\n",
        "print(classification_report(y_test, y_pred))\n",
        "print(confusion_matrix(y_test, y_pred))"
      ],
      "metadata": {
        "colab": {
          "base_uri": "https://localhost:8080/"
        },
        "id": "TIf0bK1k_mi1",
        "outputId": "fa6be875-7058-4f96-f99b-f6d63bbd6c60"
      },
      "execution_count": null,
      "outputs": [
        {
          "output_type": "stream",
          "name": "stdout",
          "text": [
            "              precision    recall  f1-score   support\n",
            "\n",
            "           A       0.18      0.33      0.24         6\n",
            "           B       0.68      0.30      0.41        44\n",
            "           C       0.55      0.73      0.63        49\n",
            "           F       0.00      0.00      0.00         5\n",
            "\n",
            "    accuracy                           0.49       104\n",
            "   macro avg       0.35      0.34      0.32       104\n",
            "weighted avg       0.56      0.49      0.49       104\n",
            "\n",
            "[[ 2  3  1  0]\n",
            " [ 8 13 23  0]\n",
            " [ 1  3 36  9]\n",
            " [ 0  0  5  0]]\n"
          ]
        }
      ]
    },
    {
      "cell_type": "code",
      "source": [
        "# Compute False Positive Rate\n",
        "def calculate_false_positive_rate(conf_matrix):\n",
        "    fp = conf_matrix.sum(axis=0) - np.diag(conf_matrix)\n",
        "    tn = conf_matrix.sum() - (conf_matrix.sum(axis=0) + conf_matrix.sum(axis=1) - np.diag(conf_matrix))\n",
        "    fp_rate = fp / (fp + tn)\n",
        "    return fp_rate\n",
        "\n",
        "# Compute confusion matrix for test set\n",
        "conf_matrix_test = confusion_matrix(y_test, y_pred)\n",
        "\n",
        "# Calculate False Positive Rate\n",
        "fp_rate = calculate_false_positive_rate(conf_matrix_test)\n",
        "print(\"False Positive Rate for each class:\", fp_rate)\n",
        "\n",
        "# Calculate Macro-average FPR\n",
        "macro_avg_fpr = np.mean(fp_rate)\n",
        "print(\"Macro-average FPR:\", macro_avg_fpr)\n",
        "\n",
        "# Micro-average FPR\n",
        "total_fp = np.sum(conf_matrix_test.sum(axis=1) - np.diag(conf_matrix_test))\n",
        "total_tn = np.sum(conf_matrix_test.sum() - (conf_matrix_test.sum(axis=0) + conf_matrix_test.sum(axis=1) - np.diag(conf_matrix_test)))\n",
        "micro_avg_fpr = total_fp / (total_fp + total_tn)\n",
        "print(\"Micro-average FPR:\", micro_avg_fpr)\n",
        "\n",
        "# Weighted-average FPR\n",
        "class_counts = np.sum(conf_matrix_test, axis=1)\n",
        "weighted_avg_fpr = np.sum(fp_rate * class_counts) / np.sum(class_counts)\n",
        "print(\"Weighted-average FPR:\", weighted_avg_fpr)\n",
        "\n",
        "# Calculate Logarithmic Loss\n",
        "log_loss_test = log_loss(y_test, clf.predict_proba(x_test))\n",
        "print(\"Logarithmic Loss on Test Set:\", log_loss_test)\n",
        "\n",
        "# Visualize False Positive Rate\n",
        "plt.figure(figsize=(8, 6))\n",
        "plt.bar(np.arange(len(fp_rate)), fp_rate)\n",
        "plt.xlabel('Class')\n",
        "plt.ylabel('False Positive Rate')\n",
        "plt.title('False Positive Rate for each class')\n",
        "plt.xticks(np.arange(len(fp_rate)), np.unique(y_test))\n",
        "plt.show()"
      ],
      "metadata": {
        "colab": {
          "base_uri": "https://localhost:8080/",
          "height": 651
        },
        "id": "D76zzRof2LjP",
        "outputId": "f46b392f-14b4-431e-e041-46c2313b6cb0"
      },
      "execution_count": null,
      "outputs": [
        {
          "output_type": "stream",
          "name": "stdout",
          "text": [
            "False Positive Rate for each class: [0.09183673 0.1        0.52727273 0.09090909]\n",
            "Macro-average FPR: 0.20250463821892392\n",
            "Micro-average FPR: 0.16987179487179488\n",
            "Weighted-average FPR: 0.3004031682603111\n",
            "Logarithmic Loss on Test Set: 6.734823036479525\n"
          ]
        },
        {
          "output_type": "display_data",
          "data": {
            "text/plain": [
              "<Figure size 800x600 with 1 Axes>"
            ],
            "image/png": "[encoded data removed]"
          },
          "metadata": {}
        }
      ]
    },
    {
      "cell_type": "code",
      "source": [
        "from sklearn.metrics import accuracy_score, precision_score, f1_score, recall_score\n",
        "\n",
        "\n",
        "\n",
        "predictions = clf.predict(x_test)\n",
        "\n",
        "accuracy = accuracy_score(y_test, predictions)\n",
        "precision = precision_score(y_test, predictions, average='macro', zero_division=1,)\n",
        "f1 = f1_score(y_test, predictions, average='macro', zero_division=1)\n",
        "recall = recall_score(y_test, predictions, average='macro', zero_division=1)\n",
        "\n",
        "print(\"Acurracy (macro average):\", accuracy)\n",
        "print(\"Precision (macro average):\", precision)\n",
        "print(\"f1_score (macro average):\", f1)\n",
        "print(\"recall (macro average):\", recall)"
      ],
      "metadata": {
        "colab": {
          "base_uri": "https://localhost:8080/"
        },
        "id": "v9R8_mCi-8vm",
        "outputId": "c26ac5c0-d1be-4d12-eb65-262ba5c77754"
      },
      "execution_count": null,
      "outputs": [
        {
          "output_type": "stream",
          "name": "stdout",
          "text": [
            "Acurracy (macro average): 0.49038461538461536\n",
            "Precision (macro average): 0.3549687154950313\n",
            "f1_score (macro average): 0.31989286942847317\n",
            "recall (macro average): 0.3408704390847248\n"
          ]
        }
      ]
    },
    {
      "cell_type": "code",
      "source": [
        "from sklearn.metrics import accuracy_score, precision_score, f1_score, recall_score\n",
        "\n",
        "\n",
        "\n",
        "predictions = clf.predict(x_train)\n",
        "\n",
        "accuracy = accuracy_score(y_train, predictions)\n",
        "precision = precision_score(y_train, predictions, average='macro')\n",
        "f1 = f1_score(y_train, predictions, average='macro')\n",
        "recall = recall_score(y_train, predictions, average='macro')\n",
        "\n",
        "print(\"Acurracy (macro average):\", accuracy)\n",
        "print(\"Precision (macro average):\", precision)\n",
        "print(\"f1_score (macro average):\", f1)\n",
        "print(\"recall (macro average):\", recall)"
      ],
      "metadata": {
        "colab": {
          "base_uri": "https://localhost:8080/"
        },
        "id": "83nSBmFsN16g",
        "outputId": "e2156772-0109-4a80-c44f-b78f7839daf7"
      },
      "execution_count": null,
      "outputs": [
        {
          "output_type": "stream",
          "name": "stdout",
          "text": [
            "Acurracy (macro average): 0.7948717948717948\n",
            "Precision (macro average): 0.8340307925358654\n",
            "f1_score (macro average): 0.7838745160255458\n",
            "recall (macro average): 0.7948717948717949\n"
          ]
        }
      ]
    },
    {
      "cell_type": "code",
      "source": [
        "from sklearn.tree import export_graphviz\n",
        "export_graphviz(\n",
        "    clf,\n",
        "    out_file = \"Biochemistry Mark.dot\",\n",
        "    feature_names = ['AGE DURING ADMISSION', 'TOTAL_SEM', 'AVERAGE_CGPA', 'FINAL_CGPA'],\n",
        "    class_names = ['A','B', 'C', 'F' ],\n",
        "    rounded= True,\n",
        "    filled =True)"
      ],
      "metadata": {
        "id": "mS6zlTymkw8N"
      },
      "execution_count": null,
      "outputs": []
    },
    {
      "cell_type": "markdown",
      "source": [
        "### 4.3 Random Forest"
      ],
      "metadata": {
        "id": "v7jqQvpsSL8u"
      }
    },
    {
      "cell_type": "code",
      "source": [
        "from sklearn.ensemble import RandomForestClassifier\n",
        "clf1 = RandomForestClassifier(max_depth=5,random_state= 2022)\n",
        "clf1 = clf1.fit(x_train, y_train)\n",
        "\n",
        "y_pred = clf1.predict(x_train)\n",
        "y_pred\n",
        "\n",
        "print(classification_report(y_train, y_pred))\n",
        "print(confusion_matrix(y_train, y_pred))"
      ],
      "metadata": {
        "colab": {
          "base_uri": "https://localhost:8080/"
        },
        "id": "y65AqkJOSGnO",
        "outputId": "624117e7-444e-4819-8ed9-d09b92a3656c"
      },
      "execution_count": null,
      "outputs": [
        {
          "output_type": "stream",
          "name": "stdout",
          "text": [
            "              precision    recall  f1-score   support\n",
            "\n",
            "           A       0.89      0.92      0.91        78\n",
            "           B       0.94      0.63      0.75        78\n",
            "           C       0.72      0.81      0.76        78\n",
            "           F       0.85      1.00      0.92        78\n",
            "\n",
            "    accuracy                           0.84       312\n",
            "   macro avg       0.85      0.84      0.84       312\n",
            "weighted avg       0.85      0.84      0.84       312\n",
            "\n",
            "[[72  0  6  0]\n",
            " [ 7 49 18  4]\n",
            " [ 2  3 63 10]\n",
            " [ 0  0  0 78]]\n"
          ]
        }
      ]
    },
    {
      "cell_type": "code",
      "source": [
        "y_pred = clf1.predict(x_test)\n",
        "\n",
        "print(classification_report(y_test, y_pred))\n",
        "print(confusion_matrix(y_test, y_pred))"
      ],
      "metadata": {
        "colab": {
          "base_uri": "https://localhost:8080/"
        },
        "id": "7kfkcWeu_wIQ",
        "outputId": "7296612d-3fc2-4954-fb4b-c02b9f9aa6a3"
      },
      "execution_count": null,
      "outputs": [
        {
          "output_type": "stream",
          "name": "stdout",
          "text": [
            "              precision    recall  f1-score   support\n",
            "\n",
            "           A       0.14      0.33      0.20         6\n",
            "           B       0.55      0.39      0.45        44\n",
            "           C       0.58      0.59      0.59        49\n",
            "           F       0.00      0.00      0.00         5\n",
            "\n",
            "    accuracy                           0.46       104\n",
            "   macro avg       0.32      0.33      0.31       104\n",
            "weighted avg       0.51      0.46      0.48       104\n",
            "\n",
            "[[ 2  3  1  0]\n",
            " [10 17 16  1]\n",
            " [ 2 10 29  8]\n",
            " [ 0  1  4  0]]\n"
          ]
        }
      ]
    },
    {
      "cell_type": "code",
      "source": [
        "# Compute False Positive Rate\n",
        "def calculate_false_positive_rate(conf_matrix):\n",
        "    fp = conf_matrix.sum(axis=0) - np.diag(conf_matrix)\n",
        "    tn = conf_matrix.sum() - (conf_matrix.sum(axis=0) + conf_matrix.sum(axis=1) - np.diag(conf_matrix))\n",
        "    fp_rate = fp / (fp + tn)\n",
        "    return fp_rate\n",
        "\n",
        "# Compute confusion matrix for test set\n",
        "conf_matrix_test = confusion_matrix(y_test, y_pred)\n",
        "\n",
        "# Calculate False Positive Rate\n",
        "fp_rate = calculate_false_positive_rate(conf_matrix_test)\n",
        "print(\"False Positive Rate for each class:\", fp_rate)\n",
        "\n",
        "# Calculate Macro-average FPR\n",
        "macro_avg_fpr = np.mean(fp_rate)\n",
        "print(\"Macro-average FPR:\", macro_avg_fpr)\n",
        "\n",
        "# Micro-average FPR\n",
        "total_fp = np.sum(conf_matrix_test.sum(axis=1) - np.diag(conf_matrix_test))\n",
        "total_tn = np.sum(conf_matrix_test.sum() - (conf_matrix_test.sum(axis=0) + conf_matrix_test.sum(axis=1) - np.diag(conf_matrix_test)))\n",
        "micro_avg_fpr = total_fp / (total_fp + total_tn)\n",
        "print(\"Micro-average FPR:\", micro_avg_fpr)\n",
        "\n",
        "# Weighted-average FPR\n",
        "class_counts = np.sum(conf_matrix_test, axis=1)\n",
        "weighted_avg_fpr = np.sum(fp_rate * class_counts) / np.sum(class_counts)\n",
        "print(\"Weighted-average FPR:\", weighted_avg_fpr)\n",
        "\n",
        "# Calculate Logarithmic Loss\n",
        "log_loss_test = log_loss(y_test, clf1.predict_proba(x_test))\n",
        "print(\"Logarithmic Loss on Test Set:\", log_loss_test)\n",
        "\n",
        "# Visualize False Positive Rate\n",
        "plt.figure(figsize=(8, 6))\n",
        "plt.bar(np.arange(len(fp_rate)), fp_rate)\n",
        "plt.xlabel('Class')\n",
        "plt.ylabel('False Positive Rate')\n",
        "plt.title('False Positive Rate for each class')\n",
        "plt.xticks(np.arange(len(fp_rate)), np.unique(y_test))\n",
        "plt.show()"
      ],
      "metadata": {
        "colab": {
          "base_uri": "https://localhost:8080/",
          "height": 651
        },
        "id": "cu249PNL2Omt",
        "outputId": "bbd6d03c-708f-4acd-b335-5248d8412ec5"
      },
      "execution_count": null,
      "outputs": [
        {
          "output_type": "stream",
          "name": "stdout",
          "text": [
            "False Positive Rate for each class: [0.12244898 0.23333333 0.38181818 0.09090909]\n",
            "Macro-average FPR: 0.2071273964131107\n",
            "Micro-average FPR: 0.1794871794871795\n",
            "Weighted-average FPR: 0.2900480471909044\n",
            "Logarithmic Loss on Test Set: 1.1263510568309174\n"
          ]
        },
        {
          "output_type": "display_data",
          "data": {
            "text/plain": [
              "<Figure size 800x600 with 1 Axes>"
            ],
            "image/png": "[encoded data removed]"
          },
          "metadata": {}
        }
      ]
    },
    {
      "cell_type": "code",
      "source": [
        "from sklearn.metrics import accuracy_score, precision_score, f1_score, recall_score\n",
        "\n",
        "\n",
        "\n",
        "predictions = clf1.predict(x_test)\n",
        "\n",
        "accuracy = accuracy_score(y_test, predictions)\n",
        "precision = precision_score(y_test, predictions, average='macro', zero_division=1,)\n",
        "f1 = f1_score(y_test, predictions, average='macro', zero_division=1)\n",
        "recall = recall_score(y_test, predictions, average='macro', zero_division=1)\n",
        "\n",
        "print(\"Acurracy (macro average):\", accuracy)\n",
        "print(\"Precision (macro average):\", precision)\n",
        "print(\"f1_score (macro average):\", f1)\n",
        "print(\"recall (macro average):\", recall)"
      ],
      "metadata": {
        "colab": {
          "base_uri": "https://localhost:8080/"
        },
        "id": "5nc6I9BW_BCy",
        "outputId": "df804307-94be-4003-f521-68a092183f18"
      },
      "execution_count": null,
      "outputs": [
        {
          "output_type": "stream",
          "name": "stdout",
          "text": [
            "Acurracy (macro average): 0.46153846153846156\n",
            "Precision (macro average): 0.3178110599078341\n",
            "f1_score (macro average): 0.30979797979797974\n",
            "recall (macro average): 0.3278834260977118\n"
          ]
        }
      ]
    },
    {
      "cell_type": "code",
      "source": [
        "from sklearn.metrics import accuracy_score, precision_score, f1_score, recall_score\n",
        "\n",
        "\n",
        "\n",
        "predictions = clf1.predict(x_train)\n",
        "\n",
        "accuracy = accuracy_score(y_train, predictions)\n",
        "precision = precision_score(y_train, predictions, average='macro')\n",
        "f1 = f1_score(y_train, predictions, average='macro')\n",
        "recall = recall_score(y_train, predictions, average='macro')\n",
        "\n",
        "print(\"Acurracy (macro average):\", accuracy)\n",
        "print(\"Precision (macro average):\", precision)\n",
        "print(\"f1_score (macro average):\", f1)\n",
        "print(\"recall (macro average):\", recall)"
      ],
      "metadata": {
        "colab": {
          "base_uri": "https://localhost:8080/"
        },
        "id": "9Qhh_BTgOSD3",
        "outputId": "8fdc551d-1691-4c82-949f-42714ae9a69e"
      },
      "execution_count": null,
      "outputs": [
        {
          "output_type": "stream",
          "name": "stdout",
          "text": [
            "Acurracy (macro average): 0.8397435897435898\n",
            "Precision (macro average): 0.8507901497968964\n",
            "f1_score (macro average): 0.8351974884161343\n",
            "recall (macro average): 0.8397435897435898\n"
          ]
        }
      ]
    },
    {
      "cell_type": "markdown",
      "source": [
        "### 4.4 Support Vector Machine (SVM)"
      ],
      "metadata": {
        "id": "lZ5b84h2SVTi"
      }
    },
    {
      "cell_type": "code",
      "source": [
        "from sklearn.pipeline import make_pipeline\n",
        "from sklearn.preprocessing import StandardScaler\n",
        "from sklearn.svm import SVC\n",
        "\n",
        "clf2 = make_pipeline(StandardScaler(), SVC(gamma='auto'))\n",
        "clf2.fit(x_train, y_train)\n",
        "\n",
        "y_pred = clf2.predict(x_train)\n",
        "\n",
        "print(classification_report(y_train, y_pred))\n",
        "print(confusion_matrix(y_train, y_pred))"
      ],
      "metadata": {
        "colab": {
          "base_uri": "https://localhost:8080/"
        },
        "id": "weeyJyu9SPz3",
        "outputId": "914b4afc-7329-4117-d7d4-aeb9e894feec"
      },
      "execution_count": null,
      "outputs": [
        {
          "output_type": "stream",
          "name": "stdout",
          "text": [
            "              precision    recall  f1-score   support\n",
            "\n",
            "           A       0.70      0.97      0.81        78\n",
            "           B       0.86      0.46      0.60        78\n",
            "           C       0.80      0.51      0.62        78\n",
            "           F       0.70      1.00      0.83        78\n",
            "\n",
            "    accuracy                           0.74       312\n",
            "   macro avg       0.76      0.74      0.72       312\n",
            "weighted avg       0.76      0.74      0.72       312\n",
            "\n",
            "[[76  1  1  0]\n",
            " [20 36  9 13]\n",
            " [13  5 40 20]\n",
            " [ 0  0  0 78]]\n"
          ]
        }
      ]
    },
    {
      "cell_type": "code",
      "source": [
        "y_pred = clf2.predict(x_test)\n",
        "\n",
        "print(classification_report(y_test, y_pred))\n",
        "print(confusion_matrix(y_test, y_pred))"
      ],
      "metadata": {
        "colab": {
          "base_uri": "https://localhost:8080/"
        },
        "id": "22Kn2A-2_6fz",
        "outputId": "a0119b18-16ca-4c07-d65b-12133655f6be"
      },
      "execution_count": null,
      "outputs": [
        {
          "output_type": "stream",
          "name": "stdout",
          "text": [
            "              precision    recall  f1-score   support\n",
            "\n",
            "           A       0.06      0.33      0.11         6\n",
            "           B       0.33      0.18      0.24        44\n",
            "           C       0.62      0.41      0.49        49\n",
            "           F       0.00      0.00      0.00         5\n",
            "\n",
            "    accuracy                           0.29       104\n",
            "   macro avg       0.26      0.23      0.21       104\n",
            "weighted avg       0.44      0.29      0.34       104\n",
            "\n",
            "[[ 2  4  0  0]\n",
            " [23  8  9  4]\n",
            " [ 6 11 20 12]\n",
            " [ 1  1  3  0]]\n"
          ]
        }
      ]
    },
    {
      "cell_type": "code",
      "source": [
        "# Compute False Positive Rate\n",
        "def calculate_false_positive_rate(conf_matrix):\n",
        "    fp = conf_matrix.sum(axis=0) - np.diag(conf_matrix)\n",
        "    tn = conf_matrix.sum() - (conf_matrix.sum(axis=0) + conf_matrix.sum(axis=1) - np.diag(conf_matrix))\n",
        "    fp_rate = fp / (fp + tn)\n",
        "    return fp_rate\n",
        "\n",
        "# Compute confusion matrix for test set\n",
        "conf_matrix_test = confusion_matrix(y_test, y_pred)\n",
        "\n",
        "# Calculate False Positive Rate\n",
        "fp_rate = calculate_false_positive_rate(conf_matrix_test)\n",
        "print(\"False Positive Rate for each class:\", fp_rate)\n",
        "\n",
        "# Calculate Macro-average FPR\n",
        "macro_avg_fpr = np.mean(fp_rate)\n",
        "print(\"Macro-average FPR:\", macro_avg_fpr)\n",
        "\n",
        "# Micro-average FPR\n",
        "total_fp = np.sum(conf_matrix_test.sum(axis=1) - np.diag(conf_matrix_test))\n",
        "total_tn = np.sum(conf_matrix_test.sum() - (conf_matrix_test.sum(axis=0) + conf_matrix_test.sum(axis=1) - np.diag(conf_matrix_test)))\n",
        "micro_avg_fpr = total_fp / (total_fp + total_tn)\n",
        "print(\"Micro-average FPR:\", micro_avg_fpr)\n",
        "\n",
        "# Weighted-average FPR\n",
        "class_counts = np.sum(conf_matrix_test, axis=1)\n",
        "weighted_avg_fpr = np.sum(fp_rate * class_counts) / np.sum(class_counts)\n",
        "print(\"Weighted-average FPR:\", weighted_avg_fpr)\n",
        "\n",
        "# Calculate decision scores for each class\n",
        "decision_scores = clf2.decision_function(x_test)\n",
        "\n",
        "# Convert decision scores into probabilities using Platt scaling\n",
        "from sklearn.calibration import CalibratedClassifierCV\n",
        "\n",
        "calibrated_clf = CalibratedClassifierCV(clf2, method='sigmoid')\n",
        "calibrated_clf.fit(x_train, y_train)\n",
        "probabilities = calibrated_clf.predict_proba(x_test)\n",
        "\n",
        "# Calculate Logarithmic Loss\n",
        "log_loss_test = log_loss(y_test, probabilities)\n",
        "print(\"Logarithmic Loss on Test Set:\", log_loss_test)\n",
        "\n",
        "# Visualize False Positive Rate\n",
        "plt.figure(figsize=(8, 6))\n",
        "plt.bar(np.arange(len(fp_rate)), fp_rate)\n",
        "plt.xlabel('Class')\n",
        "plt.ylabel('False Positive Rate')\n",
        "plt.title('False Positive Rate for each class')\n",
        "plt.xticks(np.arange(len(fp_rate)), np.unique(y_test))\n",
        "plt.show()"
      ],
      "metadata": {
        "colab": {
          "base_uri": "https://localhost:8080/",
          "height": 651
        },
        "id": "J345t23y2RWh",
        "outputId": "0088b8fa-f665-4c37-c3d6-b677b174b105"
      },
      "execution_count": null,
      "outputs": [
        {
          "output_type": "stream",
          "name": "stdout",
          "text": [
            "False Positive Rate for each class: [0.30612245 0.26666667 0.21818182 0.16161616]\n",
            "Macro-average FPR: 0.2381467738610596\n",
            "Micro-average FPR: 0.23717948717948717\n",
            "Weighted-average FPR: 0.24104863390577677\n",
            "Logarithmic Loss on Test Set: 1.2563163411015408\n"
          ]
        },
        {
          "output_type": "display_data",
          "data": {
            "text/plain": [
              "<Figure size 800x600 with 1 Axes>"
            ],
            "image/png": "[encoded data removed]"
          },
          "metadata": {}
        }
      ]
    },
    {
      "cell_type": "code",
      "source": [
        "from sklearn.metrics import accuracy_score, precision_score, f1_score, recall_score\n",
        "\n",
        "\n",
        "\n",
        "predictions = clf2.predict(x_test)\n",
        "\n",
        "accuracy = accuracy_score(y_test, predictions)\n",
        "precision = precision_score(y_test, predictions, average='macro', zero_division=1,)\n",
        "f1 = f1_score(y_test, predictions, average='macro', zero_division=1)\n",
        "recall = recall_score(y_test, predictions, average='macro', zero_division=1)\n",
        "\n",
        "print(\"Acurracy (macro average):\", accuracy)\n",
        "print(\"Precision (macro average):\", precision)\n",
        "print(\"f1_score (macro average):\", f1)\n",
        "print(\"recall (macro average):\", recall)"
      ],
      "metadata": {
        "colab": {
          "base_uri": "https://localhost:8080/"
        },
        "id": "LmQ0eQ6p_GQj",
        "outputId": "167dcd3a-91b8-4a99-b3fd-b99121124694"
      },
      "execution_count": null,
      "outputs": [
        {
          "output_type": "stream",
          "name": "stdout",
          "text": [
            "Acurracy (macro average): 0.28846153846153844\n",
            "Precision (macro average): 0.2552083333333333\n",
            "f1_score (macro average): 0.20859610900890574\n",
            "recall (macro average): 0.2308286951144094\n"
          ]
        }
      ]
    },
    {
      "cell_type": "code",
      "source": [
        "from sklearn.metrics import accuracy_score, precision_score, f1_score, recall_score\n",
        "\n",
        "\n",
        "\n",
        "predictions = clf2.predict(x_train)\n",
        "\n",
        "accuracy = accuracy_score(y_train, predictions)\n",
        "precision = precision_score(y_train, predictions, average='macro')\n",
        "f1 = f1_score(y_train, predictions, average='macro')\n",
        "recall = recall_score(y_train, predictions, average='macro')\n",
        "\n",
        "print(\"Acurracy (macro average):\", accuracy)\n",
        "print(\"Precision (macro average):\", precision)\n",
        "print(\"f1_score (macro average):\", f1)\n",
        "print(\"recall (macro average):\", recall)"
      ],
      "metadata": {
        "id": "mX8hbpCC9myl",
        "colab": {
          "base_uri": "https://localhost:8080/"
        },
        "outputId": "7c52aa4f-e49b-40d4-98ef-342faa8d5d97"
      },
      "execution_count": null,
      "outputs": [
        {
          "output_type": "stream",
          "name": "stdout",
          "text": [
            "Acurracy (macro average): 0.7371794871794872\n",
            "Precision (macro average): 0.7642733165668945\n",
            "f1_score (macro average): 0.7158077624989391\n",
            "recall (macro average): 0.7371794871794872\n"
          ]
        }
      ]
    },
    {
      "cell_type": "code",
      "source": [],
      "metadata": {
        "id": "JlVD4O8TOr7w"
      },
      "execution_count": null,
      "outputs": []
    }
  ]
}