{
  "nbformat": 4,
  "nbformat_minor": 0,
  "metadata": {
    "colab": {
      "provenance": [],
      "machine_shape": "hm",
      "gpuType": "T4"
    },
    "kernelspec": {
      "name": "python3",
      "display_name": "Python 3"
    },
    "language_info": {
      "name": "python"
    },
    "accelerator": "GPU"
  },
  "cells": [
    {
      "cell_type": "code",
      "execution_count": null,
      "metadata": {
        "colab": {
          "base_uri": "https://localhost:8080/"
        },
        "id": "ZNVTgcCkHgOX",
        "outputId": "2a5aab01-8834-40a0-c6a8-d3f49e6e3422"
      },
      "outputs": [
        {
          "output_type": "stream",
          "name": "stdout",
          "text": [
            "Mounted at /content/drive\n"
          ]
        }
      ],
      "source": [
        "from google.colab import drive\n",
        "drive.mount('/content/drive')"
      ]
    },
    {
      "cell_type": "code",
      "source": [
        "import pandas as pd\n",
        "import numpy as np\n",
        "from sklearn.metrics import classification_report, confusion_matrix, log_loss\n",
        "import matplotlib.pyplot as plt"
      ],
      "metadata": {
        "id": "9rLkvhz-HtAp"
      },
      "execution_count": null,
      "outputs": []
    },
    {
      "cell_type": "code",
      "source": [
        "batch1213_df= pd.read_excel ('/content/drive/MyDrive/AI_education/data/batch1213-data-GRADED.xlsx',\n",
        "                             skiprows=5)\n",
        "batch1213_preuniversity_df= pd.read_excel ('/content/drive/MyDrive/AI_education/data/batch1213-data-GRADED.xlsx',\n",
        "                                           skiprows=4, sheet_name='preuni')\n",
        "batch1213_professional1_df= pd.read_excel ('/content/drive/MyDrive/AI_education/data/batch1213-data-GRADED.xlsx',\n",
        "                                           skiprows=5, sheet_name='pro2')\n",
        "\n",
        "batch1314_df= pd.read_excel ('/content/drive/MyDrive/AI_education/data/batch1314-data-GRADED.xlsx',\n",
        "                             skiprows=5)\n",
        "batch1314_preuniversity_df= pd.read_excel ('/content/drive/MyDrive/AI_education/data/batch1314-data-GRADED.xlsx',\n",
        "                                           skiprows=4, sheet_name='preuni')\n",
        "batch1314_professional1_df= pd.read_excel ('/content/drive/MyDrive/AI_education/data/batch1314-data-GRADED.xlsx',\n",
        "                                           skiprows=5, sheet_name='pro2')\n",
        "\n",
        "batch1415_df= pd.read_excel ('/content/drive/MyDrive/AI_education/data/batch1415-data-GRADED.xlsx',\n",
        "                             skiprows=5)\n",
        "batch1415_preuniversity_df= pd.read_excel ('/content/drive/MyDrive/AI_education/data/batch1415-data-GRADED.xlsx',\n",
        "                                           skiprows=4, sheet_name= 'preuni')\n",
        "batch1415_professional1_df= pd.read_excel ('/content/drive/MyDrive/AI_education/data/batch1415-data-GRADED.xlsx',\n",
        "                                           skiprows=5, sheet_name= 'pro2')\n",
        "\n",
        "batch1516_df= pd.read_excel ('/content/drive/MyDrive/AI_education/data/batch1516-data-graded.xlsx',\n",
        "                             skiprows=5)\n",
        "batch1516_preuniversity_df= pd.read_excel ('/content/drive/MyDrive/AI_education/data/batch1516-data-graded.xlsx',\n",
        "                                           skiprows=4, sheet_name='preuni')\n",
        "batch1516_professional1_df= pd.read_excel ('/content/drive/MyDrive/AI_education/data/batch1516-data-graded.xlsx',\n",
        "                                           skiprows=5, sheet_name='pro2')\n",
        "\n",
        "batch1617_df= pd.read_excel ('/content/drive/MyDrive/AI_education/data/batch1617-data-GRADED.xlsx',\n",
        "                             skiprows=5)\n",
        "batch1617_preuniversity_df= pd.read_excel ('/content/drive/MyDrive/AI_education/data/batch1617-data-GRADED.xlsx',\n",
        "                                           skiprows=5, sheet_name= 'preuni')\n",
        "batch1617_professional1_df= pd.read_excel ('/content/drive/MyDrive/AI_education/data/batch1617-data-GRADED.xlsx',\n",
        "                                           skiprows=5, sheet_name= 'pro2')\n"
      ],
      "metadata": {
        "id": "TI1E2xhMH083"
      },
      "execution_count": null,
      "outputs": []
    },
    {
      "cell_type": "code",
      "source": [
        "batch1213_part1_df = pd.merge(batch1213_df,\n",
        "                              batch1213_preuniversity_df,\n",
        "                              on = \"STUDENT'S IDENTITY NO. \")\n",
        "batch1213_part2_df = batch1213_professional1_df\n",
        "batch1213_all_df = pd.merge(batch1213_part1_df,\n",
        "                               batch1213_part2_df,\n",
        "                               on = \"STUDENT'S IDENTITY NO. \")\n",
        "\n",
        "\n",
        "batch1314_part1_df = pd.merge(batch1314_df,\n",
        "                              batch1314_preuniversity_df,\n",
        "                              on = \"STUDENT'S IDENTITY NO. \")\n",
        "batch1314_part2_df = batch1314_professional1_df\n",
        "\n",
        "batch1314_all_df = pd.merge(batch1314_part1_df,\n",
        "                               batch1314_part2_df,\n",
        "                               on = \"STUDENT'S IDENTITY NO. \")\n",
        "\n",
        "\n",
        "batch1415_part1_df = pd.merge(batch1415_df,\n",
        "                              batch1415_preuniversity_df,\n",
        "                              on = \"STUDENT'S IDENTITY NO. \")\n",
        "batch1415_part2_df = batch1415_professional1_df\n",
        "\n",
        "batch1415_all_df = pd.merge(batch1415_part1_df,\n",
        "                            batch1415_part2_df,\n",
        "                            on = \"STUDENT'S IDENTITY NO. \")\n",
        "\n",
        "\n",
        "batch1516_part1_df = pd.merge(batch1516_df,\n",
        "                              batch1516_preuniversity_df,\n",
        "                              on = \"STUDENT'S IDENTITY NO. \")\n",
        "batch1516_part2_df = batch1516_professional1_df\n",
        "\n",
        "batch1516_all_df = pd.merge(batch1516_part1_df,\n",
        "                            batch1516_part2_df,\n",
        "                            on = \"STUDENT'S IDENTITY NO. \")\n",
        "\n",
        "\n",
        "batch1617_part1_df = pd.merge(batch1617_df,\n",
        "                              batch1617_preuniversity_df,\n",
        "                              on = \"STUDENT'S IDENTITY NO. \")\n",
        "\n",
        "batch1617_part2_df = batch1617_professional1_df\n",
        "\n",
        "batch1617_all_df = pd.merge(batch1617_part1_df,\n",
        "                            batch1617_part2_df,\n",
        "                            on = \"STUDENT'S IDENTITY NO. \")\n",
        "\n"
      ],
      "metadata": {
        "id": "xLX7w4c-H9ye"
      },
      "execution_count": null,
      "outputs": []
    },
    {
      "cell_type": "code",
      "source": [
        "data_df = pd.concat([batch1213_all_df, batch1314_all_df, batch1415_all_df, batch1516_all_df, batch1617_all_df])\n",
        "data_df.head()"
      ],
      "metadata": {
        "colab": {
          "base_uri": "https://localhost:8080/",
          "height": 308
        },
        "id": "p9cbM-juIAsd",
        "outputId": "714cc599-e6c7-410c-cfde-0f2d8971e74f"
      },
      "execution_count": null,
      "outputs": [
        {
          "output_type": "execute_result",
          "data": {
            "text/plain": [
              "   NO._x STUDENT'S IDENTITY NO.   LAST DIGIT MATRIC NO.  GENDER  \\\n",
              "0      1                11-12-10                      7    MALE   \n",
              "1      2                12-13-01                      8  FEMALE   \n",
              "2      3                12-13-02                      6  FEMALE   \n",
              "3      4                12-13-03                      6  FEMALE   \n",
              "4      5                12-13-04                      4  FEMALE   \n",
              "\n",
              "   AGE DURING ADMISSION BIRTH DATE  MIDDLE IC NO.  DISTRICT POSCODE     STATE  \\\n",
              "0                   NaN        NaN            NaN       NaN     NaN       NaN   \n",
              "1                  21.0     911122           14.0       NaN     NaN       NaN   \n",
              "2                  20.0     920816            3.0    BACHOK   16370  KELANTAN   \n",
              "3                  20.0     920522            6.0  JERANTUT   27020    PAHANG   \n",
              "4                  20.0     920625            8.0   PUCHONG   47100  SELANGOR   \n",
              "\n",
              "   ... STATUS.1   BIRTH DATE MIDDLE I/C NO.  SEM 6  PATHOLOGY RESIT  \\\n",
              "0  ...     PASS          NaN            NaN    NaN              NaN   \n",
              "1  ...     PASS          NaN            NaN    NaN              NaN   \n",
              "2  ...     PASS          NaN            NaN    NaN              NaN   \n",
              "3  ...     PASS          NaN            NaN    NaN              NaN   \n",
              "4  ...     PASS          NaN            NaN    NaN              NaN   \n",
              "\n",
              "   RESIT STATUS  DMS RESIT  RESIT STATUS.1   SEM 4  MICROBIOLOGY RESIT  \n",
              "0           NaN        NaN             NaN     NaN                 NaN  \n",
              "1           NaN        NaN             NaN     NaN                 NaN  \n",
              "2           NaN        NaN             NaN     NaN                 NaN  \n",
              "3           NaN        NaN             NaN     NaN                 NaN  \n",
              "4           NaN        NaN             NaN     NaN                 NaN  \n",
              "\n",
              "[5 rows x 49 columns]"
            ],
            "text/html": [
              "\n",
              "  <div id=\"df-5dc3c6db-0add-41d2-ba0b-4447985773d7\" class=\"colab-df-container\">\n",
              "    <div>\n",
              "<style scoped>\n",
              "    .dataframe tbody tr th:only-of-type {\n",
              "        vertical-align: middle;\n",
              "    }\n",
              "\n",
              "    .dataframe tbody tr th {\n",
              "        vertical-align: top;\n",
              "    }\n",
              "\n",
              "    .dataframe thead th {\n",
              "        text-align: right;\n",
              "    }\n",
              "</style>\n",
              "<table border=\"1\" class=\"dataframe\">\n",
              "  <thead>\n",
              "    <tr style=\"text-align: right;\">\n",
              "      <th></th>\n",
              "      <th>NO._x</th>\n",
              "      <th>STUDENT'S IDENTITY NO.</th>\n",
              "      <th>LAST DIGIT MATRIC NO.</th>\n",
              "      <th>GENDER</th>\n",
              "      <th>AGE DURING ADMISSION</th>\n",
              "      <th>BIRTH DATE</th>\n",
              "      <th>MIDDLE IC NO.</th>\n",
              "      <th>DISTRICT</th>\n",
              "      <th>POSCODE</th>\n",
              "      <th>STATE</th>\n",
              "      <th>...</th>\n",
              "      <th>STATUS.1</th>\n",
              "      <th>BIRTH DATE</th>\n",
              "      <th>MIDDLE I/C NO.</th>\n",
              "      <th>SEM 6</th>\n",
              "      <th>PATHOLOGY RESIT</th>\n",
              "      <th>RESIT STATUS</th>\n",
              "      <th>DMS RESIT</th>\n",
              "      <th>RESIT STATUS.1</th>\n",
              "      <th>SEM 4</th>\n",
              "      <th>MICROBIOLOGY RESIT</th>\n",
              "    </tr>\n",
              "  </thead>\n",
              "  <tbody>\n",
              "    <tr>\n",
              "      <th>0</th>\n",
              "      <td>1</td>\n",
              "      <td>11-12-10</td>\n",
              "      <td>7</td>\n",
              "      <td>MALE</td>\n",
              "      <td>NaN</td>\n",
              "      <td>NaN</td>\n",
              "      <td>NaN</td>\n",
              "      <td>NaN</td>\n",
              "      <td>NaN</td>\n",
              "      <td>NaN</td>\n",
              "      <td>...</td>\n",
              "      <td>PASS</td>\n",
              "      <td>NaN</td>\n",
              "      <td>NaN</td>\n",
              "      <td>NaN</td>\n",
              "      <td>NaN</td>\n",
              "      <td>NaN</td>\n",
              "      <td>NaN</td>\n",
              "      <td>NaN</td>\n",
              "      <td>NaN</td>\n",
              "      <td>NaN</td>\n",
              "    </tr>\n",
              "    <tr>\n",
              "      <th>1</th>\n",
              "      <td>2</td>\n",
              "      <td>12-13-01</td>\n",
              "      <td>8</td>\n",
              "      <td>FEMALE</td>\n",
              "      <td>21.0</td>\n",
              "      <td>911122</td>\n",
              "      <td>14.0</td>\n",
              "      <td>NaN</td>\n",
              "      <td>NaN</td>\n",
              "      <td>NaN</td>\n",
              "      <td>...</td>\n",
              "      <td>PASS</td>\n",
              "      <td>NaN</td>\n",
              "      <td>NaN</td>\n",
              "      <td>NaN</td>\n",
              "      <td>NaN</td>\n",
              "      <td>NaN</td>\n",
              "      <td>NaN</td>\n",
              "      <td>NaN</td>\n",
              "      <td>NaN</td>\n",
              "      <td>NaN</td>\n",
              "    </tr>\n",
              "    <tr>\n",
              "      <th>2</th>\n",
              "      <td>3</td>\n",
              "      <td>12-13-02</td>\n",
              "      <td>6</td>\n",
              "      <td>FEMALE</td>\n",
              "      <td>20.0</td>\n",
              "      <td>920816</td>\n",
              "      <td>3.0</td>\n",
              "      <td>BACHOK</td>\n",
              "      <td>16370</td>\n",
              "      <td>KELANTAN</td>\n",
              "      <td>...</td>\n",
              "      <td>PASS</td>\n",
              "      <td>NaN</td>\n",
              "      <td>NaN</td>\n",
              "      <td>NaN</td>\n",
              "      <td>NaN</td>\n",
              "      <td>NaN</td>\n",
              "      <td>NaN</td>\n",
              "      <td>NaN</td>\n",
              "      <td>NaN</td>\n",
              "      <td>NaN</td>\n",
              "    </tr>\n",
              "    <tr>\n",
              "      <th>3</th>\n",
              "      <td>4</td>\n",
              "      <td>12-13-03</td>\n",
              "      <td>6</td>\n",
              "      <td>FEMALE</td>\n",
              "      <td>20.0</td>\n",
              "      <td>920522</td>\n",
              "      <td>6.0</td>\n",
              "      <td>JERANTUT</td>\n",
              "      <td>27020</td>\n",
              "      <td>PAHANG</td>\n",
              "      <td>...</td>\n",
              "      <td>PASS</td>\n",
              "      <td>NaN</td>\n",
              "      <td>NaN</td>\n",
              "      <td>NaN</td>\n",
              "      <td>NaN</td>\n",
              "      <td>NaN</td>\n",
              "      <td>NaN</td>\n",
              "      <td>NaN</td>\n",
              "      <td>NaN</td>\n",
              "      <td>NaN</td>\n",
              "    </tr>\n",
              "    <tr>\n",
              "      <th>4</th>\n",
              "      <td>5</td>\n",
              "      <td>12-13-04</td>\n",
              "      <td>4</td>\n",
              "      <td>FEMALE</td>\n",
              "      <td>20.0</td>\n",
              "      <td>920625</td>\n",
              "      <td>8.0</td>\n",
              "      <td>PUCHONG</td>\n",
              "      <td>47100</td>\n",
              "      <td>SELANGOR</td>\n",
              "      <td>...</td>\n",
              "      <td>PASS</td>\n",
              "      <td>NaN</td>\n",
              "      <td>NaN</td>\n",
              "      <td>NaN</td>\n",
              "      <td>NaN</td>\n",
              "      <td>NaN</td>\n",
              "      <td>NaN</td>\n",
              "      <td>NaN</td>\n",
              "      <td>NaN</td>\n",
              "      <td>NaN</td>\n",
              "    </tr>\n",
              "  </tbody>\n",
              "</table>\n",
              "<p>5 rows × 49 columns</p>\n",
              "</div>\n",
              "    <div class=\"colab-df-buttons\">\n",
              "\n",
              "  <div class=\"colab-df-container\">\n",
              "    <button class=\"colab-df-convert\" onclick=\"convertToInteractive('df-5dc3c6db-0add-41d2-ba0b-4447985773d7')\"\n",
              "            title=\"Convert this dataframe to an interactive table.\"\n",
              "            style=\"display:none;\">\n",
              "\n",
              "  <svg xmlns=\"http://www.w3.org/2000/svg\" height=\"24px\" viewBox=\"0 -960 960 960\">\n",
              "    <path d=\"M120-120v-720h720v720H120Zm60-500h600v-160H180v160Zm220 220h160v-160H400v160Zm0 220h160v-160H400v160ZM180-400h160v-160H180v160Zm440 0h160v-160H620v160ZM180-180h160v-160H180v160Zm440 0h160v-160H620v160Z\"/>\n",
              "  </svg>\n",
              "    </button>\n",
              "\n",
              "  <style>\n",
              "    .colab-df-container {\n",
              "      display:flex;\n",
              "      gap: 12px;\n",
              "    }\n",
              "\n",
              "    .colab-df-convert {\n",
              "      background-color: #E8F0FE;\n",
              "      border: none;\n",
              "      border-radius: 50%;\n",
              "      cursor: pointer;\n",
              "      display: none;\n",
              "      fill: #1967D2;\n",
              "      height: 32px;\n",
              "      padding: 0 0 0 0;\n",
              "      width: 32px;\n",
              "    }\n",
              "\n",
              "    .colab-df-convert:hover {\n",
              "      background-color: #E2EBFA;\n",
              "      box-shadow: 0px 1px 2px rgba(60, 64, 67, 0.3), 0px 1px 3px 1px rgba(60, 64, 67, 0.15);\n",
              "      fill: #174EA6;\n",
              "    }\n",
              "\n",
              "    .colab-df-buttons div {\n",
              "      margin-bottom: 4px;\n",
              "    }\n",
              "\n",
              "    [theme=dark] .colab-df-convert {\n",
              "      background-color: #3B4455;\n",
              "      fill: #D2E3FC;\n",
              "    }\n",
              "\n",
              "    [theme=dark] .colab-df-convert:hover {\n",
              "      background-color: #434B5C;\n",
              "      box-shadow: 0px 1px 3px 1px rgba(0, 0, 0, 0.15);\n",
              "      filter: drop-shadow(0px 1px 2px rgba(0, 0, 0, 0.3));\n",
              "      fill: #FFFFFF;\n",
              "    }\n",
              "  </style>\n",
              "\n",
              "    <script>\n",
              "      const buttonEl =\n",
              "        document.querySelector('#df-5dc3c6db-0add-41d2-ba0b-4447985773d7 button.colab-df-convert');\n",
              "      buttonEl.style.display =\n",
              "        google.colab.kernel.accessAllowed ? 'block' : 'none';\n",
              "\n",
              "      async function convertToInteractive(key) {\n",
              "        const element = document.querySelector('#df-5dc3c6db-0add-41d2-ba0b-4447985773d7');\n",
              "        const dataTable =\n",
              "          await google.colab.kernel.invokeFunction('convertToInteractive',\n",
              "                                                    [key], {});\n",
              "        if (!dataTable) return;\n",
              "\n",
              "        const docLinkHtml = 'Like what you see? Visit the ' +\n",
              "          '<a target=\"_blank\" href=https://colab.research.google.com/notebooks/data_table.ipynb>data table notebook</a>'\n",
              "          + ' to learn more about interactive tables.';\n",
              "        element.innerHTML = '';\n",
              "        dataTable['output_type'] = 'display_data';\n",
              "        await google.colab.output.renderOutput(dataTable, element);\n",
              "        const docLink = document.createElement('div');\n",
              "        docLink.innerHTML = docLinkHtml;\n",
              "        element.appendChild(docLink);\n",
              "      }\n",
              "    </script>\n",
              "  </div>\n",
              "\n",
              "\n",
              "<div id=\"df-95fd3cd9-f475-4b25-82e9-d47a996160b6\">\n",
              "  <button class=\"colab-df-quickchart\" onclick=\"quickchart('df-95fd3cd9-f475-4b25-82e9-d47a996160b6')\"\n",
              "            title=\"Suggest charts\"\n",
              "            style=\"display:none;\">\n",
              "\n",
              "<svg xmlns=\"http://www.w3.org/2000/svg\" height=\"24px\"viewBox=\"0 0 24 24\"\n",
              "     width=\"24px\">\n",
              "    <g>\n",
              "        <path d=\"M19 3H5c-1.1 0-2 .9-2 2v14c0 1.1.9 2 2 2h14c1.1 0 2-.9 2-2V5c0-1.1-.9-2-2-2zM9 17H7v-7h2v7zm4 0h-2V7h2v10zm4 0h-2v-4h2v4z\"/>\n",
              "    </g>\n",
              "</svg>\n",
              "  </button>\n",
              "\n",
              "<style>\n",
              "  .colab-df-quickchart {\n",
              "      --bg-color: #E8F0FE;\n",
              "      --fill-color: #1967D2;\n",
              "      --hover-bg-color: #E2EBFA;\n",
              "      --hover-fill-color: #174EA6;\n",
              "      --disabled-fill-color: #AAA;\n",
              "      --disabled-bg-color: #DDD;\n",
              "  }\n",
              "\n",
              "  [theme=dark] .colab-df-quickchart {\n",
              "      --bg-color: #3B4455;\n",
              "      --fill-color: #D2E3FC;\n",
              "      --hover-bg-color: #434B5C;\n",
              "      --hover-fill-color: #FFFFFF;\n",
              "      --disabled-bg-color: #3B4455;\n",
              "      --disabled-fill-color: #666;\n",
              "  }\n",
              "\n",
              "  .colab-df-quickchart {\n",
              "    background-color: var(--bg-color);\n",
              "    border: none;\n",
              "    border-radius: 50%;\n",
              "    cursor: pointer;\n",
              "    display: none;\n",
              "    fill: var(--fill-color);\n",
              "    height: 32px;\n",
              "    padding: 0;\n",
              "    width: 32px;\n",
              "  }\n",
              "\n",
              "  .colab-df-quickchart:hover {\n",
              "    background-color: var(--hover-bg-color);\n",
              "    box-shadow: 0 1px 2px rgba(60, 64, 67, 0.3), 0 1px 3px 1px rgba(60, 64, 67, 0.15);\n",
              "    fill: var(--button-hover-fill-color);\n",
              "  }\n",
              "\n",
              "  .colab-df-quickchart-complete:disabled,\n",
              "  .colab-df-quickchart-complete:disabled:hover {\n",
              "    background-color: var(--disabled-bg-color);\n",
              "    fill: var(--disabled-fill-color);\n",
              "    box-shadow: none;\n",
              "  }\n",
              "\n",
              "  .colab-df-spinner {\n",
              "    border: 2px solid var(--fill-color);\n",
              "    border-color: transparent;\n",
              "    border-bottom-color: var(--fill-color);\n",
              "    animation:\n",
              "      spin 1s steps(1) infinite;\n",
              "  }\n",
              "\n",
              "  @keyframes spin {\n",
              "    0% {\n",
              "      border-color: transparent;\n",
              "      border-bottom-color: var(--fill-color);\n",
              "      border-left-color: var(--fill-color);\n",
              "    }\n",
              "    20% {\n",
              "      border-color: transparent;\n",
              "      border-left-color: var(--fill-color);\n",
              "      border-top-color: var(--fill-color);\n",
              "    }\n",
              "    30% {\n",
              "      border-color: transparent;\n",
              "      border-left-color: var(--fill-color);\n",
              "      border-top-color: var(--fill-color);\n",
              "      border-right-color: var(--fill-color);\n",
              "    }\n",
              "    40% {\n",
              "      border-color: transparent;\n",
              "      border-right-color: var(--fill-color);\n",
              "      border-top-color: var(--fill-color);\n",
              "    }\n",
              "    60% {\n",
              "      border-color: transparent;\n",
              "      border-right-color: var(--fill-color);\n",
              "    }\n",
              "    80% {\n",
              "      border-color: transparent;\n",
              "      border-right-color: var(--fill-color);\n",
              "      border-bottom-color: var(--fill-color);\n",
              "    }\n",
              "    90% {\n",
              "      border-color: transparent;\n",
              "      border-bottom-color: var(--fill-color);\n",
              "    }\n",
              "  }\n",
              "</style>\n",
              "\n",
              "  <script>\n",
              "    async function quickchart(key) {\n",
              "      const quickchartButtonEl =\n",
              "        document.querySelector('#' + key + ' button');\n",
              "      quickchartButtonEl.disabled = true;  // To prevent multiple clicks.\n",
              "      quickchartButtonEl.classList.add('colab-df-spinner');\n",
              "      try {\n",
              "        const charts = await google.colab.kernel.invokeFunction(\n",
              "            'suggestCharts', [key], {});\n",
              "      } catch (error) {\n",
              "        console.error('Error during call to suggestCharts:', error);\n",
              "      }\n",
              "      quickchartButtonEl.classList.remove('colab-df-spinner');\n",
              "      quickchartButtonEl.classList.add('colab-df-quickchart-complete');\n",
              "    }\n",
              "    (() => {\n",
              "      let quickchartButtonEl =\n",
              "        document.querySelector('#df-95fd3cd9-f475-4b25-82e9-d47a996160b6 button');\n",
              "      quickchartButtonEl.style.display =\n",
              "        google.colab.kernel.accessAllowed ? 'block' : 'none';\n",
              "    })();\n",
              "  </script>\n",
              "</div>\n",
              "    </div>\n",
              "  </div>\n"
            ],
            "application/vnd.google.colaboratory.intrinsic+json": {
              "type": "dataframe",
              "variable_name": "data_df"
            }
          },
          "metadata": {},
          "execution_count": 5
        }
      ]
    },
    {
      "cell_type": "code",
      "source": [
        "data_df.info()"
      ],
      "metadata": {
        "colab": {
          "base_uri": "https://localhost:8080/"
        },
        "id": "SW0UT2WdJgWe",
        "outputId": "a9778fba-d6fd-4104-9105-edfe951440b1"
      },
      "execution_count": null,
      "outputs": [
        {
          "output_type": "stream",
          "name": "stdout",
          "text": [
            "<class 'pandas.core.frame.DataFrame'>\n",
            "Index: 276 entries, 0 to 58\n",
            "Data columns (total 49 columns):\n",
            " #   Column                          Non-Null Count  Dtype  \n",
            "---  ------                          --------------  -----  \n",
            " 0   NO._x                           276 non-null    int64  \n",
            " 1   STUDENT'S IDENTITY NO.          276 non-null    object \n",
            " 2   LAST DIGIT MATRIC NO.           276 non-null    int64  \n",
            " 3   GENDER                          276 non-null    object \n",
            " 4   AGE DURING ADMISSION            272 non-null    float64\n",
            " 5   BIRTH DATE                      217 non-null    object \n",
            " 6   MIDDLE IC NO.                   59 non-null     float64\n",
            " 7   DISTRICT                        271 non-null    object \n",
            " 8   POSCODE                         263 non-null    object \n",
            " 9   STATE                           272 non-null    object \n",
            " 10  COUNTRY                         273 non-null    object \n",
            " 11  NO._y                           276 non-null    int64  \n",
            " 12  PRE-UNIVERSITY                  258 non-null    object \n",
            " 13   SEM 1                          252 non-null    float64\n",
            " 14  SEM 2                           252 non-null    float64\n",
            " 15  SEM 3                           252 non-null    float64\n",
            " 16  SEM 4                           184 non-null    float64\n",
            " 17  SEM 5                           125 non-null    float64\n",
            " 18  TOTAL_SEM                       252 non-null    float64\n",
            " 19  AVERAGE_CGPA                    252 non-null    float64\n",
            " 20  FINAL_CGPA                      252 non-null    float64\n",
            " 21  NO.                             276 non-null    int64  \n",
            " 22  PATHOLOGY MARK                  276 non-null    float64\n",
            " 23  GRADING                         276 non-null    object \n",
            " 24  PATHOLOGY STATUS                276 non-null    object \n",
            " 25  MICROBIOLOGY MARK               276 non-null    float64\n",
            " 26  GRADING.1                       276 non-null    object \n",
            " 27  MICROBIOLOGY STATUS             276 non-null    object \n",
            " 28  PHARMACOLOGY MARK               276 non-null    object \n",
            " 29  GRADING.2                       276 non-null    object \n",
            " 30  PHARMACOLOGY STATUS             276 non-null    object \n",
            " 31  DENTAL MATERIAL SCIENCE MARK    276 non-null    object \n",
            " 32  GRADING.3                       276 non-null    object \n",
            " 33  DENTAL MATERIAL SCIENCE STATUS  276 non-null    object \n",
            " 34  CONS                            117 non-null    float64\n",
            " 35  GRADING.4                       117 non-null    object \n",
            " 36  STATUS                          117 non-null    object \n",
            " 37  PROSTHO                         117 non-null    float64\n",
            " 38  GRADING.5                       117 non-null    object \n",
            " 39  STATUS.1                        117 non-null    object \n",
            " 40   BIRTH DATE                     56 non-null     float64\n",
            " 41  MIDDLE I/C NO.                  214 non-null    object \n",
            " 42  SEM 6                           5 non-null      float64\n",
            " 43  PATHOLOGY RESIT                 1 non-null      float64\n",
            " 44  RESIT STATUS                    3 non-null      object \n",
            " 45  DMS RESIT                       1 non-null      float64\n",
            " 46  RESIT STATUS.1                  1 non-null      object \n",
            " 47   SEM 4                          45 non-null     float64\n",
            " 48  MICROBIOLOGY RESIT              2 non-null      float64\n",
            "dtypes: float64(20), int64(4), object(25)\n",
            "memory usage: 107.8+ KB\n"
          ]
        }
      ]
    },
    {
      "cell_type": "code",
      "source": [
        "df_copy = data_df.copy()"
      ],
      "metadata": {
        "id": "d9S3nesyJlIz"
      },
      "execution_count": null,
      "outputs": []
    },
    {
      "cell_type": "code",
      "source": [
        "df_copy.isnull().sum()"
      ],
      "metadata": {
        "id": "XPjZPWEGJqSG",
        "outputId": "74523e99-4342-4714-eeba-63eea99735c8",
        "colab": {
          "base_uri": "https://localhost:8080/"
        }
      },
      "execution_count": null,
      "outputs": [
        {
          "output_type": "execute_result",
          "data": {
            "text/plain": [
              "NO._x                               0\n",
              "STUDENT'S IDENTITY NO.              0\n",
              "LAST DIGIT MATRIC NO.               0\n",
              "GENDER                              0\n",
              "AGE DURING ADMISSION                4\n",
              "BIRTH DATE                         59\n",
              "MIDDLE IC NO.                     217\n",
              "DISTRICT                            5\n",
              "POSCODE                            13\n",
              "STATE                               4\n",
              "COUNTRY                             3\n",
              "NO._y                               0\n",
              "PRE-UNIVERSITY                     18\n",
              " SEM 1                             24\n",
              "SEM 2                              24\n",
              "SEM 3                              24\n",
              "SEM 4                              92\n",
              "SEM 5                             151\n",
              "TOTAL_SEM                          24\n",
              "AVERAGE_CGPA                       24\n",
              "FINAL_CGPA                         24\n",
              "NO.                                 0\n",
              "PATHOLOGY MARK                      0\n",
              "GRADING                             0\n",
              "PATHOLOGY STATUS                    0\n",
              "MICROBIOLOGY MARK                   0\n",
              "GRADING.1                           0\n",
              "MICROBIOLOGY STATUS                 0\n",
              "PHARMACOLOGY MARK                   0\n",
              "GRADING.2                           0\n",
              "PHARMACOLOGY STATUS                 0\n",
              "DENTAL MATERIAL SCIENCE MARK        0\n",
              "GRADING.3                           0\n",
              "DENTAL MATERIAL SCIENCE STATUS      0\n",
              "CONS                              159\n",
              "GRADING.4                         159\n",
              "STATUS                            159\n",
              "PROSTHO                           159\n",
              "GRADING.5                         159\n",
              "STATUS.1                          159\n",
              " BIRTH DATE                       220\n",
              "MIDDLE I/C NO.                     62\n",
              "SEM 6                             271\n",
              "PATHOLOGY RESIT                   275\n",
              "RESIT STATUS                      273\n",
              "DMS RESIT                         275\n",
              "RESIT STATUS.1                    275\n",
              " SEM 4                            231\n",
              "MICROBIOLOGY RESIT                274\n",
              "dtype: int64"
            ]
          },
          "metadata": {},
          "execution_count": 8
        }
      ]
    },
    {
      "cell_type": "code",
      "source": [
        "df_copy = df_copy.drop(['MICROBIOLOGY RESIT', 'RESIT STATUS.1','STATUS.1','GRADING.5','PROSTHO','STATUS','SEM 6',\n",
        "              'GRADING.4','RESIT STATUS','BIRTH DATE','SEM 4','MIDDLE IC NO.','SEM 5',' SEM 4', ' BIRTH DATE', 'NO._x', 'LAST DIGIT MATRIC NO.', 'NO._y', 'NO.','DISTRICT', 'STATE', 'COUNTRY','PRE-UNIVERSITY','GRADING.3','DENTAL MATERIAL SCIENCE MARK ',\n",
        "         'CONS', 'DENTAL MATERIAL SCIENCE STATUS'], axis=1)"
      ],
      "metadata": {
        "id": "UXDNRpWSJss-"
      },
      "execution_count": null,
      "outputs": []
    },
    {
      "cell_type": "code",
      "source": [
        "df_copy.isnull().sum()"
      ],
      "metadata": {
        "colab": {
          "base_uri": "https://localhost:8080/"
        },
        "id": "7yrZEyUD0U4L",
        "outputId": "4b085b30-eff7-440b-a8b9-d5a39db76ec3"
      },
      "execution_count": null,
      "outputs": [
        {
          "output_type": "execute_result",
          "data": {
            "text/plain": [
              "STUDENT'S IDENTITY NO.       0\n",
              "GENDER                       0\n",
              "AGE DURING ADMISSION         4\n",
              "POSCODE                     13\n",
              " SEM 1                      24\n",
              "SEM 2                       24\n",
              "SEM 3                       24\n",
              "TOTAL_SEM                   24\n",
              "AVERAGE_CGPA                24\n",
              "FINAL_CGPA                  24\n",
              "PATHOLOGY MARK               0\n",
              "GRADING                      0\n",
              "PATHOLOGY STATUS             0\n",
              "MICROBIOLOGY MARK            0\n",
              "GRADING.1                    0\n",
              "MICROBIOLOGY STATUS          0\n",
              "PHARMACOLOGY MARK            0\n",
              "GRADING.2                    0\n",
              "PHARMACOLOGY STATUS          0\n",
              "MIDDLE I/C NO.              62\n",
              "PATHOLOGY RESIT            275\n",
              "DMS RESIT                  275\n",
              "dtype: int64"
            ]
          },
          "metadata": {},
          "execution_count": 10
        }
      ]
    },
    {
      "cell_type": "code",
      "source": [
        "df_copy = df_copy.drop(['GENDER', 'POSCODE', ' SEM 1', 'SEM 2', 'SEM 3', 'PATHOLOGY MARK', 'PATHOLOGY STATUS', 'MICROBIOLOGY MARK', 'GRADING', 'MICROBIOLOGY STATUS', 'PHARMACOLOGY MARK', 'MIDDLE I/C NO.', 'GRADING.2', 'PHARMACOLOGY STATUS', 'PATHOLOGY RESIT', 'DMS RESIT'], axis=1)"
      ],
      "metadata": {
        "id": "36ExAvWf2tRZ"
      },
      "execution_count": null,
      "outputs": []
    },
    {
      "cell_type": "code",
      "source": [
        "df_copy.isnull().sum()"
      ],
      "metadata": {
        "colab": {
          "base_uri": "https://localhost:8080/"
        },
        "id": "OY86ECga38rB",
        "outputId": "6d57f831-b7fc-4732-e0c3-058102cd176d"
      },
      "execution_count": null,
      "outputs": [
        {
          "output_type": "execute_result",
          "data": {
            "text/plain": [
              "STUDENT'S IDENTITY NO.      0\n",
              "AGE DURING ADMISSION        4\n",
              "TOTAL_SEM                  24\n",
              "AVERAGE_CGPA               24\n",
              "FINAL_CGPA                 24\n",
              "GRADING.1                   0\n",
              "dtype: int64"
            ]
          },
          "metadata": {},
          "execution_count": 12
        }
      ]
    },
    {
      "cell_type": "code",
      "source": [
        "df_copy = df_copy.drop(\"STUDENT'S IDENTITY NO. \", axis=1)"
      ],
      "metadata": {
        "id": "8ix-piNR4NUl"
      },
      "execution_count": null,
      "outputs": []
    },
    {
      "cell_type": "code",
      "source": [
        "df_data = df_copy.dropna()"
      ],
      "metadata": {
        "id": "q0sdsDzf4Sjb"
      },
      "execution_count": null,
      "outputs": []
    },
    {
      "cell_type": "code",
      "source": [
        "df_data.isnull().sum()"
      ],
      "metadata": {
        "colab": {
          "base_uri": "https://localhost:8080/"
        },
        "id": "VLtVWItb4WlY",
        "outputId": "54b3d830-016d-4508-bcfc-9355708b5e17"
      },
      "execution_count": null,
      "outputs": [
        {
          "output_type": "execute_result",
          "data": {
            "text/plain": [
              "AGE DURING ADMISSION    0\n",
              "TOTAL_SEM               0\n",
              "AVERAGE_CGPA            0\n",
              "FINAL_CGPA              0\n",
              "GRADING.1               0\n",
              "dtype: int64"
            ]
          },
          "metadata": {},
          "execution_count": 15
        }
      ]
    },
    {
      "cell_type": "code",
      "source": [
        "df_data.head()"
      ],
      "metadata": {
        "colab": {
          "base_uri": "https://localhost:8080/",
          "height": 206
        },
        "id": "pYKrHdkw4aKw",
        "outputId": "7e310d67-bd9b-4bef-bae4-2c92d3a0e960"
      },
      "execution_count": null,
      "outputs": [
        {
          "output_type": "execute_result",
          "data": {
            "text/plain": [
              "   AGE DURING ADMISSION  TOTAL_SEM  AVERAGE_CGPA  FINAL_CGPA GRADING.1\n",
              "1                  21.0        4.0        3.4825        3.63         C\n",
              "2                  20.0        5.0        3.6980        3.72         C\n",
              "3                  20.0        5.0        3.4600        3.60         C\n",
              "4                  20.0        5.0        3.6820        3.79         B\n",
              "5                  20.0        5.0        3.5260        3.68         F"
            ],
            "text/html": [
              "\n",
              "  <div id=\"df-54ca7353-d68b-4c57-8259-0ac6e64fc715\" class=\"colab-df-container\">\n",
              "    <div>\n",
              "<style scoped>\n",
              "    .dataframe tbody tr th:only-of-type {\n",
              "        vertical-align: middle;\n",
              "    }\n",
              "\n",
              "    .dataframe tbody tr th {\n",
              "        vertical-align: top;\n",
              "    }\n",
              "\n",
              "    .dataframe thead th {\n",
              "        text-align: right;\n",
              "    }\n",
              "</style>\n",
              "<table border=\"1\" class=\"dataframe\">\n",
              "  <thead>\n",
              "    <tr style=\"text-align: right;\">\n",
              "      <th></th>\n",
              "      <th>AGE DURING ADMISSION</th>\n",
              "      <th>TOTAL_SEM</th>\n",
              "      <th>AVERAGE_CGPA</th>\n",
              "      <th>FINAL_CGPA</th>\n",
              "      <th>GRADING.1</th>\n",
              "    </tr>\n",
              "  </thead>\n",
              "  <tbody>\n",
              "    <tr>\n",
              "      <th>1</th>\n",
              "      <td>21.0</td>\n",
              "      <td>4.0</td>\n",
              "      <td>3.4825</td>\n",
              "      <td>3.63</td>\n",
              "      <td>C</td>\n",
              "    </tr>\n",
              "    <tr>\n",
              "      <th>2</th>\n",
              "      <td>20.0</td>\n",
              "      <td>5.0</td>\n",
              "      <td>3.6980</td>\n",
              "      <td>3.72</td>\n",
              "      <td>C</td>\n",
              "    </tr>\n",
              "    <tr>\n",
              "      <th>3</th>\n",
              "      <td>20.0</td>\n",
              "      <td>5.0</td>\n",
              "      <td>3.4600</td>\n",
              "      <td>3.60</td>\n",
              "      <td>C</td>\n",
              "    </tr>\n",
              "    <tr>\n",
              "      <th>4</th>\n",
              "      <td>20.0</td>\n",
              "      <td>5.0</td>\n",
              "      <td>3.6820</td>\n",
              "      <td>3.79</td>\n",
              "      <td>B</td>\n",
              "    </tr>\n",
              "    <tr>\n",
              "      <th>5</th>\n",
              "      <td>20.0</td>\n",
              "      <td>5.0</td>\n",
              "      <td>3.5260</td>\n",
              "      <td>3.68</td>\n",
              "      <td>F</td>\n",
              "    </tr>\n",
              "  </tbody>\n",
              "</table>\n",
              "</div>\n",
              "    <div class=\"colab-df-buttons\">\n",
              "\n",
              "  <div class=\"colab-df-container\">\n",
              "    <button class=\"colab-df-convert\" onclick=\"convertToInteractive('df-54ca7353-d68b-4c57-8259-0ac6e64fc715')\"\n",
              "            title=\"Convert this dataframe to an interactive table.\"\n",
              "            style=\"display:none;\">\n",
              "\n",
              "  <svg xmlns=\"http://www.w3.org/2000/svg\" height=\"24px\" viewBox=\"0 -960 960 960\">\n",
              "    <path d=\"M120-120v-720h720v720H120Zm60-500h600v-160H180v160Zm220 220h160v-160H400v160Zm0 220h160v-160H400v160ZM180-400h160v-160H180v160Zm440 0h160v-160H620v160ZM180-180h160v-160H180v160Zm440 0h160v-160H620v160Z\"/>\n",
              "  </svg>\n",
              "    </button>\n",
              "\n",
              "  <style>\n",
              "    .colab-df-container {\n",
              "      display:flex;\n",
              "      gap: 12px;\n",
              "    }\n",
              "\n",
              "    .colab-df-convert {\n",
              "      background-color: #E8F0FE;\n",
              "      border: none;\n",
              "      border-radius: 50%;\n",
              "      cursor: pointer;\n",
              "      display: none;\n",
              "      fill: #1967D2;\n",
              "      height: 32px;\n",
              "      padding: 0 0 0 0;\n",
              "      width: 32px;\n",
              "    }\n",
              "\n",
              "    .colab-df-convert:hover {\n",
              "      background-color: #E2EBFA;\n",
              "      box-shadow: 0px 1px 2px rgba(60, 64, 67, 0.3), 0px 1px 3px 1px rgba(60, 64, 67, 0.15);\n",
              "      fill: #174EA6;\n",
              "    }\n",
              "\n",
              "    .colab-df-buttons div {\n",
              "      margin-bottom: 4px;\n",
              "    }\n",
              "\n",
              "    [theme=dark] .colab-df-convert {\n",
              "      background-color: #3B4455;\n",
              "      fill: #D2E3FC;\n",
              "    }\n",
              "\n",
              "    [theme=dark] .colab-df-convert:hover {\n",
              "      background-color: #434B5C;\n",
              "      box-shadow: 0px 1px 3px 1px rgba(0, 0, 0, 0.15);\n",
              "      filter: drop-shadow(0px 1px 2px rgba(0, 0, 0, 0.3));\n",
              "      fill: #FFFFFF;\n",
              "    }\n",
              "  </style>\n",
              "\n",
              "    <script>\n",
              "      const buttonEl =\n",
              "        document.querySelector('#df-54ca7353-d68b-4c57-8259-0ac6e64fc715 button.colab-df-convert');\n",
              "      buttonEl.style.display =\n",
              "        google.colab.kernel.accessAllowed ? 'block' : 'none';\n",
              "\n",
              "      async function convertToInteractive(key) {\n",
              "        const element = document.querySelector('#df-54ca7353-d68b-4c57-8259-0ac6e64fc715');\n",
              "        const dataTable =\n",
              "          await google.colab.kernel.invokeFunction('convertToInteractive',\n",
              "                                                    [key], {});\n",
              "        if (!dataTable) return;\n",
              "\n",
              "        const docLinkHtml = 'Like what you see? Visit the ' +\n",
              "          '<a target=\"_blank\" href=https://colab.research.google.com/notebooks/data_table.ipynb>data table notebook</a>'\n",
              "          + ' to learn more about interactive tables.';\n",
              "        element.innerHTML = '';\n",
              "        dataTable['output_type'] = 'display_data';\n",
              "        await google.colab.output.renderOutput(dataTable, element);\n",
              "        const docLink = document.createElement('div');\n",
              "        docLink.innerHTML = docLinkHtml;\n",
              "        element.appendChild(docLink);\n",
              "      }\n",
              "    </script>\n",
              "  </div>\n",
              "\n",
              "\n",
              "<div id=\"df-075571c2-ec26-44fc-ab3f-8132bac632cd\">\n",
              "  <button class=\"colab-df-quickchart\" onclick=\"quickchart('df-075571c2-ec26-44fc-ab3f-8132bac632cd')\"\n",
              "            title=\"Suggest charts\"\n",
              "            style=\"display:none;\">\n",
              "\n",
              "<svg xmlns=\"http://www.w3.org/2000/svg\" height=\"24px\"viewBox=\"0 0 24 24\"\n",
              "     width=\"24px\">\n",
              "    <g>\n",
              "        <path d=\"M19 3H5c-1.1 0-2 .9-2 2v14c0 1.1.9 2 2 2h14c1.1 0 2-.9 2-2V5c0-1.1-.9-2-2-2zM9 17H7v-7h2v7zm4 0h-2V7h2v10zm4 0h-2v-4h2v4z\"/>\n",
              "    </g>\n",
              "</svg>\n",
              "  </button>\n",
              "\n",
              "<style>\n",
              "  .colab-df-quickchart {\n",
              "      --bg-color: #E8F0FE;\n",
              "      --fill-color: #1967D2;\n",
              "      --hover-bg-color: #E2EBFA;\n",
              "      --hover-fill-color: #174EA6;\n",
              "      --disabled-fill-color: #AAA;\n",
              "      --disabled-bg-color: #DDD;\n",
              "  }\n",
              "\n",
              "  [theme=dark] .colab-df-quickchart {\n",
              "      --bg-color: #3B4455;\n",
              "      --fill-color: #D2E3FC;\n",
              "      --hover-bg-color: #434B5C;\n",
              "      --hover-fill-color: #FFFFFF;\n",
              "      --disabled-bg-color: #3B4455;\n",
              "      --disabled-fill-color: #666;\n",
              "  }\n",
              "\n",
              "  .colab-df-quickchart {\n",
              "    background-color: var(--bg-color);\n",
              "    border: none;\n",
              "    border-radius: 50%;\n",
              "    cursor: pointer;\n",
              "    display: none;\n",
              "    fill: var(--fill-color);\n",
              "    height: 32px;\n",
              "    padding: 0;\n",
              "    width: 32px;\n",
              "  }\n",
              "\n",
              "  .colab-df-quickchart:hover {\n",
              "    background-color: var(--hover-bg-color);\n",
              "    box-shadow: 0 1px 2px rgba(60, 64, 67, 0.3), 0 1px 3px 1px rgba(60, 64, 67, 0.15);\n",
              "    fill: var(--button-hover-fill-color);\n",
              "  }\n",
              "\n",
              "  .colab-df-quickchart-complete:disabled,\n",
              "  .colab-df-quickchart-complete:disabled:hover {\n",
              "    background-color: var(--disabled-bg-color);\n",
              "    fill: var(--disabled-fill-color);\n",
              "    box-shadow: none;\n",
              "  }\n",
              "\n",
              "  .colab-df-spinner {\n",
              "    border: 2px solid var(--fill-color);\n",
              "    border-color: transparent;\n",
              "    border-bottom-color: var(--fill-color);\n",
              "    animation:\n",
              "      spin 1s steps(1) infinite;\n",
              "  }\n",
              "\n",
              "  @keyframes spin {\n",
              "    0% {\n",
              "      border-color: transparent;\n",
              "      border-bottom-color: var(--fill-color);\n",
              "      border-left-color: var(--fill-color);\n",
              "    }\n",
              "    20% {\n",
              "      border-color: transparent;\n",
              "      border-left-color: var(--fill-color);\n",
              "      border-top-color: var(--fill-color);\n",
              "    }\n",
              "    30% {\n",
              "      border-color: transparent;\n",
              "      border-left-color: var(--fill-color);\n",
              "      border-top-color: var(--fill-color);\n",
              "      border-right-color: var(--fill-color);\n",
              "    }\n",
              "    40% {\n",
              "      border-color: transparent;\n",
              "      border-right-color: var(--fill-color);\n",
              "      border-top-color: var(--fill-color);\n",
              "    }\n",
              "    60% {\n",
              "      border-color: transparent;\n",
              "      border-right-color: var(--fill-color);\n",
              "    }\n",
              "    80% {\n",
              "      border-color: transparent;\n",
              "      border-right-color: var(--fill-color);\n",
              "      border-bottom-color: var(--fill-color);\n",
              "    }\n",
              "    90% {\n",
              "      border-color: transparent;\n",
              "      border-bottom-color: var(--fill-color);\n",
              "    }\n",
              "  }\n",
              "</style>\n",
              "\n",
              "  <script>\n",
              "    async function quickchart(key) {\n",
              "      const quickchartButtonEl =\n",
              "        document.querySelector('#' + key + ' button');\n",
              "      quickchartButtonEl.disabled = true;  // To prevent multiple clicks.\n",
              "      quickchartButtonEl.classList.add('colab-df-spinner');\n",
              "      try {\n",
              "        const charts = await google.colab.kernel.invokeFunction(\n",
              "            'suggestCharts', [key], {});\n",
              "      } catch (error) {\n",
              "        console.error('Error during call to suggestCharts:', error);\n",
              "      }\n",
              "      quickchartButtonEl.classList.remove('colab-df-spinner');\n",
              "      quickchartButtonEl.classList.add('colab-df-quickchart-complete');\n",
              "    }\n",
              "    (() => {\n",
              "      let quickchartButtonEl =\n",
              "        document.querySelector('#df-075571c2-ec26-44fc-ab3f-8132bac632cd button');\n",
              "      quickchartButtonEl.style.display =\n",
              "        google.colab.kernel.accessAllowed ? 'block' : 'none';\n",
              "    })();\n",
              "  </script>\n",
              "</div>\n",
              "    </div>\n",
              "  </div>\n"
            ],
            "application/vnd.google.colaboratory.intrinsic+json": {
              "type": "dataframe",
              "variable_name": "df_data",
              "summary": "{\n  \"name\": \"df_data\",\n  \"rows\": 252,\n  \"fields\": [\n    {\n      \"column\": \"AGE DURING ADMISSION\",\n      \"properties\": {\n        \"dtype\": \"number\",\n        \"std\": 0.42780132753728234,\n        \"min\": 19.0,\n        \"max\": 22.0,\n        \"num_unique_values\": 4,\n        \"samples\": [\n          20.0,\n          22.0,\n          21.0\n        ],\n        \"semantic_type\": \"\",\n        \"description\": \"\"\n      }\n    },\n    {\n      \"column\": \"TOTAL_SEM\",\n      \"properties\": {\n        \"dtype\": \"number\",\n        \"std\": 0.6789794477708159,\n        \"min\": 3.0,\n        \"max\": 6.0,\n        \"num_unique_values\": 4,\n        \"samples\": [\n          5.0,\n          6.0,\n          4.0\n        ],\n        \"semantic_type\": \"\",\n        \"description\": \"\"\n      }\n    },\n    {\n      \"column\": \"AVERAGE_CGPA\",\n      \"properties\": {\n        \"dtype\": \"number\",\n        \"std\": 0.16232087087146405,\n        \"min\": 3.2260000000000004,\n        \"max\": 4.0,\n        \"num_unique_values\": 209,\n        \"samples\": [\n          3.668,\n          3.588,\n          3.7100000000000004\n        ],\n        \"semantic_type\": \"\",\n        \"description\": \"\"\n      }\n    },\n    {\n      \"column\": \"FINAL_CGPA\",\n      \"properties\": {\n        \"dtype\": \"number\",\n        \"std\": 0.13738436034567386,\n        \"min\": 3.41,\n        \"max\": 4.0,\n        \"num_unique_values\": 52,\n        \"samples\": [\n          3.49,\n          3.87,\n          3.58\n        ],\n        \"semantic_type\": \"\",\n        \"description\": \"\"\n      }\n    },\n    {\n      \"column\": \"GRADING.1\",\n      \"properties\": {\n        \"dtype\": \"category\",\n        \"num_unique_values\": 4,\n        \"samples\": [\n          \"B\",\n          \"A\",\n          \"C\"\n        ],\n        \"semantic_type\": \"\",\n        \"description\": \"\"\n      }\n    }\n  ]\n}"
            }
          },
          "metadata": {},
          "execution_count": 16
        }
      ]
    },
    {
      "cell_type": "code",
      "source": [
        "x = df_data.drop(\"GRADING.1\", axis =1)\n",
        "y = df_data['GRADING.1']\n",
        "x = x.values\n",
        "x"
      ],
      "metadata": {
        "colab": {
          "base_uri": "https://localhost:8080/"
        },
        "id": "hL-jsHpv4eYN",
        "outputId": "4b596d3b-66d5-4062-d811-a16b26c7f37e"
      },
      "execution_count": null,
      "outputs": [
        {
          "output_type": "execute_result",
          "data": {
            "text/plain": [
              "array([[21.        ,  4.        ,  3.4825    ,  3.63      ],\n",
              "       [20.        ,  5.        ,  3.698     ,  3.72      ],\n",
              "       [20.        ,  5.        ,  3.46      ,  3.6       ],\n",
              "       ...,\n",
              "       [20.        ,  5.        ,  4.        ,  4.        ],\n",
              "       [20.        ,  5.        ,  3.514     ,  3.51      ],\n",
              "       [19.        ,  3.        ,  3.68333333,  3.66      ]])"
            ]
          },
          "metadata": {},
          "execution_count": 17
        }
      ]
    },
    {
      "cell_type": "code",
      "source": [
        "from sklearn.model_selection import train_test_split\n",
        "\n",
        "x_train, x_test, y_train, y_test = train_test_split(x, y, test_size=0.4, random_state=2022)"
      ],
      "metadata": {
        "id": "9hLNJvA14jIj"
      },
      "execution_count": null,
      "outputs": []
    },
    {
      "cell_type": "code",
      "source": [
        "y_train.value_counts()"
      ],
      "metadata": {
        "colab": {
          "base_uri": "https://localhost:8080/"
        },
        "id": "Vj7Nt_9Y4l-Z",
        "outputId": "0b0054b2-89ee-4ec9-ea76-b544315266c0"
      },
      "execution_count": null,
      "outputs": [
        {
          "output_type": "execute_result",
          "data": {
            "text/plain": [
              "GRADING.1\n",
              "B    82\n",
              "C    59\n",
              "A     8\n",
              "F     2\n",
              "Name: count, dtype: int64"
            ]
          },
          "metadata": {},
          "execution_count": 19
        }
      ]
    },
    {
      "cell_type": "code",
      "source": [
        "y_test.value_counts()"
      ],
      "metadata": {
        "colab": {
          "base_uri": "https://localhost:8080/"
        },
        "id": "qWu03f6b4opM",
        "outputId": "f7feab7e-69b1-4214-dd4b-5cbcfd0c870a"
      },
      "execution_count": null,
      "outputs": [
        {
          "output_type": "execute_result",
          "data": {
            "text/plain": [
              "GRADING.1\n",
              "B    48\n",
              "C    40\n",
              "A     8\n",
              "F     5\n",
              "Name: count, dtype: int64"
            ]
          },
          "metadata": {},
          "execution_count": 20
        }
      ]
    },
    {
      "cell_type": "code",
      "source": [
        "from imblearn.over_sampling import SMOTE\n",
        "sm = SMOTE(sampling_strategy='auto', random_state=2022, k_neighbors=1)\n",
        "x_train, y_train = sm.fit_resample(x_train, y_train)\n",
        "\n",
        "y_train.value_counts()"
      ],
      "metadata": {
        "colab": {
          "base_uri": "https://localhost:8080/"
        },
        "id": "zz5CgSNf4tAD",
        "outputId": "96bf35a3-7b7c-4295-ec25-bdaff12d9bdc"
      },
      "execution_count": null,
      "outputs": [
        {
          "output_type": "execute_result",
          "data": {
            "text/plain": [
              "GRADING.1\n",
              "C    82\n",
              "B    82\n",
              "A    82\n",
              "F    82\n",
              "Name: count, dtype: int64"
            ]
          },
          "metadata": {},
          "execution_count": 21
        }
      ]
    },
    {
      "cell_type": "code",
      "source": [
        "# Model Development\n",
        "from sklearn.linear_model import LogisticRegression\n",
        "\n",
        "log_reg = LogisticRegression()\n",
        "log_reg.fit(x_train, y_train)\n",
        "\n",
        "y_pred = log_reg.predict(x_train)\n",
        "\n",
        "print(classification_report(y_train, y_pred))\n",
        "print(confusion_matrix(y_train, y_pred))"
      ],
      "metadata": {
        "colab": {
          "base_uri": "https://localhost:8080/"
        },
        "id": "Qdf7scx94xTi",
        "outputId": "dcb50261-aac4-4e48-b956-bee26eaeb7ae"
      },
      "execution_count": null,
      "outputs": [
        {
          "output_type": "stream",
          "name": "stdout",
          "text": [
            "              precision    recall  f1-score   support\n",
            "\n",
            "           A       0.44      0.59      0.50        82\n",
            "           B       0.29      0.09      0.13        82\n",
            "           C       0.51      0.52      0.51        82\n",
            "           F       0.75      1.00      0.85        82\n",
            "\n",
            "    accuracy                           0.55       328\n",
            "   macro avg       0.50      0.55      0.50       328\n",
            "weighted avg       0.50      0.55      0.50       328\n",
            "\n",
            "[[48  9 25  0]\n",
            " [40  7 17 18]\n",
            " [21  8 43 10]\n",
            " [ 0  0  0 82]]\n"
          ]
        },
        {
          "output_type": "stream",
          "name": "stderr",
          "text": [
            "/usr/local/lib/python3.10/dist-packages/sklearn/linear_model/_logistic.py:458: ConvergenceWarning: lbfgs failed to converge (status=1):\n",
            "STOP: TOTAL NO. of ITERATIONS REACHED LIMIT.\n",
            "\n",
            "Increase the number of iterations (max_iter) or scale the data as shown in:\n",
            "    https://scikit-learn.org/stable/modules/preprocessing.html\n",
            "Please also refer to the documentation for alternative solver options:\n",
            "    https://scikit-learn.org/stable/modules/linear_model.html#logistic-regression\n",
            "  n_iter_i = _check_optimize_result(\n"
          ]
        }
      ]
    },
    {
      "cell_type": "code",
      "source": [
        "y_pred = log_reg.predict(x_test)\n",
        "\n",
        "print(classification_report(y_test, y_pred))\n",
        "print(confusion_matrix(y_test, y_pred))"
      ],
      "metadata": {
        "colab": {
          "base_uri": "https://localhost:8080/"
        },
        "id": "Z3p2ik6f4THS",
        "outputId": "20e6283d-dc67-4b46-e0d1-696708218375"
      },
      "execution_count": null,
      "outputs": [
        {
          "output_type": "stream",
          "name": "stdout",
          "text": [
            "              precision    recall  f1-score   support\n",
            "\n",
            "           A       0.22      1.00      0.36         8\n",
            "           B       0.53      0.17      0.25        48\n",
            "           C       0.53      0.42      0.47        40\n",
            "           F       0.06      0.20      0.09         5\n",
            "\n",
            "    accuracy                           0.34       101\n",
            "   macro avg       0.33      0.45      0.29       101\n",
            "weighted avg       0.48      0.34      0.34       101\n",
            "\n",
            "[[ 8  0  0  0]\n",
            " [19  8 13  8]\n",
            " [ 9  6 17  8]\n",
            " [ 1  1  2  1]]\n"
          ]
        }
      ]
    },
    {
      "cell_type": "code",
      "source": [
        "# Compute False Positive Rate\n",
        "def calculate_false_positive_rate(conf_matrix):\n",
        "    fp = conf_matrix.sum(axis=0) - np.diag(conf_matrix)\n",
        "    tn = conf_matrix.sum() - (conf_matrix.sum(axis=0) + conf_matrix.sum(axis=1) - np.diag(conf_matrix))\n",
        "    fp_rate = fp / (fp + tn)\n",
        "    return fp_rate\n",
        "\n",
        "# Compute confusion matrix for test set\n",
        "conf_matrix_test = confusion_matrix(y_test, y_pred)\n",
        "\n",
        "# Calculate False Positive Rate (FPR)\n",
        "fp_rate = calculate_false_positive_rate(conf_matrix_test)\n",
        "print(\"False Positive Rate for each class:\", fp_rate)\n",
        "\n",
        "# Calculate Macro-average FPR\n",
        "macro_avg_fpr = np.mean(fp_rate)\n",
        "print(\"Macro-average FPR:\", macro_avg_fpr)\n",
        "\n",
        "# Micro-average FPR\n",
        "total_fp = np.sum(conf_matrix_test.sum(axis=1) - np.diag(conf_matrix_test))\n",
        "total_tn = np.sum(conf_matrix_test.sum() - (conf_matrix_test.sum(axis=0) + conf_matrix_test.sum(axis=1) - np.diag(conf_matrix_test)))\n",
        "micro_avg_fpr = total_fp / (total_fp + total_tn)\n",
        "print(\"Micro-average FPR:\", micro_avg_fpr)\n",
        "\n",
        "# Weighted-average FPR\n",
        "class_counts = np.sum(conf_matrix_test, axis=1)\n",
        "weighted_avg_fpr = np.sum(fp_rate * class_counts) / np.sum(class_counts)\n",
        "print(\"Weighted-average FPR:\", weighted_avg_fpr)\n",
        "\n",
        "# Calculate Logarithmic Loss\n",
        "log_loss_test = log_loss(y_test, log_reg.predict_proba(x_test))\n",
        "print(\"Logarithmic Loss on Test Set:\", log_loss_test)\n",
        "\n",
        "# Visualize False Positive Rate\n",
        "plt.figure(figsize=(8, 6))\n",
        "plt.bar(np.arange(len(fp_rate)), fp_rate)\n",
        "plt.xlabel('Class')\n",
        "plt.ylabel('False Positive Rate')\n",
        "plt.title('False Positive Rate for each class')\n",
        "plt.xticks(np.arange(len(fp_rate)), np.unique(y_test))\n",
        "plt.show()"
      ],
      "metadata": {
        "colab": {
          "base_uri": "https://localhost:8080/",
          "height": 651
        },
        "id": "IsQ4j0JG494X",
        "outputId": "e96e07b9-8a62-4cb6-ed64-1278b8d11cc5"
      },
      "execution_count": null,
      "outputs": [
        {
          "output_type": "stream",
          "name": "stdout",
          "text": [
            "False Positive Rate for each class: [0.31182796 0.13207547 0.24590164 0.16666667]\n",
            "Macro-average FPR: 0.21411793367457235\n",
            "Micro-average FPR: 0.22112211221122113\n",
            "Weighted-average FPR: 0.1931053980646261\n",
            "Logarithmic Loss on Test Set: 1.288981535080954\n"
          ]
        },
        {
          "output_type": "display_data",
          "data": {
            "text/plain": [
              "<Figure size 800x600 with 1 Axes>"
            ],
            "image/png": "[encoded data removed]"
          },
          "metadata": {}
        }
      ]
    },
    {
      "cell_type": "code",
      "source": [
        "from sklearn.metrics import accuracy_score, precision_score, f1_score, recall_score\n",
        "\n",
        "\n",
        "\n",
        "predictions = log_reg.predict(x_test)\n",
        "\n",
        "accuracy = accuracy_score(y_test, predictions)\n",
        "precision = precision_score(y_test, predictions, average='macro', zero_division=1,)\n",
        "f1 = f1_score(y_test, predictions, average='macro', zero_division=1)\n",
        "recall = recall_score(y_test, predictions, average='macro', zero_division=1)\n",
        "\n",
        "print(\"Acurracy (macro average):\", accuracy)\n",
        "print(\"Precision (macro average):\", precision)\n",
        "print(\"f1_score (macro average):\", f1)\n",
        "print(\"recall (macro average):\", recall)"
      ],
      "metadata": {
        "colab": {
          "base_uri": "https://localhost:8080/"
        },
        "id": "pUL-3PTA51ey",
        "outputId": "ca7dde96-563c-4d84-bc74-5c7623558cb7"
      },
      "execution_count": null,
      "outputs": [
        {
          "output_type": "stream",
          "name": "stdout",
          "text": [
            "Acurracy (macro average): 0.33663366336633666\n",
            "Precision (macro average): 0.33490576974032854\n",
            "f1_score (macro average): 0.2931637806637806\n",
            "recall (macro average): 0.4479166666666667\n"
          ]
        }
      ]
    },
    {
      "cell_type": "code",
      "source": [
        "from sklearn.metrics import accuracy_score, precision_score, f1_score, recall_score\n",
        "\n",
        "\n",
        "\n",
        "predictions = log_reg.predict(x_train)\n",
        "\n",
        "accuracy = accuracy_score(y_train, predictions)\n",
        "precision = precision_score(y_train, predictions, average='macro')\n",
        "f1 = f1_score(y_train, predictions, average='macro')\n",
        "recall = recall_score(y_train, predictions, average='macro')\n",
        "\n",
        "print(\"Acurracy (macro average):\", accuracy)\n",
        "print(\"Precision (macro average):\", precision)\n",
        "print(\"f1_score (macro average):\", f1)\n",
        "print(\"recall (macro average):\", recall)"
      ],
      "metadata": {
        "colab": {
          "base_uri": "https://localhost:8080/"
        },
        "id": "YzK_hBkF4WRz",
        "outputId": "5730cba8-f169-4802-fd02-603b06176ed7"
      },
      "execution_count": null,
      "outputs": [
        {
          "output_type": "stream",
          "name": "stdout",
          "text": [
            "Acurracy (macro average): 0.5487804878048781\n",
            "Precision (macro average): 0.4958426343848632\n",
            "f1_score (macro average): 0.500957499823035\n",
            "recall (macro average): 0.5487804878048781\n"
          ]
        }
      ]
    },
    {
      "cell_type": "code",
      "source": [
        "from sklearn import tree\n",
        "clf = tree.DecisionTreeClassifier(max_depth=5,random_state= 2022)\n",
        "clf = clf.fit(x_train, y_train)\n",
        "\n",
        "y_pred = clf.predict(x_train)\n",
        "\n",
        "print(classification_report(y_train, y_pred))\n",
        "print(confusion_matrix(y_train, y_pred))"
      ],
      "metadata": {
        "colab": {
          "base_uri": "https://localhost:8080/"
        },
        "id": "-LC41kXd5MOX",
        "outputId": "6b1894d2-b975-4ad7-9c13-a7519f927bdc"
      },
      "execution_count": null,
      "outputs": [
        {
          "output_type": "stream",
          "name": "stdout",
          "text": [
            "              precision    recall  f1-score   support\n",
            "\n",
            "           A       0.86      0.68      0.76        82\n",
            "           B       0.70      0.63      0.67        82\n",
            "           C       0.57      0.74      0.65        82\n",
            "           F       1.00      1.00      1.00        82\n",
            "\n",
            "    accuracy                           0.77       328\n",
            "   macro avg       0.78      0.77      0.77       328\n",
            "weighted avg       0.78      0.77      0.77       328\n",
            "\n",
            "[[56  4 22  0]\n",
            " [ 6 52 24  0]\n",
            " [ 3 18 61  0]\n",
            " [ 0  0  0 82]]\n"
          ]
        }
      ]
    },
    {
      "cell_type": "code",
      "source": [
        "y_pred = clf.predict(x_test)\n",
        "\n",
        "print(classification_report(y_test, y_pred))\n",
        "print(confusion_matrix(y_test, y_pred))"
      ],
      "metadata": {
        "colab": {
          "base_uri": "https://localhost:8080/"
        },
        "id": "-zq_4kBc4bUJ",
        "outputId": "55fb1443-af92-49df-9102-6252b0e874f1"
      },
      "execution_count": null,
      "outputs": [
        {
          "output_type": "stream",
          "name": "stdout",
          "text": [
            "              precision    recall  f1-score   support\n",
            "\n",
            "           A       0.12      0.12      0.12         8\n",
            "           B       0.45      0.48      0.46        48\n",
            "           C       0.46      0.47      0.47        40\n",
            "           F       0.00      0.00      0.00         5\n",
            "\n",
            "    accuracy                           0.43       101\n",
            "   macro avg       0.26      0.27      0.26       101\n",
            "weighted avg       0.41      0.43      0.42       101\n",
            "\n",
            "[[ 1  7  0  0]\n",
            " [ 5 23 20  0]\n",
            " [ 2 18 19  1]\n",
            " [ 0  3  2  0]]\n"
          ]
        }
      ]
    },
    {
      "cell_type": "code",
      "source": [
        "# Compute False Positive Rate\n",
        "def calculate_false_positive_rate(conf_matrix):\n",
        "    fp = conf_matrix.sum(axis=0) - np.diag(conf_matrix)\n",
        "    tn = conf_matrix.sum() - (conf_matrix.sum(axis=0) + conf_matrix.sum(axis=1) - np.diag(conf_matrix))\n",
        "    fp_rate = fp / (fp + tn)\n",
        "    return fp_rate\n",
        "\n",
        "# Compute confusion matrix for test set\n",
        "conf_matrix_test = confusion_matrix(y_test, y_pred)\n",
        "\n",
        "# Calculate False Positive Rate\n",
        "fp_rate = calculate_false_positive_rate(conf_matrix_test)\n",
        "print(\"False Positive Rate for each class:\", fp_rate)\n",
        "\n",
        "# Calculate Macro-average FPR\n",
        "macro_avg_fpr = np.mean(fp_rate)\n",
        "print(\"Macro-average FPR:\", macro_avg_fpr)\n",
        "\n",
        "# Micro-average FPR\n",
        "total_fp = np.sum(conf_matrix_test.sum(axis=1) - np.diag(conf_matrix_test))\n",
        "total_tn = np.sum(conf_matrix_test.sum() - (conf_matrix_test.sum(axis=0) + conf_matrix_test.sum(axis=1) - np.diag(conf_matrix_test)))\n",
        "micro_avg_fpr = total_fp / (total_fp + total_tn)\n",
        "print(\"Micro-average FPR:\", micro_avg_fpr)\n",
        "\n",
        "# Weighted-average FPR\n",
        "class_counts = np.sum(conf_matrix_test, axis=1)\n",
        "weighted_avg_fpr = np.sum(fp_rate * class_counts) / np.sum(class_counts)\n",
        "print(\"Weighted-average FPR:\", weighted_avg_fpr)\n",
        "\n",
        "# Calculate Logarithmic Loss\n",
        "log_loss_test = log_loss(y_test, clf.predict_proba(x_test))\n",
        "print(\"Logarithmic Loss on Test Set:\", log_loss_test)\n",
        "\n",
        "# Visualize False Positive Rate\n",
        "plt.figure(figsize=(8, 6))\n",
        "plt.bar(np.arange(len(fp_rate)), fp_rate)\n",
        "plt.xlabel('Class')\n",
        "plt.ylabel('False Positive Rate')\n",
        "plt.title('False Positive Rate for each class')\n",
        "plt.xticks(np.arange(len(fp_rate)), np.unique(y_test))\n",
        "plt.show()"
      ],
      "metadata": {
        "colab": {
          "base_uri": "https://localhost:8080/",
          "height": 651
        },
        "id": "0ZncTLqy5KDY",
        "outputId": "f3cec6c0-8320-4316-b8da-974e6154add8"
      },
      "execution_count": null,
      "outputs": [
        {
          "output_type": "stream",
          "name": "stdout",
          "text": [
            "False Positive Rate for each class: [0.07526882 0.52830189 0.36065574 0.01041667]\n",
            "Macro-average FPR: 0.24366077709208464\n",
            "Micro-average FPR: 0.19141914191419143\n",
            "Weighted-average FPR: 0.40038568262576435\n",
            "Logarithmic Loss on Test Set: 5.581581984583667\n"
          ]
        },
        {
          "output_type": "display_data",
          "data": {
            "text/plain": [
              "<Figure size 800x600 with 1 Axes>"
            ],
            "image/png": "[encoded data removed]"
          },
          "metadata": {}
        }
      ]
    },
    {
      "cell_type": "code",
      "source": [
        "from sklearn.metrics import accuracy_score, precision_score, f1_score, recall_score\n",
        "\n",
        "\n",
        "\n",
        "predictions = clf.predict(x_test)\n",
        "\n",
        "accuracy = accuracy_score(y_test, predictions)\n",
        "precision = precision_score(y_test, predictions, average='macro', zero_division=1,)\n",
        "f1 = f1_score(y_test, predictions, average='macro', zero_division=1)\n",
        "recall = recall_score(y_test, predictions, average='macro', zero_division=1)\n",
        "\n",
        "print(\"Acurracy (macro average):\", accuracy)\n",
        "print(\"Precision (macro average):\", precision)\n",
        "print(\"f1_score (macro average):\", f1)\n",
        "print(\"recall (macro average):\", recall)"
      ],
      "metadata": {
        "colab": {
          "base_uri": "https://localhost:8080/"
        },
        "id": "BLoN93rJ5eKQ",
        "outputId": "350ecce1-6752-45a7-839a-4dd8dc686da6"
      },
      "execution_count": null,
      "outputs": [
        {
          "output_type": "stream",
          "name": "stdout",
          "text": [
            "Acurracy (macro average): 0.42574257425742573\n",
            "Precision (macro average): 0.25984875657580103\n",
            "f1_score (macro average): 0.2646955667789001\n",
            "recall (macro average): 0.26979166666666665\n"
          ]
        }
      ]
    },
    {
      "cell_type": "code",
      "source": [
        "from sklearn.metrics import accuracy_score, precision_score, f1_score, recall_score\n",
        "\n",
        "\n",
        "\n",
        "predictions = clf.predict(x_train)\n",
        "\n",
        "accuracy = accuracy_score(y_train, predictions)\n",
        "precision = precision_score(y_train, predictions, average='macro')\n",
        "f1 = f1_score(y_train, predictions, average='macro')\n",
        "recall = recall_score(y_train, predictions, average='macro')\n",
        "\n",
        "print(\"Acurracy (macro average):\", accuracy)\n",
        "print(\"Precision (macro average):\", precision)\n",
        "print(\"f1_score (macro average):\", f1)\n",
        "print(\"recall (macro average):\", recall)"
      ],
      "metadata": {
        "colab": {
          "base_uri": "https://localhost:8080/"
        },
        "id": "-nGeu65R4fFY",
        "outputId": "abd6261e-2571-44ab-ec16-f9aaaa770d55"
      },
      "execution_count": null,
      "outputs": [
        {
          "output_type": "stream",
          "name": "stdout",
          "text": [
            "Acurracy (macro average): 0.7652439024390244\n",
            "Precision (macro average): 0.7835836555462723\n",
            "f1_score (macro average): 0.7685185185185185\n",
            "recall (macro average): 0.7652439024390244\n"
          ]
        }
      ]
    },
    {
      "cell_type": "code",
      "source": [
        "from sklearn.tree import export_graphviz\n",
        "export_graphviz(\n",
        "    clf,\n",
        "    out_file = \"MICROBIOLOGY MARK.dot\",\n",
        "    feature_names = ['AGE DURING ADMISSION', 'TOTAL_SEM', 'AVERAGE_CGPA', 'FINAL_CGPA'],\n",
        "    class_names = ['A','B', 'C', 'F' ],\n",
        "    rounded= True,\n",
        "    filled =True)"
      ],
      "metadata": {
        "id": "jbxArHkD4fyb"
      },
      "execution_count": null,
      "outputs": []
    },
    {
      "cell_type": "code",
      "source": [
        "from sklearn.ensemble import RandomForestClassifier\n",
        "clf1 = RandomForestClassifier(max_depth=5,random_state= 2022)\n",
        "clf1 = clf1.fit(x_train, y_train)\n",
        "\n",
        "y_pred = clf1.predict(x_train)\n",
        "y_pred\n",
        "\n",
        "print(classification_report(y_train, y_pred))\n",
        "print(confusion_matrix(y_train, y_pred))"
      ],
      "metadata": {
        "colab": {
          "base_uri": "https://localhost:8080/"
        },
        "id": "ChrKhBQ-5VBo",
        "outputId": "1749ca15-1f97-4b4d-e246-9403d21071c1"
      },
      "execution_count": null,
      "outputs": [
        {
          "output_type": "stream",
          "name": "stdout",
          "text": [
            "              precision    recall  f1-score   support\n",
            "\n",
            "           A       0.88      0.74      0.81        82\n",
            "           B       0.78      0.71      0.74        82\n",
            "           C       0.63      0.79      0.70        82\n",
            "           F       1.00      1.00      1.00        82\n",
            "\n",
            "    accuracy                           0.81       328\n",
            "   macro avg       0.82      0.81      0.81       328\n",
            "weighted avg       0.82      0.81      0.81       328\n",
            "\n",
            "[[61  2 19  0]\n",
            " [ 5 58 19  0]\n",
            " [ 3 14 65  0]\n",
            " [ 0  0  0 82]]\n"
          ]
        }
      ]
    },
    {
      "cell_type": "code",
      "source": [
        "y_pred = clf1.predict(x_test)\n",
        "\n",
        "print(classification_report(y_test, y_pred))\n",
        "print(confusion_matrix(y_test, y_pred))"
      ],
      "metadata": {
        "colab": {
          "base_uri": "https://localhost:8080/"
        },
        "id": "ax7dfzi-4kMb",
        "outputId": "e32a9d2a-ae37-45b0-bcd2-05f261dd576f"
      },
      "execution_count": null,
      "outputs": [
        {
          "output_type": "stream",
          "name": "stdout",
          "text": [
            "              precision    recall  f1-score   support\n",
            "\n",
            "           A       0.17      0.25      0.20         8\n",
            "           B       0.46      0.46      0.46        48\n",
            "           C       0.46      0.45      0.46        40\n",
            "           F       0.00      0.00      0.00         5\n",
            "\n",
            "    accuracy                           0.42       101\n",
            "   macro avg       0.27      0.29      0.28       101\n",
            "weighted avg       0.41      0.42      0.41       101\n",
            "\n",
            "[[ 2  6  0  0]\n",
            " [ 7 22 19  0]\n",
            " [ 3 17 18  2]\n",
            " [ 0  3  2  0]]\n"
          ]
        }
      ]
    },
    {
      "cell_type": "code",
      "source": [
        "# Compute False Positive Rate\n",
        "def calculate_false_positive_rate(conf_matrix):\n",
        "    fp = conf_matrix.sum(axis=0) - np.diag(conf_matrix)\n",
        "    tn = conf_matrix.sum() - (conf_matrix.sum(axis=0) + conf_matrix.sum(axis=1) - np.diag(conf_matrix))\n",
        "    fp_rate = fp / (fp + tn)\n",
        "    return fp_rate\n",
        "\n",
        "# Compute confusion matrix for test set\n",
        "conf_matrix_test = confusion_matrix(y_test, y_pred)\n",
        "\n",
        "# Calculate False Positive Rate\n",
        "fp_rate = calculate_false_positive_rate(conf_matrix_test)\n",
        "print(\"False Positive Rate for each class:\", fp_rate)\n",
        "\n",
        "# Calculate Macro-average FPR\n",
        "macro_avg_fpr = np.mean(fp_rate)\n",
        "print(\"Macro-average FPR:\", macro_avg_fpr)\n",
        "\n",
        "# Micro-average FPR\n",
        "total_fp = np.sum(conf_matrix_test.sum(axis=1) - np.diag(conf_matrix_test))\n",
        "total_tn = np.sum(conf_matrix_test.sum() - (conf_matrix_test.sum(axis=0) + conf_matrix_test.sum(axis=1) - np.diag(conf_matrix_test)))\n",
        "micro_avg_fpr = total_fp / (total_fp + total_tn)\n",
        "print(\"Micro-average FPR:\", micro_avg_fpr)\n",
        "\n",
        "# Weighted-average FPR\n",
        "class_counts = np.sum(conf_matrix_test, axis=1)\n",
        "weighted_avg_fpr = np.sum(fp_rate * class_counts) / np.sum(class_counts)\n",
        "print(\"Weighted-average FPR:\", weighted_avg_fpr)\n",
        "\n",
        "# Calculate Logarithmic Loss\n",
        "log_loss_test = log_loss(y_test, clf1.predict_proba(x_test))\n",
        "print(\"Logarithmic Loss on Test Set:\", log_loss_test)\n",
        "\n",
        "# Visualize False Positive Rate\n",
        "plt.figure(figsize=(8, 6))\n",
        "plt.bar(np.arange(len(fp_rate)), fp_rate)\n",
        "plt.xlabel('Class')\n",
        "plt.ylabel('False Positive Rate')\n",
        "plt.title('False Positive Rate for each class')\n",
        "plt.xticks(np.arange(len(fp_rate)), np.unique(y_test))\n",
        "plt.show()"
      ],
      "metadata": {
        "colab": {
          "base_uri": "https://localhost:8080/",
          "height": 651
        },
        "id": "TgwXCPAS5UFJ",
        "outputId": "3907402a-b8fb-43fe-9d67-684143c230f7"
      },
      "execution_count": null,
      "outputs": [
        {
          "output_type": "stream",
          "name": "stdout",
          "text": [
            "False Positive Rate for each class: [0.10752688 0.49056604 0.3442623  0.02083333]\n",
            "Macro-average FPR: 0.24079713696789493\n",
            "Micro-average FPR: 0.19471947194719472\n",
            "Weighted-average FPR: 0.3790301320299955\n",
            "Logarithmic Loss on Test Set: 1.9388144821734443\n"
          ]
        },
        {
          "output_type": "display_data",
          "data": {
            "text/plain": [
              "<Figure size 800x600 with 1 Axes>"
            ],
            "image/png": "[encoded data removed]"
          },
          "metadata": {}
        }
      ]
    },
    {
      "cell_type": "code",
      "source": [
        "from sklearn.metrics import accuracy_score, precision_score, f1_score, recall_score\n",
        "\n",
        "\n",
        "\n",
        "predictions = clf1.predict(x_test)\n",
        "\n",
        "accuracy = accuracy_score(y_test, predictions)\n",
        "precision = precision_score(y_test, predictions, average='macro', zero_division=1,)\n",
        "f1 = f1_score(y_test, predictions, average='macro', zero_division=1)\n",
        "recall = recall_score(y_test, predictions, average='macro', zero_division=1)\n",
        "\n",
        "print(\"Acurracy (macro average):\", accuracy)\n",
        "print(\"Precision (macro average):\", precision)\n",
        "print(\"f1_score (macro average):\", f1)\n",
        "print(\"recall (macro average):\", recall)"
      ],
      "metadata": {
        "colab": {
          "base_uri": "https://localhost:8080/"
        },
        "id": "jjbEDwES5Kfg",
        "outputId": "5e7d9905-475e-4b1e-92a9-62dd18421fb3"
      },
      "execution_count": null,
      "outputs": [
        {
          "output_type": "stream",
          "name": "stdout",
          "text": [
            "Acurracy (macro average): 0.4158415841584158\n",
            "Precision (macro average): 0.2716346153846154\n",
            "f1_score (macro average): 0.27850738396624475\n",
            "recall (macro average): 0.2895833333333333\n"
          ]
        }
      ]
    },
    {
      "cell_type": "code",
      "source": [
        "from sklearn.metrics import accuracy_score, precision_score, f1_score, recall_score\n",
        "\n",
        "\n",
        "\n",
        "predictions = clf1.predict(x_train)\n",
        "\n",
        "accuracy = accuracy_score(y_train, predictions)\n",
        "precision = precision_score(y_train, predictions, average='macro')\n",
        "f1 = f1_score(y_train, predictions, average='macro')\n",
        "recall = recall_score(y_train, predictions, average='macro')\n",
        "\n",
        "print(\"Acurracy (macro average):\", accuracy)\n",
        "print(\"Precision (macro average):\", precision)\n",
        "print(\"f1_score (macro average):\", f1)\n",
        "print(\"recall (macro average):\", recall)"
      ],
      "metadata": {
        "colab": {
          "base_uri": "https://localhost:8080/"
        },
        "id": "EBp4fSnk4owE",
        "outputId": "e0c1f2de-cf56-4816-cf86-de9c399a21bc"
      },
      "execution_count": null,
      "outputs": [
        {
          "output_type": "stream",
          "name": "stdout",
          "text": [
            "Acurracy (macro average): 0.8109756097560976\n",
            "Precision (macro average): 0.8247274289908313\n",
            "f1_score (macro average): 0.813559866539999\n",
            "recall (macro average): 0.8109756097560976\n"
          ]
        }
      ]
    },
    {
      "cell_type": "code",
      "source": [
        "from sklearn.pipeline import make_pipeline\n",
        "from sklearn.preprocessing import StandardScaler\n",
        "from sklearn.svm import SVC\n",
        "\n",
        "clf2 = make_pipeline(StandardScaler(), SVC(gamma='auto'))\n",
        "clf2.fit(x_train, y_train)\n",
        "\n",
        "y_pred = clf2.predict(x_train)\n",
        "\n",
        "print(classification_report(y_train, y_pred))\n",
        "print(confusion_matrix(y_train, y_pred))"
      ],
      "metadata": {
        "id": "QpdNa6NJ5bgk",
        "outputId": "a458722b-dcd3-4c03-e124-0b3fd58821d8",
        "colab": {
          "base_uri": "https://localhost:8080/"
        }
      },
      "execution_count": null,
      "outputs": [
        {
          "output_type": "stream",
          "name": "stdout",
          "text": [
            "              precision    recall  f1-score   support\n",
            "\n",
            "           A       0.71      0.68      0.70        82\n",
            "           B       0.59      0.65      0.62        82\n",
            "           C       0.54      0.45      0.49        82\n",
            "           F       0.91      1.00      0.95        82\n",
            "\n",
            "    accuracy                           0.70       328\n",
            "   macro avg       0.69      0.70      0.69       328\n",
            "weighted avg       0.69      0.70      0.69       328\n",
            "\n",
            "[[56  7 19  0]\n",
            " [12 53 13  4]\n",
            " [11 30 37  4]\n",
            " [ 0  0  0 82]]\n"
          ]
        }
      ]
    },
    {
      "cell_type": "code",
      "source": [
        "y_pred = clf2.predict(x_test)\n",
        "\n",
        "print(classification_report(y_test, y_pred))\n",
        "print(confusion_matrix(y_test, y_pred))"
      ],
      "metadata": {
        "id": "9C4QOM8n5fch",
        "colab": {
          "base_uri": "https://localhost:8080/"
        },
        "outputId": "31f16a77-272e-40be-dfe9-9ff4639bd19f"
      },
      "execution_count": null,
      "outputs": [
        {
          "output_type": "stream",
          "name": "stdout",
          "text": [
            "              precision    recall  f1-score   support\n",
            "\n",
            "           A       0.18      0.38      0.24         8\n",
            "           B       0.48      0.52      0.50        48\n",
            "           C       0.54      0.38      0.44        40\n",
            "           F       0.00      0.00      0.00         5\n",
            "\n",
            "    accuracy                           0.43       101\n",
            "   macro avg       0.30      0.32      0.30       101\n",
            "weighted avg       0.45      0.43      0.43       101\n",
            "\n",
            "[[ 3  5  0  0]\n",
            " [12 25 11  0]\n",
            " [ 2 19 15  4]\n",
            " [ 0  3  2  0]]\n"
          ]
        }
      ]
    },
    {
      "cell_type": "code",
      "source": [
        "# Compute False Positive Rate\n",
        "def calculate_false_positive_rate(conf_matrix):\n",
        "    fp = conf_matrix.sum(axis=0) - np.diag(conf_matrix)\n",
        "    tn = conf_matrix.sum() - (conf_matrix.sum(axis=0) + conf_matrix.sum(axis=1) - np.diag(conf_matrix))\n",
        "    fp_rate = fp / (fp + tn)\n",
        "    return fp_rate\n",
        "\n",
        "# Compute confusion matrix for test set\n",
        "conf_matrix_test = confusion_matrix(y_test, y_pred)\n",
        "\n",
        "# Calculate False Positive Rate\n",
        "fp_rate = calculate_false_positive_rate(conf_matrix_test)\n",
        "print(\"False Positive Rate for each class:\", fp_rate)\n",
        "\n",
        "# Calculate Macro-average FPR\n",
        "macro_avg_fpr = np.mean(fp_rate)\n",
        "print(\"Macro-average FPR:\", macro_avg_fpr)\n",
        "\n",
        "# Micro-average FPR\n",
        "total_fp = np.sum(conf_matrix_test.sum(axis=1) - np.diag(conf_matrix_test))\n",
        "total_tn = np.sum(conf_matrix_test.sum() - (conf_matrix_test.sum(axis=0) + conf_matrix_test.sum(axis=1) - np.diag(conf_matrix_test)))\n",
        "micro_avg_fpr = total_fp / (total_fp + total_tn)\n",
        "print(\"Micro-average FPR:\", micro_avg_fpr)\n",
        "\n",
        "# Weighted-average FPR\n",
        "class_counts = np.sum(conf_matrix_test, axis=1)\n",
        "weighted_avg_fpr = np.sum(fp_rate * class_counts) / np.sum(class_counts)\n",
        "print(\"Weighted-average FPR:\", weighted_avg_fpr)\n",
        "\n",
        "# Calculate decision scores for each class\n",
        "decision_scores = clf2.decision_function(x_test)\n",
        "\n",
        "# Convert decision scores into probabilities using Platt scaling\n",
        "from sklearn.calibration import CalibratedClassifierCV\n",
        "\n",
        "calibrated_clf = CalibratedClassifierCV(clf2, method='sigmoid')\n",
        "calibrated_clf.fit(x_train, y_train)\n",
        "probabilities = calibrated_clf.predict_proba(x_test)\n",
        "\n",
        "# Calculate Logarithmic Loss\n",
        "log_loss_test = log_loss(y_test, probabilities)\n",
        "print(\"Logarithmic Loss on Test Set:\", log_loss_test)\n",
        "\n",
        "# Visualize False Positive Rate\n",
        "plt.figure(figsize=(8, 6))\n",
        "plt.bar(np.arange(len(fp_rate)), fp_rate)\n",
        "plt.xlabel('Class')\n",
        "plt.ylabel('False Positive Rate')\n",
        "plt.title('False Positive Rate for each class')\n",
        "plt.xticks(np.arange(len(fp_rate)), np.unique(y_test))\n",
        "plt.show()"
      ],
      "metadata": {
        "colab": {
          "base_uri": "https://localhost:8080/",
          "height": 651
        },
        "id": "2H5_zz_D5dgA",
        "outputId": "1a3d92fa-10f5-4e3b-9636-3a138e282d25"
      },
      "execution_count": null,
      "outputs": [
        {
          "output_type": "stream",
          "name": "stdout",
          "text": [
            "False Positive Rate for each class: [0.15053763 0.50943396 0.21311475 0.04166667]\n",
            "Macro-average FPR: 0.2286882543594451\n",
            "Micro-average FPR: 0.19141914191419143\n",
            "Weighted-average FPR: 0.34049559169520616\n",
            "Logarithmic Loss on Test Set: 1.2539195165271186\n"
          ]
        },
        {
          "output_type": "display_data",
          "data": {
            "text/plain": [
              "<Figure size 800x600 with 1 Axes>"
            ],
            "image/png": "[encoded data removed]"
          },
          "metadata": {}
        }
      ]
    },
    {
      "cell_type": "code",
      "source": [
        "from sklearn.metrics import accuracy_score, precision_score, f1_score, recall_score\n",
        "\n",
        "\n",
        "\n",
        "predictions = clf2.predict(x_train)\n",
        "\n",
        "accuracy = accuracy_score(y_train, predictions)\n",
        "precision = precision_score(y_train, predictions, average='macro')\n",
        "f1 = f1_score(y_train, predictions, average='macro')\n",
        "recall = recall_score(y_train, predictions, average='macro')\n",
        "\n",
        "print(\"Acurracy (macro average):\", accuracy)\n",
        "print(\"Precision (macro average):\", precision)\n",
        "print(\"f1_score (macro average):\", f1)\n",
        "print(\"recall (macro average):\", recall)"
      ],
      "metadata": {
        "colab": {
          "base_uri": "https://localhost:8080/"
        },
        "id": "Va8fO1UQ40Ex",
        "outputId": "4b17ae2e-f3f7-4969-fa07-67128df77b99"
      },
      "execution_count": null,
      "outputs": [
        {
          "output_type": "stream",
          "name": "stdout",
          "text": [
            "Acurracy (macro average): 0.6951219512195121\n",
            "Precision (macro average): 0.6862731608879105\n",
            "f1_score (macro average): 0.688871460234768\n",
            "recall (macro average): 0.6951219512195121\n"
          ]
        }
      ]
    },
    {
      "cell_type": "code",
      "source": [
        "from sklearn.metrics import accuracy_score, precision_score, f1_score, recall_score\n",
        "\n",
        "\n",
        "\n",
        "predictions = clf2.predict(x_test)\n",
        "\n",
        "accuracy = accuracy_score(y_test, predictions)\n",
        "precision = precision_score(y_test, predictions, average='macro', zero_division=1,)\n",
        "f1 = f1_score(y_test, predictions, average='macro', zero_division=1)\n",
        "recall = recall_score(y_test, predictions, average='macro', zero_division=1)\n",
        "\n",
        "print(\"Acurracy (macro average):\", accuracy)\n",
        "print(\"Precision (macro average):\", precision)\n",
        "print(\"f1_score (macro average):\", f1)\n",
        "print(\"recall (macro average):\", recall)"
      ],
      "metadata": {
        "id": "0sJ3qSzZ6Ut1",
        "colab": {
          "base_uri": "https://localhost:8080/"
        },
        "outputId": "eb625b76-49a5-4f06-e4d6-a690428d45a0"
      },
      "execution_count": null,
      "outputs": [
        {
          "output_type": "stream",
          "name": "stdout",
          "text": [
            "Acurracy (macro average): 0.42574257425742573\n",
            "Precision (macro average): 0.29823852617970265\n",
            "f1_score (macro average): 0.2952941176470588\n",
            "recall (macro average): 0.31770833333333337\n"
          ]
        }
      ]
    },
    {
      "cell_type": "code",
      "source": [],
      "metadata": {
        "id": "sIpM1qrH4_TM"
      },
      "execution_count": null,
      "outputs": []
    }
  ]
}